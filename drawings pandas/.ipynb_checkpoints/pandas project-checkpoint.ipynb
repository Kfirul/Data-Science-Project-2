{
 "cells": [
  {
   "cell_type": "code",
   "execution_count": 1,
   "id": "667d772f",
   "metadata": {},
   "outputs": [],
   "source": [
    "import pandas as pd\n",
    "import numpy as np\n",
    "import seaborn as sns"
   ]
  },
  {
   "cell_type": "code",
   "execution_count": 18,
   "id": "474a2300",
   "metadata": {},
   "outputs": [],
   "source": [
    "dfs = []\n",
    "for i in range(1,22):\n",
    "    dfs.append(pd.read_csv(r'C:\\Users\\97253\\git\\Data-Science-Project-2\\dravings pandas\\train\\7554\\SimpleTest\\\\' + str(i) + '.csv'))"
   ]
  },
  {
   "cell_type": "code",
   "execution_count": 36,
   "id": "8668ddf6",
   "metadata": {},
   "outputs": [],
   "source": [
    "for df in dfs:\n",
    "    df[' Time'] = pd.to_datetime(df[' Time'])"
   ]
  },
  {
   "cell_type": "code",
   "execution_count": 49,
   "id": "f0fa8dc1",
   "metadata": {},
   "outputs": [
    {
     "data": {
      "text/plain": [
       "Index(['X', ' Y', ' Pressure', ' TiltX', ' TiltY', ' Time'], dtype='object')"
      ]
     },
     "execution_count": 49,
     "metadata": {},
     "output_type": "execute_result"
    }
   ],
   "source": [
    "dfs[0].columns"
   ]
  },
  {
   "cell_type": "code",
   "execution_count": 65,
   "id": "c215ffb0",
   "metadata": {
    "scrolled": true
   },
   "outputs": [
    {
     "data": {
      "text/plain": [
       "31"
      ]
     },
     "execution_count": 65,
     "metadata": {},
     "output_type": "execute_result"
    }
   ],
   "source": [
    "dfs[0][' Time'][0].second"
   ]
  },
  {
   "cell_type": "code",
   "execution_count": 52,
   "id": "44d767d4",
   "metadata": {},
   "outputs": [
    {
     "data": {
      "text/html": [
       "<div>\n",
       "<style scoped>\n",
       "    .dataframe tbody tr th:only-of-type {\n",
       "        vertical-align: middle;\n",
       "    }\n",
       "\n",
       "    .dataframe tbody tr th {\n",
       "        vertical-align: top;\n",
       "    }\n",
       "\n",
       "    .dataframe thead th {\n",
       "        text-align: right;\n",
       "    }\n",
       "</style>\n",
       "<table border=\"1\" class=\"dataframe\">\n",
       "  <thead>\n",
       "    <tr style=\"text-align: right;\">\n",
       "      <th></th>\n",
       "      <th>X</th>\n",
       "      <th>Y</th>\n",
       "      <th>Pressure</th>\n",
       "      <th>TiltX</th>\n",
       "      <th>TiltY</th>\n",
       "      <th>Time</th>\n",
       "    </tr>\n",
       "  </thead>\n",
       "  <tbody>\n",
       "    <tr>\n",
       "      <th>0</th>\n",
       "      <td>910.472802864072</td>\n",
       "      <td>888.302113</td>\n",
       "      <td>0.094224</td>\n",
       "      <td>-3875.0</td>\n",
       "      <td>-351.0</td>\n",
       "      <td>2022-06-06 00:05:53</td>\n",
       "    </tr>\n",
       "    <tr>\n",
       "      <th>1</th>\n",
       "      <td>910.472802864072</td>\n",
       "      <td>888.302113</td>\n",
       "      <td>0.099107</td>\n",
       "      <td>-3875.0</td>\n",
       "      <td>-351.0</td>\n",
       "      <td>2022-06-06 00:05:54</td>\n",
       "    </tr>\n",
       "    <tr>\n",
       "      <th>2</th>\n",
       "      <td>910.472802864072</td>\n",
       "      <td>888.302113</td>\n",
       "      <td>0.123278</td>\n",
       "      <td>-3875.0</td>\n",
       "      <td>-351.0</td>\n",
       "      <td>2022-06-06 00:05:55</td>\n",
       "    </tr>\n",
       "    <tr>\n",
       "      <th>3</th>\n",
       "      <td>910.472802864072</td>\n",
       "      <td>888.302113</td>\n",
       "      <td>0.129137</td>\n",
       "      <td>-3875.0</td>\n",
       "      <td>-351.0</td>\n",
       "      <td>2022-06-06 00:05:56</td>\n",
       "    </tr>\n",
       "    <tr>\n",
       "      <th>4</th>\n",
       "      <td>909.840859221619</td>\n",
       "      <td>888.460099</td>\n",
       "      <td>0.137926</td>\n",
       "      <td>-3875.0</td>\n",
       "      <td>-351.0</td>\n",
       "      <td>2022-06-06 00:05:57</td>\n",
       "    </tr>\n",
       "    <tr>\n",
       "      <th>...</th>\n",
       "      <td>...</td>\n",
       "      <td>...</td>\n",
       "      <td>...</td>\n",
       "      <td>...</td>\n",
       "      <td>...</td>\n",
       "      <td>...</td>\n",
       "    </tr>\n",
       "    <tr>\n",
       "      <th>1180</th>\n",
       "      <td>870.449705508719</td>\n",
       "      <td>822.264003</td>\n",
       "      <td>0.682368</td>\n",
       "      <td>-3761.0</td>\n",
       "      <td>823.0</td>\n",
       "      <td>2022-06-06 00:23:46</td>\n",
       "    </tr>\n",
       "    <tr>\n",
       "      <th>1181</th>\n",
       "      <td>870.449705508719</td>\n",
       "      <td>822.264003</td>\n",
       "      <td>0.673579</td>\n",
       "      <td>-3761.0</td>\n",
       "      <td>823.0</td>\n",
       "      <td>2022-06-06 00:23:46</td>\n",
       "    </tr>\n",
       "    <tr>\n",
       "      <th>1182</th>\n",
       "      <td>870.713015359741</td>\n",
       "      <td>822.369327</td>\n",
       "      <td>0.644038</td>\n",
       "      <td>-3761.0</td>\n",
       "      <td>823.0</td>\n",
       "      <td>2022-06-06 00:23:46</td>\n",
       "    </tr>\n",
       "    <tr>\n",
       "      <th>1183</th>\n",
       "      <td>Time Elapsed till drawing started: 00:05.8895936</td>\n",
       "      <td>NaN</td>\n",
       "      <td>NaN</td>\n",
       "      <td>NaN</td>\n",
       "      <td>NaN</td>\n",
       "      <td>NaT</td>\n",
       "    </tr>\n",
       "    <tr>\n",
       "      <th>1184</th>\n",
       "      <td>Time Elapsed till drawing submit: 00:26.1312267</td>\n",
       "      <td>NaN</td>\n",
       "      <td>NaN</td>\n",
       "      <td>NaN</td>\n",
       "      <td>NaN</td>\n",
       "      <td>NaT</td>\n",
       "    </tr>\n",
       "  </tbody>\n",
       "</table>\n",
       "<p>1185 rows × 6 columns</p>\n",
       "</div>"
      ],
      "text/plain": [
       "                                                     X           Y   Pressure  \\\n",
       "0                                     910.472802864072  888.302113   0.094224   \n",
       "1                                     910.472802864072  888.302113   0.099107   \n",
       "2                                     910.472802864072  888.302113   0.123278   \n",
       "3                                     910.472802864072  888.302113   0.129137   \n",
       "4                                     909.840859221619  888.460099   0.137926   \n",
       "...                                                ...         ...        ...   \n",
       "1180                                  870.449705508719  822.264003   0.682368   \n",
       "1181                                  870.449705508719  822.264003   0.673579   \n",
       "1182                                  870.713015359741  822.369327   0.644038   \n",
       "1183  Time Elapsed till drawing started: 00:05.8895936         NaN        NaN   \n",
       "1184   Time Elapsed till drawing submit: 00:26.1312267         NaN        NaN   \n",
       "\n",
       "       TiltX   TiltY                Time  \n",
       "0    -3875.0  -351.0 2022-06-06 00:05:53  \n",
       "1    -3875.0  -351.0 2022-06-06 00:05:54  \n",
       "2    -3875.0  -351.0 2022-06-06 00:05:55  \n",
       "3    -3875.0  -351.0 2022-06-06 00:05:56  \n",
       "4    -3875.0  -351.0 2022-06-06 00:05:57  \n",
       "...      ...     ...                 ...  \n",
       "1180 -3761.0   823.0 2022-06-06 00:23:46  \n",
       "1181 -3761.0   823.0 2022-06-06 00:23:46  \n",
       "1182 -3761.0   823.0 2022-06-06 00:23:46  \n",
       "1183     NaN     NaN                 NaT  \n",
       "1184     NaN     NaN                 NaT  \n",
       "\n",
       "[1185 rows x 6 columns]"
      ]
     },
     "execution_count": 52,
     "metadata": {},
     "output_type": "execute_result"
    }
   ],
   "source": [
    "dfs[0]"
   ]
  },
  {
   "cell_type": "code",
   "execution_count": 66,
   "id": "f73f2068",
   "metadata": {},
   "outputs": [],
   "source": [
    "import random\n",
    "import matplotlib\n",
    "from matplotlib import animation\n",
    "import matplotlib.pyplot as plt\n",
    "from matplotlib.animation import FuncAnimation\n",
    "from itertools import count\n",
    "%matplotlib qt"
   ]
  },
  {
   "cell_type": "code",
   "execution_count": 82,
   "id": "bc21d11e",
   "metadata": {},
   "outputs": [
    {
     "data": {
      "text/plain": [
       "<matplotlib.animation.FuncAnimation at 0x21781e18160>"
      ]
     },
     "execution_count": 82,
     "metadata": {},
     "output_type": "execute_result"
    }
   ],
   "source": [
    "import matplotlib.pyplot as plt\n",
    "from matplotlib.animation import FuncAnimation\n",
    "%matplotlib qt\n",
    "\n",
    "fig = plt.figure(figsize=(6,4))\n",
    "axes = fig.add_subplot(1,1,1)\n",
    "plt.title(\"Dynamic Axes\")\n",
    "\n",
    "y1 = dfs[1][' Y']\n",
    "t = dfs[1]['X']\n",
    "x,y=[] , []\n",
    "\n",
    "def animate(i):\n",
    "    x.append(t[i])\n",
    "    y.append((y1[i]))\n",
    "    plt.plot(x,y, scaley=True, scalex=True, color=\"green\")\n",
    "\n",
    "FuncAnimation(fig, animate, interval=100)"
   ]
  },
  {
   "cell_type": "code",
   "execution_count": 81,
   "id": "05af599e",
   "metadata": {},
   "outputs": [
    {
     "data": {
      "text/plain": [
       "<matplotlib.animation.FuncAnimation at 0x21781d82f40>"
      ]
     },
     "execution_count": 81,
     "metadata": {},
     "output_type": "execute_result"
    }
   ],
   "source": [
    "import matplotlib.pyplot as plt\n",
    "from matplotlib.animation import FuncAnimation\n",
    "%matplotlib qt\n",
    "\n",
    "fig = plt.figure(figsize=(6,4))\n",
    "axes = fig.add_subplot(1,1,1)\n",
    "plt.title(\"Dynamic Axes\")\n",
    "\n",
    "y1 = [random.randint(-10,10)+(i**1.6)/(random.randint(9,12)) for i in range(0,280,2)]\n",
    "t = range(len(y1))\n",
    "x,y=[], []\n",
    "\n",
    "def animate(i):\n",
    "    x.append(t[i])\n",
    "    y.append((y1[i]))\n",
    "    plt.xlim(i-30,i+3)\n",
    "    axes.set_ylim(y1[i]-100, y1[i]+100)\n",
    "    plt.plot(x,y, scaley=True, scalex=True, color=\"red\")\n",
    "\n",
    "anim = FuncAnimation(fig, animate, interval=100)\n",
    "anim"
   ]
  },
  {
   "cell_type": "code",
   "execution_count": null,
   "id": "f823522a",
   "metadata": {},
   "outputs": [],
   "source": []
  },
  {
   "cell_type": "code",
   "execution_count": null,
   "id": "e2eca263",
   "metadata": {},
   "outputs": [],
   "source": []
  }
 ],
 "metadata": {
  "kernelspec": {
   "display_name": "Python 3",
   "language": "python",
   "name": "python3"
  },
  "language_info": {
   "codemirror_mode": {
    "name": "ipython",
    "version": 3
   },
   "file_extension": ".py",
   "mimetype": "text/x-python",
   "name": "python",
   "nbconvert_exporter": "python",
   "pygments_lexer": "ipython3",
   "version": "3.8.8"
  }
 },
 "nbformat": 4,
 "nbformat_minor": 5
}
