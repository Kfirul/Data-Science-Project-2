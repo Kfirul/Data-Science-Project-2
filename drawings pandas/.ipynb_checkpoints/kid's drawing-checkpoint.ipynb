{
 "cells": [
  {
   "cell_type": "markdown",
   "id": "ce44da79",
   "metadata": {},
   "source": [
    "# Kid's Drawings"
   ]
  },
  {
   "cell_type": "markdown",
   "id": "233f7f12",
   "metadata": {},
   "source": [
    "### Imports"
   ]
  },
  {
   "cell_type": "code",
   "execution_count": 30,
   "id": "7817a788",
   "metadata": {},
   "outputs": [],
   "source": [
    "import pandas as pd\n",
    "import numpy as np\n",
    "import seaborn as sns\n",
    "import random\n",
    "import matplotlib\n",
    "import matplotlib.pyplot as plt\n",
    "import math \n",
    "import warnings\n",
    "warnings.filterwarnings('ignore')"
   ]
  },
  {
   "cell_type": "markdown",
   "id": "eb95d2de",
   "metadata": {},
   "source": [
    "#### Collect all the pictures into list of Dataframes"
   ]
  },
  {
   "cell_type": "code",
   "execution_count": 2,
   "id": "2b02fe49",
   "metadata": {},
   "outputs": [],
   "source": [
    "dfs = []\n",
    "for i in range(1,22):\n",
    "    dfs.append(pd.read_csv('C:\\\\Users\\\\Shlomit\\\\Desktop\\\\Data-Science-project-2\\\\drawings pandas\\\\train\\\\7554\\\\SimpleTest\\\\' + str(i) + '.csv'))"
   ]
  },
  {
   "cell_type": "code",
   "execution_count": 3,
   "id": "8692c6b4",
   "metadata": {},
   "outputs": [],
   "source": [
    "for df in dfs:\n",
    "    df[' Time'] = pd.to_datetime(df[' Time'])"
   ]
  },
  {
   "cell_type": "code",
   "execution_count": 4,
   "id": "8d5cd5a2",
   "metadata": {},
   "outputs": [
    {
     "data": {
      "text/html": [
       "<div>\n",
       "<style scoped>\n",
       "    .dataframe tbody tr th:only-of-type {\n",
       "        vertical-align: middle;\n",
       "    }\n",
       "\n",
       "    .dataframe tbody tr th {\n",
       "        vertical-align: top;\n",
       "    }\n",
       "\n",
       "    .dataframe thead th {\n",
       "        text-align: right;\n",
       "    }\n",
       "</style>\n",
       "<table border=\"1\" class=\"dataframe\">\n",
       "  <thead>\n",
       "    <tr style=\"text-align: right;\">\n",
       "      <th></th>\n",
       "      <th>X</th>\n",
       "      <th>Y</th>\n",
       "      <th>Pressure</th>\n",
       "      <th>TiltX</th>\n",
       "      <th>TiltY</th>\n",
       "      <th>Time</th>\n",
       "    </tr>\n",
       "  </thead>\n",
       "  <tbody>\n",
       "    <tr>\n",
       "      <th>0</th>\n",
       "      <td>925.902760133965</td>\n",
       "      <td>665.541979</td>\n",
       "      <td>0.045884</td>\n",
       "      <td>-4917.0</td>\n",
       "      <td>669.0</td>\n",
       "      <td>2022-06-13 00:12:36</td>\n",
       "    </tr>\n",
       "    <tr>\n",
       "      <th>1</th>\n",
       "      <td>925.902760133965</td>\n",
       "      <td>665.541979</td>\n",
       "      <td>0.045884</td>\n",
       "      <td>-4917.0</td>\n",
       "      <td>669.0</td>\n",
       "      <td>2022-06-13 00:12:37</td>\n",
       "    </tr>\n",
       "    <tr>\n",
       "      <th>2</th>\n",
       "      <td>926.692689687031</td>\n",
       "      <td>665.647303</td>\n",
       "      <td>0.082506</td>\n",
       "      <td>-4917.0</td>\n",
       "      <td>669.0</td>\n",
       "      <td>2022-06-13 00:12:38</td>\n",
       "    </tr>\n",
       "    <tr>\n",
       "      <th>3</th>\n",
       "      <td>927.008661508257</td>\n",
       "      <td>665.647303</td>\n",
       "      <td>0.115953</td>\n",
       "      <td>-4917.0</td>\n",
       "      <td>669.0</td>\n",
       "      <td>2022-06-13 00:12:39</td>\n",
       "    </tr>\n",
       "    <tr>\n",
       "      <th>4</th>\n",
       "      <td>927.324633329484</td>\n",
       "      <td>665.594641</td>\n",
       "      <td>0.140368</td>\n",
       "      <td>-4917.0</td>\n",
       "      <td>669.0</td>\n",
       "      <td>2022-06-13 00:12:41</td>\n",
       "    </tr>\n",
       "    <tr>\n",
       "      <th>...</th>\n",
       "      <td>...</td>\n",
       "      <td>...</td>\n",
       "      <td>...</td>\n",
       "      <td>...</td>\n",
       "      <td>...</td>\n",
       "      <td>...</td>\n",
       "    </tr>\n",
       "    <tr>\n",
       "      <th>129</th>\n",
       "      <td>584.863841090195</td>\n",
       "      <td>646.846980</td>\n",
       "      <td>0.386954</td>\n",
       "      <td>-4510.0</td>\n",
       "      <td>1946.0</td>\n",
       "      <td>2022-06-13 00:14:03</td>\n",
       "    </tr>\n",
       "    <tr>\n",
       "      <th>130</th>\n",
       "      <td>584.653193209377</td>\n",
       "      <td>646.741656</td>\n",
       "      <td>0.386954</td>\n",
       "      <td>-4501.0</td>\n",
       "      <td>1991.0</td>\n",
       "      <td>2022-06-13 00:14:04</td>\n",
       "    </tr>\n",
       "    <tr>\n",
       "      <th>131</th>\n",
       "      <td>584.653193209377</td>\n",
       "      <td>646.741656</td>\n",
       "      <td>0.389151</td>\n",
       "      <td>-4501.0</td>\n",
       "      <td>1991.0</td>\n",
       "      <td>2022-06-13 00:14:05</td>\n",
       "    </tr>\n",
       "    <tr>\n",
       "      <th>132</th>\n",
       "      <td>Time Elapsed till drawing started: 00:11.2234987</td>\n",
       "      <td>NaN</td>\n",
       "      <td>NaN</td>\n",
       "      <td>NaN</td>\n",
       "      <td>NaN</td>\n",
       "      <td>NaT</td>\n",
       "    </tr>\n",
       "    <tr>\n",
       "      <th>133</th>\n",
       "      <td>Time Elapsed till drawing submit: 00:17.1449348</td>\n",
       "      <td>NaN</td>\n",
       "      <td>NaN</td>\n",
       "      <td>NaN</td>\n",
       "      <td>NaN</td>\n",
       "      <td>NaT</td>\n",
       "    </tr>\n",
       "  </tbody>\n",
       "</table>\n",
       "<p>134 rows × 6 columns</p>\n",
       "</div>"
      ],
      "text/plain": [
       "                                                    X           Y   Pressure  \\\n",
       "0                                    925.902760133965  665.541979   0.045884   \n",
       "1                                    925.902760133965  665.541979   0.045884   \n",
       "2                                    926.692689687031  665.647303   0.082506   \n",
       "3                                    927.008661508257  665.647303   0.115953   \n",
       "4                                    927.324633329484  665.594641   0.140368   \n",
       "..                                                ...         ...        ...   \n",
       "129                                  584.863841090195  646.846980   0.386954   \n",
       "130                                  584.653193209377  646.741656   0.386954   \n",
       "131                                  584.653193209377  646.741656   0.389151   \n",
       "132  Time Elapsed till drawing started: 00:11.2234987         NaN        NaN   \n",
       "133   Time Elapsed till drawing submit: 00:17.1449348         NaN        NaN   \n",
       "\n",
       "      TiltX   TiltY                Time  \n",
       "0   -4917.0   669.0 2022-06-13 00:12:36  \n",
       "1   -4917.0   669.0 2022-06-13 00:12:37  \n",
       "2   -4917.0   669.0 2022-06-13 00:12:38  \n",
       "3   -4917.0   669.0 2022-06-13 00:12:39  \n",
       "4   -4917.0   669.0 2022-06-13 00:12:41  \n",
       "..      ...     ...                 ...  \n",
       "129 -4510.0  1946.0 2022-06-13 00:14:03  \n",
       "130 -4501.0  1991.0 2022-06-13 00:14:04  \n",
       "131 -4501.0  1991.0 2022-06-13 00:14:05  \n",
       "132     NaN     NaN                 NaT  \n",
       "133     NaN     NaN                 NaT  \n",
       "\n",
       "[134 rows x 6 columns]"
      ]
     },
     "execution_count": 4,
     "metadata": {},
     "output_type": "execute_result"
    }
   ],
   "source": [
    "dfs[0]"
   ]
  },
  {
   "cell_type": "code",
   "execution_count": 5,
   "id": "e3a4686e",
   "metadata": {},
   "outputs": [
    {
     "data": {
      "text/plain": [
       "36"
      ]
     },
     "execution_count": 5,
     "metadata": {},
     "output_type": "execute_result"
    }
   ],
   "source": [
    "dfs[0][' Time'][0].second"
   ]
  },
  {
   "cell_type": "markdown",
   "id": "be944a8a",
   "metadata": {},
   "source": [
    "#### Convert columns names"
   ]
  },
  {
   "cell_type": "code",
   "execution_count": 6,
   "id": "4929a7a4",
   "metadata": {},
   "outputs": [],
   "source": [
    "for i in range(21):\n",
    "    dfs[i] = dfs[i].rename({' Y':'Y',' Pressure':'Pressure',' TiltX':'TiltX',' TiltY':'TiltY',' Time':'Time'},axis=1)"
   ]
  },
  {
   "cell_type": "code",
   "execution_count": 7,
   "id": "ebbf82c8",
   "metadata": {},
   "outputs": [
    {
     "data": {
      "text/plain": [
       "Index(['X', 'Y', 'Pressure', 'TiltX', 'TiltY', 'Time'], dtype='object')"
      ]
     },
     "execution_count": 7,
     "metadata": {},
     "output_type": "execute_result"
    }
   ],
   "source": [
    "dfs[0].columns\n"
   ]
  },
  {
   "cell_type": "markdown",
   "id": "081acff5",
   "metadata": {},
   "source": [
    "#### Drop the last two rows"
   ]
  },
  {
   "cell_type": "code",
   "execution_count": 8,
   "id": "27314d0f",
   "metadata": {},
   "outputs": [],
   "source": [
    "for i in range(21):\n",
    "    dfs[i].drop(dfs[i].tail(2).index,inplace=True) "
   ]
  },
  {
   "cell_type": "markdown",
   "id": "478f0b21",
   "metadata": {},
   "source": [
    "#### Change X colmun to float"
   ]
  },
  {
   "cell_type": "code",
   "execution_count": 9,
   "id": "61e08e81",
   "metadata": {},
   "outputs": [],
   "source": [
    "for i in range(21):\n",
    "    dfs[i].X=dfs[i].X.astype(\"float\")\n"
   ]
  },
  {
   "cell_type": "code",
   "execution_count": 10,
   "id": "4d364e71",
   "metadata": {},
   "outputs": [
    {
     "name": "stdout",
     "output_type": "stream",
     "text": [
      "<class 'pandas.core.frame.DataFrame'>\n",
      "Int64Index: 527 entries, 0 to 526\n",
      "Data columns (total 6 columns):\n",
      " #   Column    Non-Null Count  Dtype         \n",
      "---  ------    --------------  -----         \n",
      " 0   X         527 non-null    float64       \n",
      " 1   Y         527 non-null    float64       \n",
      " 2   Pressure  527 non-null    float64       \n",
      " 3   TiltX     527 non-null    float64       \n",
      " 4   TiltY     527 non-null    float64       \n",
      " 5   Time      527 non-null    datetime64[ns]\n",
      "dtypes: datetime64[ns](1), float64(5)\n",
      "memory usage: 28.8 KB\n"
     ]
    }
   ],
   "source": [
    "dfs[11].info()"
   ]
  },
  {
   "cell_type": "code",
   "execution_count": 11,
   "id": "d2e41aa9",
   "metadata": {},
   "outputs": [
    {
     "data": {
      "text/html": [
       "<div>\n",
       "<style scoped>\n",
       "    .dataframe tbody tr th:only-of-type {\n",
       "        vertical-align: middle;\n",
       "    }\n",
       "\n",
       "    .dataframe tbody tr th {\n",
       "        vertical-align: top;\n",
       "    }\n",
       "\n",
       "    .dataframe thead th {\n",
       "        text-align: right;\n",
       "    }\n",
       "</style>\n",
       "<table border=\"1\" class=\"dataframe\">\n",
       "  <thead>\n",
       "    <tr style=\"text-align: right;\">\n",
       "      <th></th>\n",
       "      <th>X</th>\n",
       "      <th>Y</th>\n",
       "      <th>Pressure</th>\n",
       "      <th>TiltX</th>\n",
       "      <th>TiltY</th>\n",
       "      <th>Time</th>\n",
       "    </tr>\n",
       "  </thead>\n",
       "  <tbody>\n",
       "    <tr>\n",
       "      <th>0</th>\n",
       "      <td>925.902760</td>\n",
       "      <td>665.541979</td>\n",
       "      <td>0.045884</td>\n",
       "      <td>-4917.0</td>\n",
       "      <td>669.0</td>\n",
       "      <td>2022-06-13 00:12:36</td>\n",
       "    </tr>\n",
       "    <tr>\n",
       "      <th>1</th>\n",
       "      <td>925.902760</td>\n",
       "      <td>665.541979</td>\n",
       "      <td>0.045884</td>\n",
       "      <td>-4917.0</td>\n",
       "      <td>669.0</td>\n",
       "      <td>2022-06-13 00:12:37</td>\n",
       "    </tr>\n",
       "    <tr>\n",
       "      <th>2</th>\n",
       "      <td>926.692690</td>\n",
       "      <td>665.647303</td>\n",
       "      <td>0.082506</td>\n",
       "      <td>-4917.0</td>\n",
       "      <td>669.0</td>\n",
       "      <td>2022-06-13 00:12:38</td>\n",
       "    </tr>\n",
       "    <tr>\n",
       "      <th>3</th>\n",
       "      <td>927.008662</td>\n",
       "      <td>665.647303</td>\n",
       "      <td>0.115953</td>\n",
       "      <td>-4917.0</td>\n",
       "      <td>669.0</td>\n",
       "      <td>2022-06-13 00:12:39</td>\n",
       "    </tr>\n",
       "    <tr>\n",
       "      <th>4</th>\n",
       "      <td>927.324633</td>\n",
       "      <td>665.594641</td>\n",
       "      <td>0.140368</td>\n",
       "      <td>-4917.0</td>\n",
       "      <td>669.0</td>\n",
       "      <td>2022-06-13 00:12:41</td>\n",
       "    </tr>\n",
       "    <tr>\n",
       "      <th>...</th>\n",
       "      <td>...</td>\n",
       "      <td>...</td>\n",
       "      <td>...</td>\n",
       "      <td>...</td>\n",
       "      <td>...</td>\n",
       "      <td>...</td>\n",
       "    </tr>\n",
       "    <tr>\n",
       "      <th>127</th>\n",
       "      <td>585.495785</td>\n",
       "      <td>647.004966</td>\n",
       "      <td>0.378408</td>\n",
       "      <td>-4510.0</td>\n",
       "      <td>1946.0</td>\n",
       "      <td>2022-06-13 00:14:01</td>\n",
       "    </tr>\n",
       "    <tr>\n",
       "      <th>128</th>\n",
       "      <td>584.863841</td>\n",
       "      <td>646.846980</td>\n",
       "      <td>0.382803</td>\n",
       "      <td>-4510.0</td>\n",
       "      <td>1946.0</td>\n",
       "      <td>2022-06-13 00:14:02</td>\n",
       "    </tr>\n",
       "    <tr>\n",
       "      <th>129</th>\n",
       "      <td>584.863841</td>\n",
       "      <td>646.846980</td>\n",
       "      <td>0.386954</td>\n",
       "      <td>-4510.0</td>\n",
       "      <td>1946.0</td>\n",
       "      <td>2022-06-13 00:14:03</td>\n",
       "    </tr>\n",
       "    <tr>\n",
       "      <th>130</th>\n",
       "      <td>584.653193</td>\n",
       "      <td>646.741656</td>\n",
       "      <td>0.386954</td>\n",
       "      <td>-4501.0</td>\n",
       "      <td>1991.0</td>\n",
       "      <td>2022-06-13 00:14:04</td>\n",
       "    </tr>\n",
       "    <tr>\n",
       "      <th>131</th>\n",
       "      <td>584.653193</td>\n",
       "      <td>646.741656</td>\n",
       "      <td>0.389151</td>\n",
       "      <td>-4501.0</td>\n",
       "      <td>1991.0</td>\n",
       "      <td>2022-06-13 00:14:05</td>\n",
       "    </tr>\n",
       "  </tbody>\n",
       "</table>\n",
       "<p>132 rows × 6 columns</p>\n",
       "</div>"
      ],
      "text/plain": [
       "              X           Y  Pressure   TiltX   TiltY                Time\n",
       "0    925.902760  665.541979  0.045884 -4917.0   669.0 2022-06-13 00:12:36\n",
       "1    925.902760  665.541979  0.045884 -4917.0   669.0 2022-06-13 00:12:37\n",
       "2    926.692690  665.647303  0.082506 -4917.0   669.0 2022-06-13 00:12:38\n",
       "3    927.008662  665.647303  0.115953 -4917.0   669.0 2022-06-13 00:12:39\n",
       "4    927.324633  665.594641  0.140368 -4917.0   669.0 2022-06-13 00:12:41\n",
       "..          ...         ...       ...     ...     ...                 ...\n",
       "127  585.495785  647.004966  0.378408 -4510.0  1946.0 2022-06-13 00:14:01\n",
       "128  584.863841  646.846980  0.382803 -4510.0  1946.0 2022-06-13 00:14:02\n",
       "129  584.863841  646.846980  0.386954 -4510.0  1946.0 2022-06-13 00:14:03\n",
       "130  584.653193  646.741656  0.386954 -4501.0  1991.0 2022-06-13 00:14:04\n",
       "131  584.653193  646.741656  0.389151 -4501.0  1991.0 2022-06-13 00:14:05\n",
       "\n",
       "[132 rows x 6 columns]"
      ]
     },
     "execution_count": 11,
     "metadata": {},
     "output_type": "execute_result"
    }
   ],
   "source": [
    "dfs[0]"
   ]
  },
  {
   "cell_type": "markdown",
   "id": "c3fbb8bb",
   "metadata": {},
   "source": [
    "#### Plot some photos"
   ]
  },
  {
   "cell_type": "code",
   "execution_count": 13,
   "id": "15be9df6",
   "metadata": {},
   "outputs": [
    {
     "data": {
      "image/png": "[encoded data removed]",
      "text/plain": [
       "<Figure size 360x360 with 1 Axes>"
      ]
     },
     "metadata": {
      "needs_background": "light"
     },
     "output_type": "display_data"
    }
   ],
   "source": [
    "plt.figure (figsize = (5,5))\n",
    "plt.plot(dfs[2]['X'],-dfs[2]['Y'],'o')\n",
    "ax = plt.gca()\n"
   ]
  },
  {
   "cell_type": "code",
   "execution_count": 14,
   "id": "916df0b8",
   "metadata": {},
   "outputs": [
    {
     "data": {
      "image/png": "[encoded data removed]",
      "text/plain": [
       "<Figure size 360x360 with 1 Axes>"
      ]
     },
     "metadata": {
      "needs_background": "light"
     },
     "output_type": "display_data"
    }
   ],
   "source": [
    "plt.figure (figsize = (5,5))\n",
    "plt.plot(dfs[3]['X'],-dfs[3]['Y'],'o')\n",
    "ax = plt.gca()"
   ]
  },
  {
   "cell_type": "code",
   "execution_count": 15,
   "id": "4f32f2eb",
   "metadata": {},
   "outputs": [
    {
     "data": {
      "text/html": [
       "<div>\n",
       "<style scoped>\n",
       "    .dataframe tbody tr th:only-of-type {\n",
       "        vertical-align: middle;\n",
       "    }\n",
       "\n",
       "    .dataframe tbody tr th {\n",
       "        vertical-align: top;\n",
       "    }\n",
       "\n",
       "    .dataframe thead th {\n",
       "        text-align: right;\n",
       "    }\n",
       "</style>\n",
       "<table border=\"1\" class=\"dataframe\">\n",
       "  <thead>\n",
       "    <tr style=\"text-align: right;\">\n",
       "      <th></th>\n",
       "      <th>X</th>\n",
       "      <th>Y</th>\n",
       "      <th>Pressure</th>\n",
       "      <th>TiltX</th>\n",
       "      <th>TiltY</th>\n",
       "      <th>Time</th>\n",
       "    </tr>\n",
       "  </thead>\n",
       "  <tbody>\n",
       "    <tr>\n",
       "      <th>0</th>\n",
       "      <td>968.558956</td>\n",
       "      <td>611.089502</td>\n",
       "      <td>0.113756</td>\n",
       "      <td>-4045.0</td>\n",
       "      <td>1362.0</td>\n",
       "      <td>2022-06-13 00:08:25</td>\n",
       "    </tr>\n",
       "    <tr>\n",
       "      <th>1</th>\n",
       "      <td>968.874928</td>\n",
       "      <td>611.142164</td>\n",
       "      <td>0.115709</td>\n",
       "      <td>-4045.0</td>\n",
       "      <td>1362.0</td>\n",
       "      <td>2022-06-13 00:08:26</td>\n",
       "    </tr>\n",
       "    <tr>\n",
       "      <th>2</th>\n",
       "      <td>970.138815</td>\n",
       "      <td>611.036840</td>\n",
       "      <td>0.137194</td>\n",
       "      <td>-4045.0</td>\n",
       "      <td>1362.0</td>\n",
       "      <td>2022-06-13 00:08:27</td>\n",
       "    </tr>\n",
       "    <tr>\n",
       "      <th>3</th>\n",
       "      <td>970.402125</td>\n",
       "      <td>611.036840</td>\n",
       "      <td>0.207263</td>\n",
       "      <td>-4045.0</td>\n",
       "      <td>1362.0</td>\n",
       "      <td>2022-06-13 00:08:28</td>\n",
       "    </tr>\n",
       "    <tr>\n",
       "      <th>4</th>\n",
       "      <td>970.402125</td>\n",
       "      <td>611.036840</td>\n",
       "      <td>0.296376</td>\n",
       "      <td>-4045.0</td>\n",
       "      <td>1362.0</td>\n",
       "      <td>2022-06-13 00:08:29</td>\n",
       "    </tr>\n",
       "    <tr>\n",
       "      <th>...</th>\n",
       "      <td>...</td>\n",
       "      <td>...</td>\n",
       "      <td>...</td>\n",
       "      <td>...</td>\n",
       "      <td>...</td>\n",
       "      <td>...</td>\n",
       "    </tr>\n",
       "    <tr>\n",
       "      <th>817</th>\n",
       "      <td>879.033607</td>\n",
       "      <td>505.607576</td>\n",
       "      <td>0.625727</td>\n",
       "      <td>-3260.0</td>\n",
       "      <td>1718.0</td>\n",
       "      <td>2022-06-13 00:27:35</td>\n",
       "    </tr>\n",
       "    <tr>\n",
       "      <th>818</th>\n",
       "      <td>879.191593</td>\n",
       "      <td>505.449590</td>\n",
       "      <td>0.608148</td>\n",
       "      <td>-3260.0</td>\n",
       "      <td>1718.0</td>\n",
       "      <td>2022-06-13 00:27:36</td>\n",
       "    </tr>\n",
       "    <tr>\n",
       "      <th>819</th>\n",
       "      <td>879.454902</td>\n",
       "      <td>505.186280</td>\n",
       "      <td>0.596918</td>\n",
       "      <td>-3260.0</td>\n",
       "      <td>1718.0</td>\n",
       "      <td>2022-06-13 00:27:36</td>\n",
       "    </tr>\n",
       "    <tr>\n",
       "      <th>820</th>\n",
       "      <td>879.454902</td>\n",
       "      <td>505.186280</td>\n",
       "      <td>0.586175</td>\n",
       "      <td>-3260.0</td>\n",
       "      <td>1718.0</td>\n",
       "      <td>2022-06-13 00:27:37</td>\n",
       "    </tr>\n",
       "    <tr>\n",
       "      <th>821</th>\n",
       "      <td>879.454902</td>\n",
       "      <td>505.186280</td>\n",
       "      <td>0.549798</td>\n",
       "      <td>-3260.0</td>\n",
       "      <td>1718.0</td>\n",
       "      <td>2022-06-13 00:27:37</td>\n",
       "    </tr>\n",
       "  </tbody>\n",
       "</table>\n",
       "<p>822 rows × 6 columns</p>\n",
       "</div>"
      ],
      "text/plain": [
       "              X           Y  Pressure   TiltX   TiltY                Time\n",
       "0    968.558956  611.089502  0.113756 -4045.0  1362.0 2022-06-13 00:08:25\n",
       "1    968.874928  611.142164  0.115709 -4045.0  1362.0 2022-06-13 00:08:26\n",
       "2    970.138815  611.036840  0.137194 -4045.0  1362.0 2022-06-13 00:08:27\n",
       "3    970.402125  611.036840  0.207263 -4045.0  1362.0 2022-06-13 00:08:28\n",
       "4    970.402125  611.036840  0.296376 -4045.0  1362.0 2022-06-13 00:08:29\n",
       "..          ...         ...       ...     ...     ...                 ...\n",
       "817  879.033607  505.607576  0.625727 -3260.0  1718.0 2022-06-13 00:27:35\n",
       "818  879.191593  505.449590  0.608148 -3260.0  1718.0 2022-06-13 00:27:36\n",
       "819  879.454902  505.186280  0.596918 -3260.0  1718.0 2022-06-13 00:27:36\n",
       "820  879.454902  505.186280  0.586175 -3260.0  1718.0 2022-06-13 00:27:37\n",
       "821  879.454902  505.186280  0.549798 -3260.0  1718.0 2022-06-13 00:27:37\n",
       "\n",
       "[822 rows x 6 columns]"
      ]
     },
     "execution_count": 15,
     "metadata": {},
     "output_type": "execute_result"
    }
   ],
   "source": [
    "dfs[10]"
   ]
  },
  {
   "cell_type": "code",
   "execution_count": 16,
   "id": "16964cd8",
   "metadata": {},
   "outputs": [
    {
     "data": {
      "image/png": "[encoded data removed]",
      "text/plain": [
       "<Figure size 360x360 with 1 Axes>"
      ]
     },
     "metadata": {
      "needs_background": "light"
     },
     "output_type": "display_data"
    }
   ],
   "source": [
    "plt.figure (figsize = (5,5))\n",
    "plt.plot(dfs[10]['X'],-dfs[10]['Y'],'o')\n",
    "ax = plt.gca()"
   ]
  },
  {
   "cell_type": "markdown",
   "id": "3c23c1bc",
   "metadata": {},
   "source": [
    "### Question 3 - Hand lifted"
   ]
  },
  {
   "cell_type": "code",
   "execution_count": 17,
   "id": "6a2a6e63",
   "metadata": {},
   "outputs": [
    {
     "data": {
      "image/png": "[encoded data removed]",
      "text/plain": [
       "<Figure size 360x360 with 1 Axes>"
      ]
     },
     "metadata": {
      "needs_background": "light"
     },
     "output_type": "display_data"
    }
   ],
   "source": [
    "plt.figure (figsize = (5,5))\n",
    "plt.plot(dfs[11]['X'],-dfs[11]['Y'],'o', marker='o')\n",
    "ax = plt.gca()"
   ]
  },
  {
   "cell_type": "code",
   "execution_count": 18,
   "id": "742c788b",
   "metadata": {},
   "outputs": [
    {
     "data": {
      "text/plain": [
       "[<matplotlib.lines.Line2D at 0x1ec2c6b1250>]"
      ]
     },
     "execution_count": 18,
     "metadata": {},
     "output_type": "execute_result"
    },
    {
     "data": {
      "image/png": "[encoded data removed]",
      "text/plain": [
       "<Figure size 360x360 with 1 Axes>"
      ]
     },
     "metadata": {
      "needs_background": "light"
     },
     "output_type": "display_data"
    }
   ],
   "source": [
    "plt.figure (figsize = (5,5))\n",
    "plt.plot(dfs[11]['Time'],dfs[11]['Pressure'],'-o')"
   ]
  },
  {
   "cell_type": "markdown",
   "id": "3625a8fb",
   "metadata": {},
   "source": [
    "### The algorithm of lift hand"
   ]
  },
  {
   "cell_type": "code",
   "execution_count": 19,
   "id": "85ee9519",
   "metadata": {},
   "outputs": [],
   "source": [
    "def liftHandCount(df):\n",
    "    count = 0\n",
    "    for i in range (0 ,len(df['Pressure'])-1):\n",
    "        if abs(df.loc[i,'Pressure']-df.loc[i+1,'Pressure'])>0.25:\n",
    "            count += 1\n",
    "    return count   "
   ]
  },
  {
   "cell_type": "code",
   "execution_count": 145,
   "id": "bb108989",
   "metadata": {},
   "outputs": [
    {
     "name": "stdout",
     "output_type": "stream",
     "text": [
      "0\n"
     ]
    }
   ],
   "source": [
    "print(liftHandCount(dfs[6]))"
   ]
  },
  {
   "cell_type": "markdown",
   "id": "fb768599",
   "metadata": {},
   "source": [
    "### Question 1 - Lines counting"
   ]
  },
  {
   "cell_type": "code",
   "execution_count": 22,
   "id": "d51e3fcf",
   "metadata": {},
   "outputs": [
    {
     "data": {
      "image/png": "[encoded data removed]",
      "text/plain": [
       "<Figure size 360x360 with 1 Axes>"
      ]
     },
     "metadata": {
      "needs_background": "light"
     },
     "output_type": "display_data"
    }
   ],
   "source": [
    "plt.figure (figsize = (5,5))\n",
    "plt.plot(dfs[4]['X'],-dfs[4]['Y'],'o')\n",
    "ax = plt.gca()\n"
   ]
  },
  {
   "cell_type": "markdown",
   "id": "0d8b450c",
   "metadata": {},
   "source": [
    "### The algorithm of Counting lines"
   ]
  },
  {
   "cell_type": "code",
   "execution_count": 86,
   "id": "8329eb1a",
   "metadata": {},
   "outputs": [],
   "source": [
    "def linesCount(df):\n",
    "    count = 0\n",
    "    index = []\n",
    "    if df.loc[0 , 'X'] < df.loc[1 , 'X']:\n",
    "        direct_x = 1\n",
    "    else :\n",
    "        direct_x = -1\n",
    "    if df.loc[0 , 'Y'] < df.loc[1 , 'Y']:\n",
    "          direct_y = 1\n",
    "    else:\n",
    "          direct_y = -1\n",
    "    for i in range (1,len(df['Y'])-1):\n",
    "        if df.loc[i , 'X'] > df.loc[i+1 , 'X'] and direct_x == 1 and df.loc[i , 'Y'] > df.loc[i+1 , 'Y'] and direct_y == 1:\n",
    "                count += 1\n",
    "                direct_x = -1\n",
    "                direct_y = -1\n",
    "                index.append(i)\n",
    "               # print(i,1)\n",
    "            \n",
    "        elif df.loc[i , 'X'] < df.loc[i+1 , 'X'] and direct_x == 1 and df.loc[i , 'Y'] < df.loc[i+1 , 'Y'] and direct_y == -1:\n",
    "            count += 1\n",
    "            direct_x = -1\n",
    "            direct_y = 1\n",
    "            index.append(i)\n",
    "        elif df.loc[i , 'X'] > df.loc[i+1 , 'X'] and direct_x == -1 and df.loc[i , 'Y'] > df.loc[i+1 , 'Y'] and direct_y == 1:\n",
    "            count += 1\n",
    "            direct_x = 1\n",
    "            direct_y = -1 \n",
    "            index.append(i)\n",
    "        elif df.loc[i , 'X'] < df.loc[i+1 , 'X'] and direct_x == -1 and df.loc[i , 'Y'] < df.loc[i+1 , 'Y'] and direct_y == -1:\n",
    "                count += 1\n",
    "                direct_x = 1\n",
    "                direct_y = 1\n",
    "                index.append(i)\n",
    "                \n",
    "              #  print(i,2)\n",
    "        \n",
    "        elif df.loc[i , 'X'] > df.loc[i+1 , 'X'] and direct_x == 1:\n",
    "                count += 1\n",
    "                direct_x = -1\n",
    "                index.append(i)\n",
    "               # print(i,3)\n",
    "\n",
    "        elif df.loc[i , 'X'] < df.loc[i+1 , 'X'] and direct_x == -1:\n",
    "                count += 1\n",
    "                direct_x = 1\n",
    "                index.append(i)\n",
    "              #  print(i,4)\n",
    "                \n",
    "        elif df.loc[i , 'Y'] > df.loc[i+1 , 'Y'] and direct_y == 1:\n",
    "                count += 1\n",
    "                direct_y = -1\n",
    "                index.append(i)\n",
    "              #  print(i,5)\n",
    "                \n",
    "        elif df.loc[i , 'Y'] < df.loc[i+1 , 'Y'] and direct_y == -1:\n",
    "                count += 1\n",
    "                direct_y = 1\n",
    "                index.append(i)\n",
    "               # print(i,6)\n",
    "    count_index=1\n",
    "    for i in range (0,(len(index)-1)):\n",
    "        if index[i]+40 < index[i+1]:\n",
    "            count_index+=1\n",
    "            \n",
    "    return count_index    "
   ]
  },
  {
   "cell_type": "code",
   "execution_count": 87,
   "id": "5c55bdb2",
   "metadata": {},
   "outputs": [
    {
     "data": {
      "text/plain": [
       "5"
      ]
     },
     "execution_count": 87,
     "metadata": {},
     "output_type": "execute_result"
    }
   ],
   "source": [
    "linesCount(dfs[4])"
   ]
  },
  {
   "cell_type": "code",
   "execution_count": 112,
   "id": "bace27ef",
   "metadata": {},
   "outputs": [
    {
     "data": {
      "text/plain": [
       "6"
      ]
     },
     "execution_count": 112,
     "metadata": {},
     "output_type": "execute_result"
    }
   ],
   "source": [
    "linesCount(dfs[10])"
   ]
  },
  {
   "cell_type": "code",
   "execution_count": 96,
   "id": "966dddab",
   "metadata": {},
   "outputs": [
    {
     "data": {
      "text/html": [
       "<div>\n",
       "<style scoped>\n",
       "    .dataframe tbody tr th:only-of-type {\n",
       "        vertical-align: middle;\n",
       "    }\n",
       "\n",
       "    .dataframe tbody tr th {\n",
       "        vertical-align: top;\n",
       "    }\n",
       "\n",
       "    .dataframe thead th {\n",
       "        text-align: right;\n",
       "    }\n",
       "</style>\n",
       "<table border=\"1\" class=\"dataframe\">\n",
       "  <thead>\n",
       "    <tr style=\"text-align: right;\">\n",
       "      <th></th>\n",
       "      <th>X</th>\n",
       "      <th>Y</th>\n",
       "      <th>Pressure</th>\n",
       "      <th>TiltX</th>\n",
       "      <th>TiltY</th>\n",
       "      <th>Time</th>\n",
       "      <th>distance</th>\n",
       "    </tr>\n",
       "  </thead>\n",
       "  <tbody>\n",
       "    <tr>\n",
       "      <th>0</th>\n",
       "      <td>758.016399</td>\n",
       "      <td>569.381222</td>\n",
       "      <td>0.088853</td>\n",
       "      <td>-4282.0</td>\n",
       "      <td>2245.0</td>\n",
       "      <td>2022-06-13 00:02:42</td>\n",
       "      <td>0.217131</td>\n",
       "    </tr>\n",
       "    <tr>\n",
       "      <th>1</th>\n",
       "      <td>758.069061</td>\n",
       "      <td>569.170574</td>\n",
       "      <td>0.108629</td>\n",
       "      <td>-4282.0</td>\n",
       "      <td>2245.0</td>\n",
       "      <td>2022-06-13 00:02:43</td>\n",
       "      <td>0.000000</td>\n",
       "    </tr>\n",
       "    <tr>\n",
       "      <th>2</th>\n",
       "      <td>758.069061</td>\n",
       "      <td>569.170574</td>\n",
       "      <td>0.141833</td>\n",
       "      <td>-4011.0</td>\n",
       "      <td>2058.0</td>\n",
       "      <td>2022-06-13 00:02:44</td>\n",
       "      <td>0.000000</td>\n",
       "    </tr>\n",
       "    <tr>\n",
       "      <th>3</th>\n",
       "      <td>758.069061</td>\n",
       "      <td>569.170574</td>\n",
       "      <td>0.170397</td>\n",
       "      <td>-3961.0</td>\n",
       "      <td>2025.0</td>\n",
       "      <td>2022-06-13 00:02:45</td>\n",
       "      <td>0.000000</td>\n",
       "    </tr>\n",
       "    <tr>\n",
       "      <th>4</th>\n",
       "      <td>758.069061</td>\n",
       "      <td>569.170574</td>\n",
       "      <td>0.186267</td>\n",
       "      <td>-3961.0</td>\n",
       "      <td>2025.0</td>\n",
       "      <td>2022-06-13 00:02:46</td>\n",
       "      <td>0.000000</td>\n",
       "    </tr>\n",
       "    <tr>\n",
       "      <th>...</th>\n",
       "      <td>...</td>\n",
       "      <td>...</td>\n",
       "      <td>...</td>\n",
       "      <td>...</td>\n",
       "      <td>...</td>\n",
       "      <td>...</td>\n",
       "      <td>...</td>\n",
       "    </tr>\n",
       "    <tr>\n",
       "      <th>1104</th>\n",
       "      <td>779.291835</td>\n",
       "      <td>635.577318</td>\n",
       "      <td>0.761227</td>\n",
       "      <td>-3373.0</td>\n",
       "      <td>1415.0</td>\n",
       "      <td>2022-06-13 00:15:42</td>\n",
       "      <td>0.000000</td>\n",
       "    </tr>\n",
       "    <tr>\n",
       "      <th>1105</th>\n",
       "      <td>779.291835</td>\n",
       "      <td>635.577318</td>\n",
       "      <td>0.754391</td>\n",
       "      <td>-3373.0</td>\n",
       "      <td>1415.0</td>\n",
       "      <td>2022-06-13 00:15:43</td>\n",
       "      <td>0.000000</td>\n",
       "    </tr>\n",
       "    <tr>\n",
       "      <th>1106</th>\n",
       "      <td>779.291835</td>\n",
       "      <td>635.577318</td>\n",
       "      <td>0.745113</td>\n",
       "      <td>-3373.0</td>\n",
       "      <td>1415.0</td>\n",
       "      <td>2022-06-13 00:15:43</td>\n",
       "      <td>0.000000</td>\n",
       "    </tr>\n",
       "    <tr>\n",
       "      <th>1107</th>\n",
       "      <td>779.291835</td>\n",
       "      <td>635.577318</td>\n",
       "      <td>0.737301</td>\n",
       "      <td>-3373.0</td>\n",
       "      <td>1415.0</td>\n",
       "      <td>2022-06-13 00:15:44</td>\n",
       "      <td>0.000000</td>\n",
       "    </tr>\n",
       "    <tr>\n",
       "      <th>1108</th>\n",
       "      <td>779.291835</td>\n",
       "      <td>635.577318</td>\n",
       "      <td>0.711910</td>\n",
       "      <td>-3373.0</td>\n",
       "      <td>1415.0</td>\n",
       "      <td>2022-06-13 00:15:45</td>\n",
       "      <td>0.000000</td>\n",
       "    </tr>\n",
       "  </tbody>\n",
       "</table>\n",
       "<p>1109 rows × 7 columns</p>\n",
       "</div>"
      ],
      "text/plain": [
       "               X           Y  Pressure   TiltX   TiltY                Time  \\\n",
       "0     758.016399  569.381222  0.088853 -4282.0  2245.0 2022-06-13 00:02:42   \n",
       "1     758.069061  569.170574  0.108629 -4282.0  2245.0 2022-06-13 00:02:43   \n",
       "2     758.069061  569.170574  0.141833 -4011.0  2058.0 2022-06-13 00:02:44   \n",
       "3     758.069061  569.170574  0.170397 -3961.0  2025.0 2022-06-13 00:02:45   \n",
       "4     758.069061  569.170574  0.186267 -3961.0  2025.0 2022-06-13 00:02:46   \n",
       "...          ...         ...       ...     ...     ...                 ...   \n",
       "1104  779.291835  635.577318  0.761227 -3373.0  1415.0 2022-06-13 00:15:42   \n",
       "1105  779.291835  635.577318  0.754391 -3373.0  1415.0 2022-06-13 00:15:43   \n",
       "1106  779.291835  635.577318  0.745113 -3373.0  1415.0 2022-06-13 00:15:43   \n",
       "1107  779.291835  635.577318  0.737301 -3373.0  1415.0 2022-06-13 00:15:44   \n",
       "1108  779.291835  635.577318  0.711910 -3373.0  1415.0 2022-06-13 00:15:45   \n",
       "\n",
       "      distance  \n",
       "0     0.217131  \n",
       "1     0.000000  \n",
       "2     0.000000  \n",
       "3     0.000000  \n",
       "4     0.000000  \n",
       "...        ...  \n",
       "1104  0.000000  \n",
       "1105  0.000000  \n",
       "1106  0.000000  \n",
       "1107  0.000000  \n",
       "1108  0.000000  \n",
       "\n",
       "[1109 rows x 7 columns]"
      ]
     },
     "execution_count": 96,
     "metadata": {},
     "output_type": "execute_result"
    }
   ],
   "source": [
    "dfs[5]"
   ]
  },
  {
   "cell_type": "code",
   "execution_count": 249,
   "id": "8c57ed0b",
   "metadata": {},
   "outputs": [
    {
     "name": "stdout",
     "output_type": "stream",
     "text": [
      "1 5\n",
      "5 3\n",
      "199 2\n",
      "202 3\n",
      "204 5\n",
      "205 4\n",
      "209 6\n",
      "213 3\n",
      "332 4\n",
      "334 5\n",
      "337 3\n",
      "340 4\n",
      "345 6\n",
      "353 5\n",
      "356 6\n",
      "365 5\n",
      "483 6\n",
      "485 5\n",
      "488 6\n",
      "491 3\n",
      "578 4\n",
      "579 5\n",
      "582 3\n",
      "677 6\n",
      "684 5\n",
      "688 4\n"
     ]
    },
    {
     "data": {
      "text/plain": [
       "26"
      ]
     },
     "execution_count": 249,
     "metadata": {},
     "output_type": "execute_result"
    }
   ],
   "source": [
    "linesCount(dfs[10])"
   ]
  },
  {
   "cell_type": "markdown",
   "id": "0d043fbf",
   "metadata": {},
   "source": [
    "### Question 2 - Calculate the length of the line & the average pressure"
   ]
  },
  {
   "cell_type": "code",
   "execution_count": 33,
   "id": "40f0104a",
   "metadata": {},
   "outputs": [],
   "source": [
    "def distance(x1,x2,y1,y2):\n",
    "    return math.sqrt(pow(x1-x2,2)+pow(y1-y2,2))"
   ]
  },
  {
   "cell_type": "code",
   "execution_count": 59,
   "id": "955c155b",
   "metadata": {},
   "outputs": [],
   "source": [
    "for df in dfs:\n",
    "    dist=[]\n",
    "    for i in range(0,len(df)-1):\n",
    "        dist.append(distance(df.loc[i]['X'],df.loc[i+1 ]['X'],df.loc[i]['Y'],df.loc[i+1]['Y']))\n",
    "    dist.append(0)\n",
    "    df['distance']=dist"
   ]
  },
  {
   "cell_type": "code",
   "execution_count": 92,
   "id": "84de1beb",
   "metadata": {},
   "outputs": [],
   "source": [
    "def linesCountReturnList(df):\n",
    "    count = 0\n",
    "    index = []\n",
    "    if df.loc[0 , 'X'] < df.loc[1 , 'X']:\n",
    "        direct_x = 1\n",
    "    else :\n",
    "        direct_x = -1\n",
    "    if df.loc[0 , 'Y'] < df.loc[1 , 'Y']:\n",
    "          direct_y = 1\n",
    "    else:\n",
    "          direct_y = -1\n",
    "    for i in range (1,len(df['Y'])-1):\n",
    "        if df.loc[i , 'X'] > df.loc[i+1 , 'X'] and direct_x == 1 and df.loc[i , 'Y'] > df.loc[i+1 , 'Y'] and direct_y == 1:\n",
    "                direct_x = -1\n",
    "                direct_y = -1\n",
    "                index.append(i)\n",
    "            \n",
    "        elif df.loc[i , 'X'] < df.loc[i+1 , 'X'] and direct_x == 1 and df.loc[i , 'Y'] < df.loc[i+1 , 'Y'] and direct_y == -1:\n",
    "            direct_x = -1\n",
    "            direct_y = 1\n",
    "            index.append(i)\n",
    "            \n",
    "        elif df.loc[i , 'X'] > df.loc[i+1 , 'X'] and direct_x == -1 and df.loc[i , 'Y'] > df.loc[i+1 , 'Y'] and direct_y == 1:\n",
    "            direct_x = 1\n",
    "            direct_y = -1 \n",
    "            index.append(i)\n",
    "            \n",
    "        elif df.loc[i , 'X'] < df.loc[i+1 , 'X'] and direct_x == -1 and df.loc[i , 'Y'] < df.loc[i+1 , 'Y'] and direct_y == -1:\n",
    "                direct_x = 1\n",
    "                direct_y = 1\n",
    "                index.append(i)\n",
    "                        \n",
    "        elif df.loc[i , 'X'] > df.loc[i+1 , 'X'] and direct_x == 1:\n",
    "                direct_x = -1\n",
    "                index.append(i)\n",
    "\n",
    "        elif df.loc[i , 'X'] < df.loc[i+1 , 'X'] and direct_x == -1:\n",
    "                direct_x = 1\n",
    "                index.append(i)\n",
    "                \n",
    "        elif df.loc[i , 'Y'] > df.loc[i+1 , 'Y'] and direct_y == 1:\n",
    "                direct_y = -1\n",
    "                index.append(i)\n",
    "                \n",
    "        elif df.loc[i , 'Y'] < df.loc[i+1 , 'Y'] and direct_y == -1:\n",
    "                direct_y = 1\n",
    "                index.append(i)\n",
    "\n",
    "    startLines=[index[0]]\n",
    "    for i in range (0,(len(index)-1)):\n",
    "        if index[i]+40 < index[i+1]:\n",
    "            startLines.append(index[i+1])\n",
    "            \n",
    "    return startLines    "
   ]
  },
  {
   "cell_type": "code",
   "execution_count": 168,
   "id": "ca1c728e",
   "metadata": {},
   "outputs": [
    {
     "data": {
      "text/plain": [
       "[91, 208, 373, 524]"
      ]
     },
     "execution_count": 168,
     "metadata": {},
     "output_type": "execute_result"
    }
   ],
   "source": [
    "linesCountReturnList(dfs[11])\n"
   ]
  },
  {
   "cell_type": "code",
   "execution_count": 169,
   "id": "5b3b4cc7",
   "metadata": {},
   "outputs": [
    {
     "data": {
      "text/html": [
       "<div>\n",
       "<style scoped>\n",
       "    .dataframe tbody tr th:only-of-type {\n",
       "        vertical-align: middle;\n",
       "    }\n",
       "\n",
       "    .dataframe tbody tr th {\n",
       "        vertical-align: top;\n",
       "    }\n",
       "\n",
       "    .dataframe thead th {\n",
       "        text-align: right;\n",
       "    }\n",
       "</style>\n",
       "<table border=\"1\" class=\"dataframe\">\n",
       "  <thead>\n",
       "    <tr style=\"text-align: right;\">\n",
       "      <th></th>\n",
       "      <th>X</th>\n",
       "      <th>Y</th>\n",
       "      <th>Pressure</th>\n",
       "      <th>TiltX</th>\n",
       "      <th>TiltY</th>\n",
       "      <th>Time</th>\n",
       "      <th>distance</th>\n",
       "    </tr>\n",
       "  </thead>\n",
       "  <tbody>\n",
       "    <tr>\n",
       "      <th>0</th>\n",
       "      <td>688.818570</td>\n",
       "      <td>526.514378</td>\n",
       "      <td>0.071031</td>\n",
       "      <td>-4515.0</td>\n",
       "      <td>2197.0</td>\n",
       "      <td>2022-06-13 00:18:11</td>\n",
       "      <td>0.805573</td>\n",
       "    </tr>\n",
       "    <tr>\n",
       "      <th>1</th>\n",
       "      <td>688.660584</td>\n",
       "      <td>525.724449</td>\n",
       "      <td>0.078355</td>\n",
       "      <td>-4515.0</td>\n",
       "      <td>2197.0</td>\n",
       "      <td>2022-06-13 00:18:12</td>\n",
       "      <td>2.086637</td>\n",
       "    </tr>\n",
       "    <tr>\n",
       "      <th>2</th>\n",
       "      <td>688.291951</td>\n",
       "      <td>523.670632</td>\n",
       "      <td>0.089586</td>\n",
       "      <td>-4515.0</td>\n",
       "      <td>2197.0</td>\n",
       "      <td>2022-06-13 00:18:13</td>\n",
       "      <td>3.336043</td>\n",
       "    </tr>\n",
       "    <tr>\n",
       "      <th>3</th>\n",
       "      <td>687.607345</td>\n",
       "      <td>520.405590</td>\n",
       "      <td>0.152819</td>\n",
       "      <td>-4515.0</td>\n",
       "      <td>2197.0</td>\n",
       "      <td>2022-06-13 00:18:14</td>\n",
       "      <td>2.814830</td>\n",
       "    </tr>\n",
       "    <tr>\n",
       "      <th>4</th>\n",
       "      <td>686.764753</td>\n",
       "      <td>517.719829</td>\n",
       "      <td>0.191394</td>\n",
       "      <td>-4515.0</td>\n",
       "      <td>2197.0</td>\n",
       "      <td>2022-06-13 00:18:15</td>\n",
       "      <td>3.326053</td>\n",
       "    </tr>\n",
       "    <tr>\n",
       "      <th>...</th>\n",
       "      <td>...</td>\n",
       "      <td>...</td>\n",
       "      <td>...</td>\n",
       "      <td>...</td>\n",
       "      <td>...</td>\n",
       "      <td>...</td>\n",
       "      <td>...</td>\n",
       "    </tr>\n",
       "    <tr>\n",
       "      <th>522</th>\n",
       "      <td>739.216076</td>\n",
       "      <td>253.567387</td>\n",
       "      <td>0.705806</td>\n",
       "      <td>-2757.0</td>\n",
       "      <td>-1514.0</td>\n",
       "      <td>2022-06-13 00:27:32</td>\n",
       "      <td>2.018404</td>\n",
       "    </tr>\n",
       "    <tr>\n",
       "      <th>523</th>\n",
       "      <td>741.164569</td>\n",
       "      <td>253.040767</td>\n",
       "      <td>0.697749</td>\n",
       "      <td>-2757.0</td>\n",
       "      <td>-1514.0</td>\n",
       "      <td>2022-06-13 00:27:33</td>\n",
       "      <td>2.848132</td>\n",
       "    </tr>\n",
       "    <tr>\n",
       "      <th>524</th>\n",
       "      <td>744.008315</td>\n",
       "      <td>252.882781</td>\n",
       "      <td>0.682612</td>\n",
       "      <td>-2757.0</td>\n",
       "      <td>-1514.0</td>\n",
       "      <td>2022-06-13 00:27:34</td>\n",
       "      <td>1.320755</td>\n",
       "    </tr>\n",
       "    <tr>\n",
       "      <th>525</th>\n",
       "      <td>745.324864</td>\n",
       "      <td>252.988105</td>\n",
       "      <td>0.672847</td>\n",
       "      <td>-2757.0</td>\n",
       "      <td>-1514.0</td>\n",
       "      <td>2022-06-13 00:27:35</td>\n",
       "      <td>2.547446</td>\n",
       "    </tr>\n",
       "    <tr>\n",
       "      <th>526</th>\n",
       "      <td>747.852639</td>\n",
       "      <td>253.304077</td>\n",
       "      <td>0.630610</td>\n",
       "      <td>-2757.0</td>\n",
       "      <td>-1514.0</td>\n",
       "      <td>2022-06-13 00:27:36</td>\n",
       "      <td>0.000000</td>\n",
       "    </tr>\n",
       "  </tbody>\n",
       "</table>\n",
       "<p>527 rows × 7 columns</p>\n",
       "</div>"
      ],
      "text/plain": [
       "              X           Y  Pressure   TiltX   TiltY                Time  \\\n",
       "0    688.818570  526.514378  0.071031 -4515.0  2197.0 2022-06-13 00:18:11   \n",
       "1    688.660584  525.724449  0.078355 -4515.0  2197.0 2022-06-13 00:18:12   \n",
       "2    688.291951  523.670632  0.089586 -4515.0  2197.0 2022-06-13 00:18:13   \n",
       "3    687.607345  520.405590  0.152819 -4515.0  2197.0 2022-06-13 00:18:14   \n",
       "4    686.764753  517.719829  0.191394 -4515.0  2197.0 2022-06-13 00:18:15   \n",
       "..          ...         ...       ...     ...     ...                 ...   \n",
       "522  739.216076  253.567387  0.705806 -2757.0 -1514.0 2022-06-13 00:27:32   \n",
       "523  741.164569  253.040767  0.697749 -2757.0 -1514.0 2022-06-13 00:27:33   \n",
       "524  744.008315  252.882781  0.682612 -2757.0 -1514.0 2022-06-13 00:27:34   \n",
       "525  745.324864  252.988105  0.672847 -2757.0 -1514.0 2022-06-13 00:27:35   \n",
       "526  747.852639  253.304077  0.630610 -2757.0 -1514.0 2022-06-13 00:27:36   \n",
       "\n",
       "     distance  \n",
       "0    0.805573  \n",
       "1    2.086637  \n",
       "2    3.336043  \n",
       "3    2.814830  \n",
       "4    3.326053  \n",
       "..        ...  \n",
       "522  2.018404  \n",
       "523  2.848132  \n",
       "524  1.320755  \n",
       "525  2.547446  \n",
       "526  0.000000  \n",
       "\n",
       "[527 rows x 7 columns]"
      ]
     },
     "execution_count": 169,
     "metadata": {},
     "output_type": "execute_result"
    }
   ],
   "source": [
    "dfs[11]"
   ]
  },
  {
   "cell_type": "code",
   "execution_count": 109,
   "id": "7914f3c2",
   "metadata": {},
   "outputs": [
    {
     "data": {
      "text/plain": [
       "5"
      ]
     },
     "execution_count": 109,
     "metadata": {},
     "output_type": "execute_result"
    }
   ],
   "source": [
    "linesCount(dfs[10])"
   ]
  },
  {
   "cell_type": "code",
   "execution_count": 162,
   "id": "d35182b6",
   "metadata": {},
   "outputs": [],
   "source": [
    "def linesLength(df):\n",
    "    lines=linesCountReturnList(df)\n",
    "    sum=0\n",
    "    for j in range (0,lines[1]):\n",
    "            sum += df.loc[j]['distance']\n",
    "    print('The length of line',1,'is:',sum)\n",
    "        \n",
    "    for i in range (1,len(lines)-1):\n",
    "        sum=0\n",
    "        for j in range (lines[i],lines[i+1]):\n",
    "            sum += df.loc[j]['distance']\n",
    "        print('The length of line',i+1,'is',sum)\n",
    "     \n",
    "    sum=0\n",
    "    for j in range (lines[len(lines)-1],len(df)-1):\n",
    "            sum += df.loc[j]['distance']\n",
    "    print('The length of line',len(lines),' is: ',sum)"
   ]
  },
  {
   "cell_type": "code",
   "execution_count": 178,
   "id": "6651ffd8",
   "metadata": {},
   "outputs": [
    {
     "name": "stdout",
     "output_type": "stream",
     "text": [
      "The length of line 1 is: 422.6469914290229\n",
      "The length of line 2 is 182.48986120957457\n",
      "The length of line 3 is 223.6840807221298\n",
      "The length of line 4 is 442.2714035911501\n",
      "The length of line 5 is 116.04066440002829\n",
      "The length of line 6  is:  150.308952781483\n"
     ]
    }
   ],
   "source": [
    "linesLength(dfs[10])"
   ]
  },
  {
   "cell_type": "code",
   "execution_count": 179,
   "id": "79c473e1",
   "metadata": {},
   "outputs": [
    {
     "data": {
      "image/png": "[encoded data removed]",
      "text/plain": [
       "<Figure size 360x360 with 1 Axes>"
      ]
     },
     "metadata": {
      "needs_background": "light"
     },
     "output_type": "display_data"
    }
   ],
   "source": [
    "plt.figure (figsize = (5,5))\n",
    "plt.plot(dfs[10]['X'],-dfs[10]['Y'],'o')\n",
    "ax = plt.gca()\n"
   ]
  },
  {
   "cell_type": "code",
   "execution_count": 180,
   "id": "c14426de",
   "metadata": {},
   "outputs": [],
   "source": [
    "def linesPressureAverage(df):\n",
    "    lines=linesCountReturnList(df)\n",
    "    count=0\n",
    "    sum=0\n",
    "    for j in range (0,lines[1]):\n",
    "        count+=1\n",
    "        sum += df.loc[j]['Pressure']\n",
    "    print('The average pressure of line',1,'is:',sum/count)\n",
    "        \n",
    "    for i in range (1,len(lines)-1):\n",
    "        count=0\n",
    "        sum=0\n",
    "        for j in range (lines[i],lines[i+1]):\n",
    "            count+=1\n",
    "            sum += df.loc[j]['Pressure']\n",
    "        print('The average pressure of line',i+1,'is',sum/count)\n",
    "    count=0 \n",
    "    sum=0\n",
    "    for j in range (lines[len(lines)-1],len(df)-1):\n",
    "        count+=1\n",
    "        sum += df.loc[j]['Pressure']\n",
    "    print('The average pressure of line',len(lines),' is: ',sum/count)"
   ]
  },
  {
   "cell_type": "code",
   "execution_count": 181,
   "id": "a2b6716d",
   "metadata": {},
   "outputs": [
    {
     "name": "stdout",
     "output_type": "stream",
     "text": [
      "The average pressure of line 1 is: 0.7995869270970474\n",
      "The average pressure of line 2 is 0.5295687162114265\n",
      "The average pressure of line 3 is 0.6801272498456058\n",
      "The average pressure of line 4 is 0.5730275103920385\n",
      "The average pressure of line 5 is 0.5808806071678797\n",
      "The average pressure of line 6  is:  0.6615718515175912\n"
     ]
    }
   ],
   "source": [
    "linesPressureAverage(dfs[10])"
   ]
  }
 ],
 "metadata": {
  "kernelspec": {
   "display_name": "Python 3",
   "language": "python",
   "name": "python3"
  },
  "language_info": {
   "codemirror_mode": {
    "name": "ipython",
    "version": 3
   },
   "file_extension": ".py",
   "mimetype": "text/x-python",
   "name": "python",
   "nbconvert_exporter": "python",
   "pygments_lexer": "ipython3",
   "version": "3.8.8"
  }
 },
 "nbformat": 4,
 "nbformat_minor": 5
}
