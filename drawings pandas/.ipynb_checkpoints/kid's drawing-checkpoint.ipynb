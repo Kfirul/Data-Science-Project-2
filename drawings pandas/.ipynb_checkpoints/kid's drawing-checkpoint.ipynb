{
 "cells": [
  {
   "cell_type": "markdown",
   "id": "ce44da79",
   "metadata": {},
   "source": [
    "# Kid's Drawings\n",
    "We were given data from children's drawings in which they try to draw a shape that is presented to them.\n",
    "We will try to create algorithms that predict several questions:\n",
    "* 1. Number of lines\n",
    "* 2. Line length and average pressure\n",
    "* 3. Number of pen levels\n",
    "* 4. Is the shape closed or open\n"
   ]
  },
  {
   "cell_type": "markdown",
   "id": "233f7f12",
   "metadata": {},
   "source": [
    "### Imports"
   ]
  },
  {
   "cell_type": "code",
   "execution_count": 30,
   "id": "7817a788",
   "metadata": {},
   "outputs": [],
   "source": [
    "import pandas as pd\n",
    "import numpy as np\n",
    "import seaborn as sns\n",
    "import random\n",
    "import matplotlib\n",
    "import matplotlib.pyplot as plt\n",
    "import math \n",
    "import warnings\n",
    "warnings.filterwarnings('ignore')"
   ]
  },
  {
   "cell_type": "markdown",
   "id": "eb95d2de",
   "metadata": {},
   "source": [
    "#### Collect all the pictures into list of Dataframes"
   ]
  },
  {
   "cell_type": "code",
   "execution_count": 2,
   "id": "2b02fe49",
   "metadata": {},
   "outputs": [],
   "source": [
    "dfs = []\n",
    "for i in range(1,22):\n",
    "    dfs.append(pd.read_csv('C:\\\\Users\\\\Shlomit\\\\Desktop\\\\Data-Science-project-2\\\\drawings pandas\\\\train\\\\7554\\\\SimpleTest\\\\' + str(i) + '.csv'))"
   ]
  },
  {
   "cell_type": "code",
   "execution_count": 3,
   "id": "8692c6b4",
   "metadata": {},
   "outputs": [],
   "source": [
    "for df in dfs:\n",
    "    df[' Time'] = pd.to_datetime(df[' Time'])"
   ]
  },
  {
   "cell_type": "code",
   "execution_count": 4,
   "id": "8d5cd5a2",
   "metadata": {},
   "outputs": [
    {
     "data": {
      "text/html": [
       "<div>\n",
       "<style scoped>\n",
       "    .dataframe tbody tr th:only-of-type {\n",
       "        vertical-align: middle;\n",
       "    }\n",
       "\n",
       "    .dataframe tbody tr th {\n",
       "        vertical-align: top;\n",
       "    }\n",
       "\n",
       "    .dataframe thead th {\n",
       "        text-align: right;\n",
       "    }\n",
       "</style>\n",
       "<table border=\"1\" class=\"dataframe\">\n",
       "  <thead>\n",
       "    <tr style=\"text-align: right;\">\n",
       "      <th></th>\n",
       "      <th>X</th>\n",
       "      <th>Y</th>\n",
       "      <th>Pressure</th>\n",
       "      <th>TiltX</th>\n",
       "      <th>TiltY</th>\n",
       "      <th>Time</th>\n",
       "    </tr>\n",
       "  </thead>\n",
       "  <tbody>\n",
       "    <tr>\n",
       "      <th>0</th>\n",
       "      <td>925.902760133965</td>\n",
       "      <td>665.541979</td>\n",
       "      <td>0.045884</td>\n",
       "      <td>-4917.0</td>\n",
       "      <td>669.0</td>\n",
       "      <td>2022-06-13 00:12:36</td>\n",
       "    </tr>\n",
       "    <tr>\n",
       "      <th>1</th>\n",
       "      <td>925.902760133965</td>\n",
       "      <td>665.541979</td>\n",
       "      <td>0.045884</td>\n",
       "      <td>-4917.0</td>\n",
       "      <td>669.0</td>\n",
       "      <td>2022-06-13 00:12:37</td>\n",
       "    </tr>\n",
       "    <tr>\n",
       "      <th>2</th>\n",
       "      <td>926.692689687031</td>\n",
       "      <td>665.647303</td>\n",
       "      <td>0.082506</td>\n",
       "      <td>-4917.0</td>\n",
       "      <td>669.0</td>\n",
       "      <td>2022-06-13 00:12:38</td>\n",
       "    </tr>\n",
       "    <tr>\n",
       "      <th>3</th>\n",
       "      <td>927.008661508257</td>\n",
       "      <td>665.647303</td>\n",
       "      <td>0.115953</td>\n",
       "      <td>-4917.0</td>\n",
       "      <td>669.0</td>\n",
       "      <td>2022-06-13 00:12:39</td>\n",
       "    </tr>\n",
       "    <tr>\n",
       "      <th>4</th>\n",
       "      <td>927.324633329484</td>\n",
       "      <td>665.594641</td>\n",
       "      <td>0.140368</td>\n",
       "      <td>-4917.0</td>\n",
       "      <td>669.0</td>\n",
       "      <td>2022-06-13 00:12:41</td>\n",
       "    </tr>\n",
       "    <tr>\n",
       "      <th>...</th>\n",
       "      <td>...</td>\n",
       "      <td>...</td>\n",
       "      <td>...</td>\n",
       "      <td>...</td>\n",
       "      <td>...</td>\n",
       "      <td>...</td>\n",
       "    </tr>\n",
       "    <tr>\n",
       "      <th>129</th>\n",
       "      <td>584.863841090195</td>\n",
       "      <td>646.846980</td>\n",
       "      <td>0.386954</td>\n",
       "      <td>-4510.0</td>\n",
       "      <td>1946.0</td>\n",
       "      <td>2022-06-13 00:14:03</td>\n",
       "    </tr>\n",
       "    <tr>\n",
       "      <th>130</th>\n",
       "      <td>584.653193209377</td>\n",
       "      <td>646.741656</td>\n",
       "      <td>0.386954</td>\n",
       "      <td>-4501.0</td>\n",
       "      <td>1991.0</td>\n",
       "      <td>2022-06-13 00:14:04</td>\n",
       "    </tr>\n",
       "    <tr>\n",
       "      <th>131</th>\n",
       "      <td>584.653193209377</td>\n",
       "      <td>646.741656</td>\n",
       "      <td>0.389151</td>\n",
       "      <td>-4501.0</td>\n",
       "      <td>1991.0</td>\n",
       "      <td>2022-06-13 00:14:05</td>\n",
       "    </tr>\n",
       "    <tr>\n",
       "      <th>132</th>\n",
       "      <td>Time Elapsed till drawing started: 00:11.2234987</td>\n",
       "      <td>NaN</td>\n",
       "      <td>NaN</td>\n",
       "      <td>NaN</td>\n",
       "      <td>NaN</td>\n",
       "      <td>NaT</td>\n",
       "    </tr>\n",
       "    <tr>\n",
       "      <th>133</th>\n",
       "      <td>Time Elapsed till drawing submit: 00:17.1449348</td>\n",
       "      <td>NaN</td>\n",
       "      <td>NaN</td>\n",
       "      <td>NaN</td>\n",
       "      <td>NaN</td>\n",
       "      <td>NaT</td>\n",
       "    </tr>\n",
       "  </tbody>\n",
       "</table>\n",
       "<p>134 rows × 6 columns</p>\n",
       "</div>"
      ],
      "text/plain": [
       "                                                    X           Y   Pressure  \\\n",
       "0                                    925.902760133965  665.541979   0.045884   \n",
       "1                                    925.902760133965  665.541979   0.045884   \n",
       "2                                    926.692689687031  665.647303   0.082506   \n",
       "3                                    927.008661508257  665.647303   0.115953   \n",
       "4                                    927.324633329484  665.594641   0.140368   \n",
       "..                                                ...         ...        ...   \n",
       "129                                  584.863841090195  646.846980   0.386954   \n",
       "130                                  584.653193209377  646.741656   0.386954   \n",
       "131                                  584.653193209377  646.741656   0.389151   \n",
       "132  Time Elapsed till drawing started: 00:11.2234987         NaN        NaN   \n",
       "133   Time Elapsed till drawing submit: 00:17.1449348         NaN        NaN   \n",
       "\n",
       "      TiltX   TiltY                Time  \n",
       "0   -4917.0   669.0 2022-06-13 00:12:36  \n",
       "1   -4917.0   669.0 2022-06-13 00:12:37  \n",
       "2   -4917.0   669.0 2022-06-13 00:12:38  \n",
       "3   -4917.0   669.0 2022-06-13 00:12:39  \n",
       "4   -4917.0   669.0 2022-06-13 00:12:41  \n",
       "..      ...     ...                 ...  \n",
       "129 -4510.0  1946.0 2022-06-13 00:14:03  \n",
       "130 -4501.0  1991.0 2022-06-13 00:14:04  \n",
       "131 -4501.0  1991.0 2022-06-13 00:14:05  \n",
       "132     NaN     NaN                 NaT  \n",
       "133     NaN     NaN                 NaT  \n",
       "\n",
       "[134 rows x 6 columns]"
      ]
     },
     "execution_count": 4,
     "metadata": {},
     "output_type": "execute_result"
    }
   ],
   "source": [
    "dfs[0]"
   ]
  },
  {
   "cell_type": "code",
   "execution_count": 5,
   "id": "e3a4686e",
   "metadata": {},
   "outputs": [
    {
     "data": {
      "text/plain": [
       "36"
      ]
     },
     "execution_count": 5,
     "metadata": {},
     "output_type": "execute_result"
    }
   ],
   "source": [
    "dfs[0][' Time'][0].second"
   ]
  },
  {
   "cell_type": "markdown",
   "id": "be944a8a",
   "metadata": {},
   "source": [
    "#### Convert columns names"
   ]
  },
  {
   "cell_type": "code",
   "execution_count": 6,
   "id": "4929a7a4",
   "metadata": {},
   "outputs": [],
   "source": [
    "for i in range(21):\n",
    "    dfs[i] = dfs[i].rename({' Y':'Y',' Pressure':'Pressure',' TiltX':'TiltX',' TiltY':'TiltY',' Time':'Time'},axis=1)"
   ]
  },
  {
   "cell_type": "code",
   "execution_count": 7,
   "id": "ebbf82c8",
   "metadata": {},
   "outputs": [
    {
     "data": {
      "text/plain": [
       "Index(['X', 'Y', 'Pressure', 'TiltX', 'TiltY', 'Time'], dtype='object')"
      ]
     },
     "execution_count": 7,
     "metadata": {},
     "output_type": "execute_result"
    }
   ],
   "source": [
    "dfs[0].columns\n"
   ]
  },
  {
   "cell_type": "markdown",
   "id": "081acff5",
   "metadata": {},
   "source": [
    "#### Drop the last two rows\n",
    "We have no use for them\n"
   ]
  },
  {
   "cell_type": "code",
   "execution_count": 8,
   "id": "27314d0f",
   "metadata": {},
   "outputs": [],
   "source": [
    "for i in range(21):\n",
    "    dfs[i].drop(dfs[i].tail(2).index,inplace=True) "
   ]
  },
  {
   "cell_type": "markdown",
   "id": "478f0b21",
   "metadata": {},
   "source": [
    "#### Change X colmun to float"
   ]
  },
  {
   "cell_type": "code",
   "execution_count": 9,
   "id": "61e08e81",
   "metadata": {},
   "outputs": [],
   "source": [
    "for i in range(21):\n",
    "    dfs[i].X=dfs[i].X.astype(\"float\")\n"
   ]
  },
  {
   "cell_type": "code",
   "execution_count": 10,
   "id": "4d364e71",
   "metadata": {},
   "outputs": [
    {
     "name": "stdout",
     "output_type": "stream",
     "text": [
      "<class 'pandas.core.frame.DataFrame'>\n",
      "Int64Index: 527 entries, 0 to 526\n",
      "Data columns (total 6 columns):\n",
      " #   Column    Non-Null Count  Dtype         \n",
      "---  ------    --------------  -----         \n",
      " 0   X         527 non-null    float64       \n",
      " 1   Y         527 non-null    float64       \n",
      " 2   Pressure  527 non-null    float64       \n",
      " 3   TiltX     527 non-null    float64       \n",
      " 4   TiltY     527 non-null    float64       \n",
      " 5   Time      527 non-null    datetime64[ns]\n",
      "dtypes: datetime64[ns](1), float64(5)\n",
      "memory usage: 28.8 KB\n"
     ]
    }
   ],
   "source": [
    "dfs[11].info()"
   ]
  },
  {
   "cell_type": "code",
   "execution_count": 11,
   "id": "d2e41aa9",
   "metadata": {},
   "outputs": [
    {
     "data": {
      "text/html": [
       "<div>\n",
       "<style scoped>\n",
       "    .dataframe tbody tr th:only-of-type {\n",
       "        vertical-align: middle;\n",
       "    }\n",
       "\n",
       "    .dataframe tbody tr th {\n",
       "        vertical-align: top;\n",
       "    }\n",
       "\n",
       "    .dataframe thead th {\n",
       "        text-align: right;\n",
       "    }\n",
       "</style>\n",
       "<table border=\"1\" class=\"dataframe\">\n",
       "  <thead>\n",
       "    <tr style=\"text-align: right;\">\n",
       "      <th></th>\n",
       "      <th>X</th>\n",
       "      <th>Y</th>\n",
       "      <th>Pressure</th>\n",
       "      <th>TiltX</th>\n",
       "      <th>TiltY</th>\n",
       "      <th>Time</th>\n",
       "    </tr>\n",
       "  </thead>\n",
       "  <tbody>\n",
       "    <tr>\n",
       "      <th>0</th>\n",
       "      <td>925.902760</td>\n",
       "      <td>665.541979</td>\n",
       "      <td>0.045884</td>\n",
       "      <td>-4917.0</td>\n",
       "      <td>669.0</td>\n",
       "      <td>2022-06-13 00:12:36</td>\n",
       "    </tr>\n",
       "    <tr>\n",
       "      <th>1</th>\n",
       "      <td>925.902760</td>\n",
       "      <td>665.541979</td>\n",
       "      <td>0.045884</td>\n",
       "      <td>-4917.0</td>\n",
       "      <td>669.0</td>\n",
       "      <td>2022-06-13 00:12:37</td>\n",
       "    </tr>\n",
       "    <tr>\n",
       "      <th>2</th>\n",
       "      <td>926.692690</td>\n",
       "      <td>665.647303</td>\n",
       "      <td>0.082506</td>\n",
       "      <td>-4917.0</td>\n",
       "      <td>669.0</td>\n",
       "      <td>2022-06-13 00:12:38</td>\n",
       "    </tr>\n",
       "    <tr>\n",
       "      <th>3</th>\n",
       "      <td>927.008662</td>\n",
       "      <td>665.647303</td>\n",
       "      <td>0.115953</td>\n",
       "      <td>-4917.0</td>\n",
       "      <td>669.0</td>\n",
       "      <td>2022-06-13 00:12:39</td>\n",
       "    </tr>\n",
       "    <tr>\n",
       "      <th>4</th>\n",
       "      <td>927.324633</td>\n",
       "      <td>665.594641</td>\n",
       "      <td>0.140368</td>\n",
       "      <td>-4917.0</td>\n",
       "      <td>669.0</td>\n",
       "      <td>2022-06-13 00:12:41</td>\n",
       "    </tr>\n",
       "    <tr>\n",
       "      <th>...</th>\n",
       "      <td>...</td>\n",
       "      <td>...</td>\n",
       "      <td>...</td>\n",
       "      <td>...</td>\n",
       "      <td>...</td>\n",
       "      <td>...</td>\n",
       "    </tr>\n",
       "    <tr>\n",
       "      <th>127</th>\n",
       "      <td>585.495785</td>\n",
       "      <td>647.004966</td>\n",
       "      <td>0.378408</td>\n",
       "      <td>-4510.0</td>\n",
       "      <td>1946.0</td>\n",
       "      <td>2022-06-13 00:14:01</td>\n",
       "    </tr>\n",
       "    <tr>\n",
       "      <th>128</th>\n",
       "      <td>584.863841</td>\n",
       "      <td>646.846980</td>\n",
       "      <td>0.382803</td>\n",
       "      <td>-4510.0</td>\n",
       "      <td>1946.0</td>\n",
       "      <td>2022-06-13 00:14:02</td>\n",
       "    </tr>\n",
       "    <tr>\n",
       "      <th>129</th>\n",
       "      <td>584.863841</td>\n",
       "      <td>646.846980</td>\n",
       "      <td>0.386954</td>\n",
       "      <td>-4510.0</td>\n",
       "      <td>1946.0</td>\n",
       "      <td>2022-06-13 00:14:03</td>\n",
       "    </tr>\n",
       "    <tr>\n",
       "      <th>130</th>\n",
       "      <td>584.653193</td>\n",
       "      <td>646.741656</td>\n",
       "      <td>0.386954</td>\n",
       "      <td>-4501.0</td>\n",
       "      <td>1991.0</td>\n",
       "      <td>2022-06-13 00:14:04</td>\n",
       "    </tr>\n",
       "    <tr>\n",
       "      <th>131</th>\n",
       "      <td>584.653193</td>\n",
       "      <td>646.741656</td>\n",
       "      <td>0.389151</td>\n",
       "      <td>-4501.0</td>\n",
       "      <td>1991.0</td>\n",
       "      <td>2022-06-13 00:14:05</td>\n",
       "    </tr>\n",
       "  </tbody>\n",
       "</table>\n",
       "<p>132 rows × 6 columns</p>\n",
       "</div>"
      ],
      "text/plain": [
       "              X           Y  Pressure   TiltX   TiltY                Time\n",
       "0    925.902760  665.541979  0.045884 -4917.0   669.0 2022-06-13 00:12:36\n",
       "1    925.902760  665.541979  0.045884 -4917.0   669.0 2022-06-13 00:12:37\n",
       "2    926.692690  665.647303  0.082506 -4917.0   669.0 2022-06-13 00:12:38\n",
       "3    927.008662  665.647303  0.115953 -4917.0   669.0 2022-06-13 00:12:39\n",
       "4    927.324633  665.594641  0.140368 -4917.0   669.0 2022-06-13 00:12:41\n",
       "..          ...         ...       ...     ...     ...                 ...\n",
       "127  585.495785  647.004966  0.378408 -4510.0  1946.0 2022-06-13 00:14:01\n",
       "128  584.863841  646.846980  0.382803 -4510.0  1946.0 2022-06-13 00:14:02\n",
       "129  584.863841  646.846980  0.386954 -4510.0  1946.0 2022-06-13 00:14:03\n",
       "130  584.653193  646.741656  0.386954 -4501.0  1991.0 2022-06-13 00:14:04\n",
       "131  584.653193  646.741656  0.389151 -4501.0  1991.0 2022-06-13 00:14:05\n",
       "\n",
       "[132 rows x 6 columns]"
      ]
     },
     "execution_count": 11,
     "metadata": {},
     "output_type": "execute_result"
    }
   ],
   "source": [
    "dfs[0]"
   ]
  },
  {
   "cell_type": "markdown",
   "id": "c3fbb8bb",
   "metadata": {},
   "source": [
    "#### Plot some photos"
   ]
  },
  {
   "cell_type": "code",
   "execution_count": 13,
   "id": "15be9df6",
   "metadata": {},
   "outputs": [
    {
     "data": {
      "image/png": "[encoded data removed]",
      "text/plain": [
       "<Figure size 360x360 with 1 Axes>"
      ]
     },
     "metadata": {
      "needs_background": "light"
     },
     "output_type": "display_data"
    }
   ],
   "source": [
    "plt.figure (figsize = (5,5))\n",
    "plt.plot(dfs[2]['X'],-dfs[2]['Y'],'o')\n",
    "ax = plt.gca()\n"
   ]
  },
  {
   "cell_type": "code",
   "execution_count": 14,
   "id": "916df0b8",
   "metadata": {},
   "outputs": [
    {
     "data": {
      "image/png": "[encoded data removed]",
      "text/plain": [
       "<Figure size 360x360 with 1 Axes>"
      ]
     },
     "metadata": {
      "needs_background": "light"
     },
     "output_type": "display_data"
    }
   ],
   "source": [
    "plt.figure (figsize = (5,5))\n",
    "plt.plot(dfs[3]['X'],-dfs[3]['Y'],'o')\n",
    "ax = plt.gca()"
   ]
  },
  {
   "cell_type": "markdown",
   "id": "cd8d2008",
   "metadata": {},
   "source": [
    "## Add new colmun\n",
    "We decided to make a new column of the distance between each point and the one after it.\n",
    "This column will help us later\n"
   ]
  },
  {
   "cell_type": "code",
   "execution_count": 191,
   "id": "3109865f",
   "metadata": {},
   "outputs": [],
   "source": [
    "def distance(x1,x2,y1,y2):\n",
    "    return math.sqrt(pow(x1-x2,2)+pow(y1-y2,2))"
   ]
  },
  {
   "cell_type": "code",
   "execution_count": 192,
   "id": "6dcca351",
   "metadata": {},
   "outputs": [],
   "source": [
    "for df in dfs:\n",
    "    dist=[]\n",
    "    for i in range(0,len(df)-1):\n",
    "        dist.append(distance(df.loc[i]['X'],df.loc[i+1 ]['X'],df.loc[i]['Y'],df.loc[i+1]['Y']))\n",
    "    dist.append(0)\n",
    "    df['distance']=dist"
   ]
  },
  {
   "cell_type": "markdown",
   "id": "3c23c1bc",
   "metadata": {},
   "source": [
    "### Question 3 - Hands lifted\n",
    "First, answer question 3 because we have used it in other questions"
   ]
  },
  {
   "cell_type": "code",
   "execution_count": 17,
   "id": "6a2a6e63",
   "metadata": {},
   "outputs": [
    {
     "data": {
      "image/png": "[encoded data removed]",
      "text/plain": [
       "<Figure size 360x360 with 1 Axes>"
      ]
     },
     "metadata": {
      "needs_background": "light"
     },
     "output_type": "display_data"
    }
   ],
   "source": [
    "plt.figure (figsize = (5,5))\n",
    "plt.plot(dfs[11]['X'],-dfs[11]['Y'],'o', marker='o')\n",
    "ax = plt.gca()"
   ]
  },
  {
   "cell_type": "code",
   "execution_count": 18,
   "id": "742c788b",
   "metadata": {},
   "outputs": [
    {
     "data": {
      "text/plain": [
       "[<matplotlib.lines.Line2D at 0x1ec2c6b1250>]"
      ]
     },
     "execution_count": 18,
     "metadata": {},
     "output_type": "execute_result"
    },
    {
     "data": {
      "image/png": "[encoded data removed]",
      "text/plain": [
       "<Figure size 360x360 with 1 Axes>"
      ]
     },
     "metadata": {
      "needs_background": "light"
     },
     "output_type": "display_data"
    }
   ],
   "source": [
    "plt.figure (figsize = (5,5))\n",
    "plt.plot(dfs[11]['Time'],dfs[11]['Pressure'],'-o')"
   ]
  },
  {
   "cell_type": "markdown",
   "id": "01f4458a",
   "metadata": {},
   "source": [
    "From the graph above, it can be seen that we have jumped when the pen pressure changes \"drastically\", we will count them.\n"
   ]
  },
  {
   "cell_type": "markdown",
   "id": "3625a8fb",
   "metadata": {},
   "source": [
    "## The function of hands lift\n",
    "The function counts hands lift when the pressure between points is more than 0.25 or there is a large distance between points and the one after it. The last hands lift of finish the draw doesn't count"
   ]
  },
  {
   "cell_type": "code",
   "execution_count": 205,
   "id": "85ee9519",
   "metadata": {},
   "outputs": [],
   "source": [
    "def liftHandCount(df):\n",
    "    count = 0\n",
    "    for i in range (0 ,len(df['Pressure'])-1):\n",
    "        if abs(df.loc[i,'Pressure']-df.loc[i+1,'Pressure'])>0.25:\n",
    "            count += 1\n",
    "        elif df.loc[i,'distance']>30:\n",
    "            count += 1\n",
    "    return count   "
   ]
  },
  {
   "cell_type": "markdown",
   "id": "c90b1762",
   "metadata": {},
   "source": [
    "### Sample visualization\n"
   ]
  },
  {
   "cell_type": "code",
   "execution_count": 263,
   "id": "0799038f",
   "metadata": {},
   "outputs": [],
   "source": [
    "def liftHandCountVis(df):\n",
    "    index=[]\n",
    "    for i in range (0 ,len(df['Pressure'])-1):\n",
    "        if abs(df.loc[i,'Pressure']-df.loc[i+1,'Pressure'])>0.25:\n",
    "            index.append(i)\n",
    "        elif df.loc[i,'distance']>30:\n",
    "            index.append(i)\n",
    "    return index  "
   ]
  },
  {
   "cell_type": "code",
   "execution_count": 297,
   "id": "8906aee1",
   "metadata": {},
   "outputs": [
    {
     "name": "stdout",
     "output_type": "stream",
     "text": [
      "9\n"
     ]
    }
   ],
   "source": [
    "print(liftHandCount(dfs[6]))"
   ]
  },
  {
   "cell_type": "code",
   "execution_count": 267,
   "id": "91bdc19c",
   "metadata": {},
   "outputs": [
    {
     "data": {
      "text/plain": [
       "[<matplotlib.lines.Line2D at 0x1ec2c5f0af0>]"
      ]
     },
     "execution_count": 267,
     "metadata": {},
     "output_type": "execute_result"
    },
    {
     "data": {
      "image/png": "[encoded data removed]",
      "text/plain": [
       "<Figure size 360x360 with 1 Axes>"
      ]
     },
     "metadata": {
      "needs_background": "light"
     },
     "output_type": "display_data"
    }
   ],
   "source": [
    "liftsHand=liftHandCountVis(dfs[6])\n",
    "plt.figure(figsize=(5,5))\n",
    "plt.plot(dfs[6]['X'], -dfs[6]['Y'], 'o')\n",
    "\n",
    "plt.plot(dfs[6]['X'][liftsHand], -dfs[6]['Y'][liftsHand], 'o', mew=0.3)"
   ]
  },
  {
   "cell_type": "markdown",
   "id": "802ba80f",
   "metadata": {},
   "source": [
    "We can see there is 9 hands lift"
   ]
  },
  {
   "cell_type": "code",
   "execution_count": 298,
   "id": "578f3481",
   "metadata": {},
   "outputs": [
    {
     "name": "stdout",
     "output_type": "stream",
     "text": [
      "2\n"
     ]
    }
   ],
   "source": [
    "print(liftHandCount(dfs[4]))"
   ]
  },
  {
   "cell_type": "code",
   "execution_count": 299,
   "id": "42281995",
   "metadata": {},
   "outputs": [
    {
     "data": {
      "text/plain": [
       "[<matplotlib.lines.Line2D at 0x1ec2f736a60>]"
      ]
     },
     "execution_count": 299,
     "metadata": {},
     "output_type": "execute_result"
    },
    {
     "data": {
      "image/png": "[encoded data removed]",
      "text/plain": [
       "<Figure size 360x360 with 1 Axes>"
      ]
     },
     "metadata": {
      "needs_background": "light"
     },
     "output_type": "display_data"
    }
   ],
   "source": [
    "liftsHand=liftHandCountVis(dfs[4])\n",
    "plt.figure(figsize=(5,5))\n",
    "plt.plot(dfs[4]['X'], -dfs[4]['Y'], 'o')\n",
    "\n",
    "plt.plot(dfs[4]['X'][liftsHand], -dfs[4]['Y'][liftsHand], 'o', mew=0.3)"
   ]
  },
  {
   "cell_type": "markdown",
   "id": "fb768599",
   "metadata": {},
   "source": [
    "## Question 1 - Lines counting"
   ]
  },
  {
   "cell_type": "markdown",
   "id": "0d8b450c",
   "metadata": {},
   "source": [
    "### The function of Counting lines\n",
    "We looked at the whole Dataframe and noticed that when we have a continuation of the X line of all the dots it is an ascending or descending series. Likewise the Y.\n",
    "Conversely, when we have a new line, the way the series changes, if the series went up then it starts going down and if it went down it starts going up.\n",
    "In addition, each line lift is considered the beginning of a new line.\n",
    "When creating a list of points at the beginning of a new line it can be seen that we have several points always in a sequence, we treated them as a block. It's mean as the beginning of one line"
   ]
  },
  {
   "cell_type": "code",
   "execution_count": 237,
   "id": "8329eb1a",
   "metadata": {},
   "outputs": [],
   "source": [
    "def linesCount(df):\n",
    "    count = 0\n",
    "    index = []\n",
    "    if df.loc[0 , 'X'] < df.loc[1 , 'X']:\n",
    "        direct_x = 1\n",
    "    else :\n",
    "        direct_x = -1\n",
    "    if df.loc[0 , 'Y'] < df.loc[1 , 'Y']:\n",
    "          direct_y = 1\n",
    "    else:\n",
    "          direct_y = -1\n",
    "            \n",
    "    for i in range (1,len(df['Y'])-1):\n",
    "        if df.loc[i , 'X'] > df.loc[i+1 , 'X'] and direct_x == 1 and df.loc[i , 'Y'] > df.loc[i+1 , 'Y'] and direct_y == 1:\n",
    "                direct_x = -1\n",
    "                direct_y = -1\n",
    "                index.append(i)\n",
    "            \n",
    "        elif df.loc[i , 'X'] < df.loc[i+1 , 'X'] and direct_x == 1 and df.loc[i , 'Y'] < df.loc[i+1 , 'Y'] and direct_y == -1:\n",
    "            direct_x = -1\n",
    "            direct_y = 1\n",
    "            index.append(i)\n",
    "            \n",
    "        elif df.loc[i , 'X'] > df.loc[i+1 , 'X'] and direct_x == -1 and df.loc[i , 'Y'] > df.loc[i+1 , 'Y'] and direct_y == 1:\n",
    "            direct_x = 1\n",
    "            direct_y = -1 \n",
    "            index.append(i)\n",
    "        \n",
    "        elif df.loc[i , 'X'] < df.loc[i+1 , 'X'] and direct_x == -1 and df.loc[i , 'Y'] < df.loc[i+1 , 'Y'] and direct_y == -1:\n",
    "                direct_x = 1\n",
    "                direct_y = 1\n",
    "                index.append(i)\n",
    "                        \n",
    "        elif df.loc[i , 'X'] > df.loc[i+1 , 'X'] and direct_x == 1:\n",
    "                direct_x = -1\n",
    "                index.append(i)\n",
    "\n",
    "        elif df.loc[i , 'X'] < df.loc[i+1 , 'X'] and direct_x == -1:\n",
    "                direct_x = 1\n",
    "                index.append(i)\n",
    "                \n",
    "        elif df.loc[i , 'Y'] > df.loc[i+1 , 'Y'] and direct_y == 1:\n",
    "                direct_y = -1\n",
    "                index.append(i)\n",
    "                \n",
    "        elif df.loc[i , 'Y'] < df.loc[i+1 , 'Y'] and direct_y == -1:\n",
    "                direct_y = 1\n",
    "                index.append(i)\n",
    "            \n",
    "    count_index=1\n",
    "    for i in range (0,(len(index)-1)):\n",
    "        if index[i]+40 < index[i+1]:\n",
    "            count_index+=1\n",
    "    \n",
    "    if count_index<liftHandCount(df):\n",
    "        return liftHandCount(df)\n",
    "    \n",
    "    return count_index    "
   ]
  },
  {
   "cell_type": "markdown",
   "id": "cf86289d",
   "metadata": {},
   "source": [
    "### Sample visualization\n"
   ]
  },
  {
   "cell_type": "code",
   "execution_count": 279,
   "id": "5c55bdb2",
   "metadata": {},
   "outputs": [
    {
     "data": {
      "text/plain": [
       "6"
      ]
     },
     "execution_count": 279,
     "metadata": {},
     "output_type": "execute_result"
    }
   ],
   "source": [
    "linesCount(dfs[10])"
   ]
  },
  {
   "cell_type": "code",
   "execution_count": 280,
   "id": "15aa5545",
   "metadata": {},
   "outputs": [
    {
     "data": {
      "text/plain": [
       "[<matplotlib.lines.Line2D at 0x1ec2e32b7c0>]"
      ]
     },
     "execution_count": 280,
     "metadata": {},
     "output_type": "execute_result"
    },
    {
     "data": {
      "image/png": "[encoded data removed]",
      "text/plain": [
       "<Figure size 360x360 with 1 Axes>"
      ]
     },
     "metadata": {
      "needs_background": "light"
     },
     "output_type": "display_data"
    }
   ],
   "source": [
    "linesCountStart=linesCountReturnList(dfs[10])\n",
    "plt.figure(figsize=(5,5))\n",
    "plt.plot(dfs[10]['X'], -dfs[10]['Y'], 'o')\n",
    "\n",
    "plt.plot(dfs[10]['X'][linesCountStart], -dfs[10]['Y'][linesCountStart], 'o', mew=0.5)"
   ]
  },
  {
   "cell_type": "code",
   "execution_count": 282,
   "id": "712ffc40",
   "metadata": {},
   "outputs": [
    {
     "data": {
      "text/plain": [
       "4"
      ]
     },
     "execution_count": 282,
     "metadata": {},
     "output_type": "execute_result"
    }
   ],
   "source": [
    "linesCount(dfs[11])"
   ]
  },
  {
   "cell_type": "code",
   "execution_count": 283,
   "id": "524915a2",
   "metadata": {},
   "outputs": [
    {
     "data": {
      "text/plain": [
       "[<matplotlib.lines.Line2D at 0x1ec2e387910>]"
      ]
     },
     "execution_count": 283,
     "metadata": {},
     "output_type": "execute_result"
    },
    {
     "data": {
      "image/png": "[encoded data removed]",
      "text/plain": [
       "<Figure size 360x360 with 1 Axes>"
      ]
     },
     "metadata": {
      "needs_background": "light"
     },
     "output_type": "display_data"
    }
   ],
   "source": [
    "linesCountStart=linesCountReturnList(dfs[11])\n",
    "plt.figure(figsize=(5,5))\n",
    "plt.plot(dfs[11]['X'], -dfs[11]['Y'], 'o')\n",
    "\n",
    "plt.plot(dfs[11]['X'][linesCountStart], -dfs[11]['Y'][linesCountStart], 'o', mew=0.5)"
   ]
  },
  {
   "cell_type": "markdown",
   "id": "2a914b02",
   "metadata": {},
   "source": [
    "## Question 2 - Calculate the length of the line & the average pressure"
   ]
  },
  {
   "cell_type": "markdown",
   "id": "5951366c",
   "metadata": {},
   "source": [
    "### The help function of Calculate the length of the line\n",
    "We did a similar auxiliary function that counts the number of lines only that it returns the indexes where each line begins. In order to know where each line begins.\n"
   ]
  },
  {
   "cell_type": "code",
   "execution_count": 92,
   "id": "e287ff08",
   "metadata": {},
   "outputs": [],
   "source": [
    "def linesCountReturnList(df):\n",
    "    count = 0\n",
    "    index = []\n",
    "    if df.loc[0 , 'X'] < df.loc[1 , 'X']:\n",
    "        direct_x = 1\n",
    "    else :\n",
    "        direct_x = -1\n",
    "    if df.loc[0 , 'Y'] < df.loc[1 , 'Y']:\n",
    "          direct_y = 1\n",
    "    else:\n",
    "          direct_y = -1\n",
    "    for i in range (1,len(df['Y'])-1):\n",
    "        if df.loc[i , 'X'] > df.loc[i+1 , 'X'] and direct_x == 1 and df.loc[i , 'Y'] > df.loc[i+1 , 'Y'] and direct_y == 1:\n",
    "                direct_x = -1\n",
    "                direct_y = -1\n",
    "                index.append(i)\n",
    "            \n",
    "        elif df.loc[i , 'X'] < df.loc[i+1 , 'X'] and direct_x == 1 and df.loc[i , 'Y'] < df.loc[i+1 , 'Y'] and direct_y == -1:\n",
    "            direct_x = -1\n",
    "            direct_y = 1\n",
    "            index.append(i)\n",
    "            \n",
    "        elif df.loc[i , 'X'] > df.loc[i+1 , 'X'] and direct_x == -1 and df.loc[i , 'Y'] > df.loc[i+1 , 'Y'] and direct_y == 1:\n",
    "            direct_x = 1\n",
    "            direct_y = -1 \n",
    "            index.append(i)\n",
    "            \n",
    "        elif df.loc[i , 'X'] < df.loc[i+1 , 'X'] and direct_x == -1 and df.loc[i , 'Y'] < df.loc[i+1 , 'Y'] and direct_y == -1:\n",
    "                direct_x = 1\n",
    "                direct_y = 1\n",
    "                index.append(i)\n",
    "                        \n",
    "        elif df.loc[i , 'X'] > df.loc[i+1 , 'X'] and direct_x == 1:\n",
    "                direct_x = -1\n",
    "                index.append(i)\n",
    "\n",
    "        elif df.loc[i , 'X'] < df.loc[i+1 , 'X'] and direct_x == -1:\n",
    "                direct_x = 1\n",
    "                index.append(i)\n",
    "                \n",
    "        elif df.loc[i , 'Y'] > df.loc[i+1 , 'Y'] and direct_y == 1:\n",
    "                direct_y = -1\n",
    "                index.append(i)\n",
    "                \n",
    "        elif df.loc[i , 'Y'] < df.loc[i+1 , 'Y'] and direct_y == -1:\n",
    "                direct_y = 1\n",
    "                index.append(i)\n",
    "\n",
    "    startLines=[index[0]]\n",
    "    for i in range (0,(len(index)-1)):\n",
    "        if index[i]+40 < index[i+1]:\n",
    "            startLines.append(index[i+1])\n",
    "            \n",
    "    return startLines    "
   ]
  },
  {
   "cell_type": "code",
   "execution_count": 284,
   "id": "b81d596e",
   "metadata": {},
   "outputs": [
    {
     "data": {
      "text/plain": [
       "[1, 199, 332, 483, 578, 677]"
      ]
     },
     "execution_count": 284,
     "metadata": {},
     "output_type": "execute_result"
    }
   ],
   "source": [
    "linesCountReturnList(dfs[10])\n"
   ]
  },
  {
   "cell_type": "markdown",
   "id": "02e70e73",
   "metadata": {},
   "source": [
    "### The function of Calculate the length of the line\n",
    "Once we have received the list of indexes we will run on the Dataframe and sum up all the distances between points"
   ]
  },
  {
   "cell_type": "code",
   "execution_count": 162,
   "id": "f2ade59d",
   "metadata": {},
   "outputs": [],
   "source": [
    "def linesLength(df):\n",
    "    lines=linesCountReturnList(df)\n",
    "    sum=0\n",
    "    for j in range (0,lines[1]):\n",
    "            sum += df.loc[j]['distance']\n",
    "    print('The length of line',1,'is:',sum)\n",
    "        \n",
    "    for i in range (1,len(lines)-1):\n",
    "        sum=0\n",
    "        for j in range (lines[i],lines[i+1]):\n",
    "            sum += df.loc[j]['distance']\n",
    "        print('The length of line',i+1,'is',sum)\n",
    "     \n",
    "    sum=0\n",
    "    for j in range (lines[len(lines)-1],len(df)-1):\n",
    "            sum += df.loc[j]['distance']\n",
    "    print('The length of line',len(lines),' is: ',sum)"
   ]
  },
  {
   "cell_type": "code",
   "execution_count": 178,
   "id": "9f77648d",
   "metadata": {},
   "outputs": [
    {
     "name": "stdout",
     "output_type": "stream",
     "text": [
      "The length of line 1 is: 422.6469914290229\n",
      "The length of line 2 is 182.48986120957457\n",
      "The length of line 3 is 223.6840807221298\n",
      "The length of line 4 is 442.2714035911501\n",
      "The length of line 5 is 116.04066440002829\n",
      "The length of line 6  is:  150.308952781483\n"
     ]
    }
   ],
   "source": [
    "linesLength(dfs[10])"
   ]
  },
  {
   "cell_type": "markdown",
   "id": "0786fd6c",
   "metadata": {},
   "source": [
    "### The function of Calculate the the average pressure\n",
    "Once we have the length of the line we will run on the Dataframe and sum up the pressures and divide by the number of rows\n"
   ]
  },
  {
   "cell_type": "code",
   "execution_count": 182,
   "id": "c8c0e9c8",
   "metadata": {},
   "outputs": [],
   "source": [
    "def linesPressureAverage(df):\n",
    "    lines=linesCountReturnList(df)\n",
    "    count=0\n",
    "    sum=0\n",
    "    for j in range (0,lines[1]):\n",
    "        count+=1\n",
    "        sum += df.loc[j]['Pressure']\n",
    "    print('The average pressure of line',1,'is:',sum/count)\n",
    "        \n",
    "    for i in range (1,len(lines)-1):\n",
    "        count=0\n",
    "        sum=0\n",
    "        for j in range (lines[i],lines[i+1]):\n",
    "            count+=1\n",
    "            sum += df.loc[j]['Pressure']\n",
    "        print('The average pressure of line',i+1,'is',sum/count)\n",
    "    count=0 \n",
    "    sum=0\n",
    "    for j in range (lines[len(lines)-1],len(df)-1):\n",
    "        count+=1\n",
    "        sum += df.loc[j]['Pressure']\n",
    "    print('The average pressure of line',len(lines),'is:',sum/count)"
   ]
  },
  {
   "cell_type": "code",
   "execution_count": 183,
   "id": "a455942f",
   "metadata": {},
   "outputs": [
    {
     "name": "stdout",
     "output_type": "stream",
     "text": [
      "The average pressure of line 1 is: 0.7995869270970474\n",
      "The average pressure of line 2 is 0.5295687162114265\n",
      "The average pressure of line 3 is 0.6801272498456058\n",
      "The average pressure of line 4 is 0.5730275103920385\n",
      "The average pressure of line 5 is 0.5808806071678797\n",
      "The average pressure of line 6 is: 0.6615718515175912\n"
     ]
    }
   ],
   "source": [
    "linesPressureAverage(dfs[10])"
   ]
  },
  {
   "cell_type": "markdown",
   "id": "067ab6bc",
   "metadata": {},
   "source": [
    "### Question 4 - Shapes is closed or open"
   ]
  },
  {
   "cell_type": "code",
   "execution_count": 186,
   "id": "3984b89d",
   "metadata": {},
   "outputs": [
    {
     "data": {
      "image/png": "[encoded data removed]",
      "text/plain": [
       "<Figure size 360x360 with 1 Axes>"
      ]
     },
     "metadata": {
      "needs_background": "light"
     },
     "output_type": "display_data"
    }
   ],
   "source": [
    "plt.figure (figsize = (5,5))\n",
    "plt.plot(dfs[3]['X'],-dfs[3]['Y'],'o')\n",
    "ax = plt.gca()"
   ]
  },
  {
   "cell_type": "code",
   "execution_count": 189,
   "id": "155c21c5",
   "metadata": {},
   "outputs": [
    {
     "data": {
      "text/html": [
       "<div>\n",
       "<style scoped>\n",
       "    .dataframe tbody tr th:only-of-type {\n",
       "        vertical-align: middle;\n",
       "    }\n",
       "\n",
       "    .dataframe tbody tr th {\n",
       "        vertical-align: top;\n",
       "    }\n",
       "\n",
       "    .dataframe thead th {\n",
       "        text-align: right;\n",
       "    }\n",
       "</style>\n",
       "<table border=\"1\" class=\"dataframe\">\n",
       "  <thead>\n",
       "    <tr style=\"text-align: right;\">\n",
       "      <th></th>\n",
       "      <th>X</th>\n",
       "      <th>Y</th>\n",
       "      <th>Pressure</th>\n",
       "      <th>TiltX</th>\n",
       "      <th>TiltY</th>\n",
       "      <th>Time</th>\n",
       "      <th>distance</th>\n",
       "    </tr>\n",
       "  </thead>\n",
       "  <tbody>\n",
       "    <tr>\n",
       "      <th>0</th>\n",
       "      <td>571.329715</td>\n",
       "      <td>364.894792</td>\n",
       "      <td>0.190661</td>\n",
       "      <td>-3352.0</td>\n",
       "      <td>2845.0</td>\n",
       "      <td>2022-06-13 00:02:14</td>\n",
       "      <td>0.659853</td>\n",
       "    </tr>\n",
       "    <tr>\n",
       "      <th>1</th>\n",
       "      <td>571.908996</td>\n",
       "      <td>364.578820</td>\n",
       "      <td>0.202380</td>\n",
       "      <td>-3352.0</td>\n",
       "      <td>2845.0</td>\n",
       "      <td>2022-06-13 00:02:15</td>\n",
       "      <td>1.212370</td>\n",
       "    </tr>\n",
       "    <tr>\n",
       "      <th>2</th>\n",
       "      <td>572.909574</td>\n",
       "      <td>363.894214</td>\n",
       "      <td>0.237781</td>\n",
       "      <td>-3352.0</td>\n",
       "      <td>2845.0</td>\n",
       "      <td>2022-06-13 00:02:16</td>\n",
       "      <td>0.223426</td>\n",
       "    </tr>\n",
       "    <tr>\n",
       "      <th>3</th>\n",
       "      <td>573.067560</td>\n",
       "      <td>363.736228</td>\n",
       "      <td>0.239979</td>\n",
       "      <td>-3352.0</td>\n",
       "      <td>2845.0</td>\n",
       "      <td>2022-06-13 00:02:17</td>\n",
       "      <td>0.000000</td>\n",
       "    </tr>\n",
       "    <tr>\n",
       "      <th>4</th>\n",
       "      <td>573.067560</td>\n",
       "      <td>363.736228</td>\n",
       "      <td>0.230701</td>\n",
       "      <td>-3352.0</td>\n",
       "      <td>2845.0</td>\n",
       "      <td>2022-06-13 00:02:17</td>\n",
       "      <td>65.540313</td>\n",
       "    </tr>\n",
       "    <tr>\n",
       "      <th>5</th>\n",
       "      <td>619.778727</td>\n",
       "      <td>409.710128</td>\n",
       "      <td>0.260487</td>\n",
       "      <td>-4405.0</td>\n",
       "      <td>2788.0</td>\n",
       "      <td>2022-06-13 00:03:01</td>\n",
       "      <td>0.595802</td>\n",
       "    </tr>\n",
       "    <tr>\n",
       "      <th>6</th>\n",
       "      <td>620.200023</td>\n",
       "      <td>409.288832</td>\n",
       "      <td>0.276600</td>\n",
       "      <td>-4405.0</td>\n",
       "      <td>2788.0</td>\n",
       "      <td>2022-06-13 00:03:02</td>\n",
       "      <td>0.000000</td>\n",
       "    </tr>\n",
       "    <tr>\n",
       "      <th>7</th>\n",
       "      <td>620.200023</td>\n",
       "      <td>409.288832</td>\n",
       "      <td>0.268055</td>\n",
       "      <td>-4276.0</td>\n",
       "      <td>2682.0</td>\n",
       "      <td>2022-06-13 00:03:03</td>\n",
       "      <td>0.000000</td>\n",
       "    </tr>\n",
       "    <tr>\n",
       "      <th>8</th>\n",
       "      <td>620.200023</td>\n",
       "      <td>409.288832</td>\n",
       "      <td>0.277577</td>\n",
       "      <td>-4102.0</td>\n",
       "      <td>2544.0</td>\n",
       "      <td>2022-06-13 00:03:04</td>\n",
       "      <td>0.000000</td>\n",
       "    </tr>\n",
       "    <tr>\n",
       "      <th>9</th>\n",
       "      <td>620.200023</td>\n",
       "      <td>409.288832</td>\n",
       "      <td>0.282460</td>\n",
       "      <td>-4102.0</td>\n",
       "      <td>2544.0</td>\n",
       "      <td>2022-06-13 00:03:05</td>\n",
       "      <td>0.569626</td>\n",
       "    </tr>\n",
       "    <tr>\n",
       "      <th>10</th>\n",
       "      <td>619.726065</td>\n",
       "      <td>408.972861</td>\n",
       "      <td>0.282460</td>\n",
       "      <td>-4102.0</td>\n",
       "      <td>2544.0</td>\n",
       "      <td>2022-06-13 00:03:06</td>\n",
       "      <td>0.796920</td>\n",
       "    </tr>\n",
       "    <tr>\n",
       "      <th>11</th>\n",
       "      <td>618.936136</td>\n",
       "      <td>408.867537</td>\n",
       "      <td>0.207263</td>\n",
       "      <td>-4102.0</td>\n",
       "      <td>2544.0</td>\n",
       "      <td>2022-06-13 00:03:06</td>\n",
       "      <td>61.822215</td>\n",
       "    </tr>\n",
       "    <tr>\n",
       "      <th>12</th>\n",
       "      <td>667.806444</td>\n",
       "      <td>446.731493</td>\n",
       "      <td>0.073472</td>\n",
       "      <td>-3727.0</td>\n",
       "      <td>2112.0</td>\n",
       "      <td>2022-06-13 00:03:58</td>\n",
       "      <td>0.000000</td>\n",
       "    </tr>\n",
       "    <tr>\n",
       "      <th>13</th>\n",
       "      <td>667.806444</td>\n",
       "      <td>446.731493</td>\n",
       "      <td>0.073472</td>\n",
       "      <td>-3727.0</td>\n",
       "      <td>2112.0</td>\n",
       "      <td>2022-06-13 00:03:59</td>\n",
       "      <td>0.000000</td>\n",
       "    </tr>\n",
       "    <tr>\n",
       "      <th>14</th>\n",
       "      <td>667.806444</td>\n",
       "      <td>446.731493</td>\n",
       "      <td>0.060533</td>\n",
       "      <td>-3727.0</td>\n",
       "      <td>2112.0</td>\n",
       "      <td>2022-06-13 00:04:00</td>\n",
       "      <td>0.000000</td>\n",
       "    </tr>\n",
       "    <tr>\n",
       "      <th>15</th>\n",
       "      <td>667.806444</td>\n",
       "      <td>446.731493</td>\n",
       "      <td>0.062730</td>\n",
       "      <td>-3727.0</td>\n",
       "      <td>2112.0</td>\n",
       "      <td>2022-06-13 00:04:01</td>\n",
       "      <td>0.567187</td>\n",
       "    </tr>\n",
       "    <tr>\n",
       "      <th>16</th>\n",
       "      <td>667.279824</td>\n",
       "      <td>446.520845</td>\n",
       "      <td>0.066636</td>\n",
       "      <td>-3727.0</td>\n",
       "      <td>2112.0</td>\n",
       "      <td>2022-06-13 00:04:02</td>\n",
       "      <td>55.164338</td>\n",
       "    </tr>\n",
       "    <tr>\n",
       "      <th>17</th>\n",
       "      <td>705.354429</td>\n",
       "      <td>486.438619</td>\n",
       "      <td>0.176013</td>\n",
       "      <td>-4577.0</td>\n",
       "      <td>2851.0</td>\n",
       "      <td>2022-06-13 00:04:49</td>\n",
       "      <td>0.968179</td>\n",
       "    </tr>\n",
       "    <tr>\n",
       "      <th>18</th>\n",
       "      <td>706.039035</td>\n",
       "      <td>485.754013</td>\n",
       "      <td>0.186999</td>\n",
       "      <td>-4577.0</td>\n",
       "      <td>2851.0</td>\n",
       "      <td>2022-06-13 00:04:50</td>\n",
       "      <td>1.752940</td>\n",
       "    </tr>\n",
       "    <tr>\n",
       "      <th>19</th>\n",
       "      <td>706.986950</td>\n",
       "      <td>484.279478</td>\n",
       "      <td>0.183825</td>\n",
       "      <td>-4577.0</td>\n",
       "      <td>2851.0</td>\n",
       "      <td>2022-06-13 00:04:51</td>\n",
       "      <td>1.737047</td>\n",
       "    </tr>\n",
       "    <tr>\n",
       "      <th>20</th>\n",
       "      <td>707.408246</td>\n",
       "      <td>482.594295</td>\n",
       "      <td>0.179187</td>\n",
       "      <td>-4395.0</td>\n",
       "      <td>2701.0</td>\n",
       "      <td>2022-06-13 00:04:52</td>\n",
       "      <td>1.333295</td>\n",
       "    </tr>\n",
       "    <tr>\n",
       "      <th>21</th>\n",
       "      <td>707.618894</td>\n",
       "      <td>481.277746</td>\n",
       "      <td>0.185290</td>\n",
       "      <td>-4395.0</td>\n",
       "      <td>2701.0</td>\n",
       "      <td>2022-06-13 00:04:53</td>\n",
       "      <td>1.059802</td>\n",
       "    </tr>\n",
       "    <tr>\n",
       "      <th>22</th>\n",
       "      <td>707.144936</td>\n",
       "      <td>480.329830</td>\n",
       "      <td>0.190661</td>\n",
       "      <td>-4395.0</td>\n",
       "      <td>2701.0</td>\n",
       "      <td>2022-06-13 00:04:54</td>\n",
       "      <td>0.805573</td>\n",
       "    </tr>\n",
       "    <tr>\n",
       "      <th>23</th>\n",
       "      <td>706.355006</td>\n",
       "      <td>480.171844</td>\n",
       "      <td>0.190661</td>\n",
       "      <td>-4395.0</td>\n",
       "      <td>2701.0</td>\n",
       "      <td>2022-06-13 00:04:55</td>\n",
       "      <td>48.745787</td>\n",
       "    </tr>\n",
       "    <tr>\n",
       "      <th>24</th>\n",
       "      <td>741.111907</td>\n",
       "      <td>514.349463</td>\n",
       "      <td>0.183581</td>\n",
       "      <td>-3516.0</td>\n",
       "      <td>1659.0</td>\n",
       "      <td>2022-06-13 00:05:43</td>\n",
       "      <td>1.058493</td>\n",
       "    </tr>\n",
       "    <tr>\n",
       "      <th>25</th>\n",
       "      <td>741.217231</td>\n",
       "      <td>515.402702</td>\n",
       "      <td>0.186511</td>\n",
       "      <td>-3516.0</td>\n",
       "      <td>1659.0</td>\n",
       "      <td>2022-06-13 00:05:44</td>\n",
       "      <td>0.754005</td>\n",
       "    </tr>\n",
       "    <tr>\n",
       "      <th>26</th>\n",
       "      <td>741.059245</td>\n",
       "      <td>516.139970</td>\n",
       "      <td>0.143297</td>\n",
       "      <td>-3516.0</td>\n",
       "      <td>1659.0</td>\n",
       "      <td>2022-06-13 00:05:45</td>\n",
       "      <td>75.374145</td>\n",
       "    </tr>\n",
       "    <tr>\n",
       "      <th>27</th>\n",
       "      <td>778.975863</td>\n",
       "      <td>581.282827</td>\n",
       "      <td>0.137194</td>\n",
       "      <td>-4510.0</td>\n",
       "      <td>1721.0</td>\n",
       "      <td>2022-06-13 00:06:26</td>\n",
       "      <td>1.698298</td>\n",
       "    </tr>\n",
       "    <tr>\n",
       "      <th>28</th>\n",
       "      <td>780.450398</td>\n",
       "      <td>580.440236</td>\n",
       "      <td>0.148180</td>\n",
       "      <td>-4510.0</td>\n",
       "      <td>1721.0</td>\n",
       "      <td>2022-06-13 00:06:27</td>\n",
       "      <td>1.248433</td>\n",
       "    </tr>\n",
       "    <tr>\n",
       "      <th>29</th>\n",
       "      <td>781.556300</td>\n",
       "      <td>579.860954</td>\n",
       "      <td>0.029526</td>\n",
       "      <td>-4095.0</td>\n",
       "      <td>1500.0</td>\n",
       "      <td>2022-06-13 00:06:27</td>\n",
       "      <td>102.783134</td>\n",
       "    </tr>\n",
       "    <tr>\n",
       "      <th>30</th>\n",
       "      <td>839.115833</td>\n",
       "      <td>665.015360</td>\n",
       "      <td>0.117174</td>\n",
       "      <td>-5277.0</td>\n",
       "      <td>1190.0</td>\n",
       "      <td>2022-06-13 00:07:11</td>\n",
       "      <td>138.248184</td>\n",
       "    </tr>\n",
       "    <tr>\n",
       "      <th>31</th>\n",
       "      <td>926.903338</td>\n",
       "      <td>771.813835</td>\n",
       "      <td>0.137682</td>\n",
       "      <td>-3913.0</td>\n",
       "      <td>554.0</td>\n",
       "      <td>2022-06-13 00:08:39</td>\n",
       "      <td>0.000000</td>\n",
       "    </tr>\n",
       "    <tr>\n",
       "      <th>32</th>\n",
       "      <td>926.903338</td>\n",
       "      <td>771.813835</td>\n",
       "      <td>0.139879</td>\n",
       "      <td>-3913.0</td>\n",
       "      <td>554.0</td>\n",
       "      <td>2022-06-13 00:08:39</td>\n",
       "      <td>69.846292</td>\n",
       "    </tr>\n",
       "    <tr>\n",
       "      <th>33</th>\n",
       "      <td>881.508719</td>\n",
       "      <td>718.730569</td>\n",
       "      <td>0.190661</td>\n",
       "      <td>-4220.0</td>\n",
       "      <td>956.0</td>\n",
       "      <td>2022-06-13 00:09:42</td>\n",
       "      <td>0.268524</td>\n",
       "    </tr>\n",
       "    <tr>\n",
       "      <th>34</th>\n",
       "      <td>881.772029</td>\n",
       "      <td>718.783231</td>\n",
       "      <td>0.196521</td>\n",
       "      <td>-4220.0</td>\n",
       "      <td>956.0</td>\n",
       "      <td>2022-06-13 00:09:43</td>\n",
       "      <td>0.000000</td>\n",
       "    </tr>\n",
       "    <tr>\n",
       "      <th>35</th>\n",
       "      <td>881.772029</td>\n",
       "      <td>718.783231</td>\n",
       "      <td>0.189197</td>\n",
       "      <td>-3992.0</td>\n",
       "      <td>883.0</td>\n",
       "      <td>2022-06-13 00:09:44</td>\n",
       "      <td>0.000000</td>\n",
       "    </tr>\n",
       "    <tr>\n",
       "      <th>36</th>\n",
       "      <td>881.772029</td>\n",
       "      <td>718.783231</td>\n",
       "      <td>0.186999</td>\n",
       "      <td>-3992.0</td>\n",
       "      <td>883.0</td>\n",
       "      <td>2022-06-13 00:09:45</td>\n",
       "      <td>0.000000</td>\n",
       "    </tr>\n",
       "    <tr>\n",
       "      <th>37</th>\n",
       "      <td>881.772029</td>\n",
       "      <td>718.783231</td>\n",
       "      <td>0.186999</td>\n",
       "      <td>-3992.0</td>\n",
       "      <td>883.0</td>\n",
       "      <td>2022-06-13 00:09:46</td>\n",
       "      <td>1.156167</td>\n",
       "    </tr>\n",
       "    <tr>\n",
       "      <th>38</th>\n",
       "      <td>881.192747</td>\n",
       "      <td>717.782654</td>\n",
       "      <td>0.179187</td>\n",
       "      <td>-3992.0</td>\n",
       "      <td>883.0</td>\n",
       "      <td>2022-06-13 00:09:46</td>\n",
       "      <td>179.362449</td>\n",
       "    </tr>\n",
       "    <tr>\n",
       "      <th>39</th>\n",
       "      <td>996.364476</td>\n",
       "      <td>855.283058</td>\n",
       "      <td>0.176989</td>\n",
       "      <td>-3636.0</td>\n",
       "      <td>32.0</td>\n",
       "      <td>2022-06-13 00:10:48</td>\n",
       "      <td>1.001962</td>\n",
       "    </tr>\n",
       "    <tr>\n",
       "      <th>40</th>\n",
       "      <td>996.417138</td>\n",
       "      <td>856.283636</td>\n",
       "      <td>0.187976</td>\n",
       "      <td>-3636.0</td>\n",
       "      <td>32.0</td>\n",
       "      <td>2022-06-13 00:10:49</td>\n",
       "      <td>1.394300</td>\n",
       "    </tr>\n",
       "    <tr>\n",
       "      <th>41</th>\n",
       "      <td>996.153828</td>\n",
       "      <td>857.652847</td>\n",
       "      <td>0.155261</td>\n",
       "      <td>-3636.0</td>\n",
       "      <td>32.0</td>\n",
       "      <td>2022-06-13 00:10:50</td>\n",
       "      <td>2.262014</td>\n",
       "    </tr>\n",
       "    <tr>\n",
       "      <th>42</th>\n",
       "      <td>995.205913</td>\n",
       "      <td>859.706664</td>\n",
       "      <td>0.149401</td>\n",
       "      <td>-3636.0</td>\n",
       "      <td>32.0</td>\n",
       "      <td>2022-06-13 00:10:50</td>\n",
       "      <td>0.283593</td>\n",
       "    </tr>\n",
       "    <tr>\n",
       "      <th>43</th>\n",
       "      <td>995.100589</td>\n",
       "      <td>859.969973</td>\n",
       "      <td>0.149401</td>\n",
       "      <td>-3636.0</td>\n",
       "      <td>32.0</td>\n",
       "      <td>2022-06-13 00:10:51</td>\n",
       "      <td>0.235511</td>\n",
       "    </tr>\n",
       "    <tr>\n",
       "      <th>44</th>\n",
       "      <td>994.995265</td>\n",
       "      <td>860.180621</td>\n",
       "      <td>0.137438</td>\n",
       "      <td>-3636.0</td>\n",
       "      <td>32.0</td>\n",
       "      <td>2022-06-13 00:10:52</td>\n",
       "      <td>0.235511</td>\n",
       "    </tr>\n",
       "    <tr>\n",
       "      <th>45</th>\n",
       "      <td>994.889941</td>\n",
       "      <td>860.391269</td>\n",
       "      <td>0.126207</td>\n",
       "      <td>-3636.0</td>\n",
       "      <td>32.0</td>\n",
       "      <td>2022-06-13 00:10:52</td>\n",
       "      <td>0.000000</td>\n",
       "    </tr>\n",
       "  </tbody>\n",
       "</table>\n",
       "</div>"
      ],
      "text/plain": [
       "             X           Y  Pressure   TiltX   TiltY                Time  \\\n",
       "0   571.329715  364.894792  0.190661 -3352.0  2845.0 2022-06-13 00:02:14   \n",
       "1   571.908996  364.578820  0.202380 -3352.0  2845.0 2022-06-13 00:02:15   \n",
       "2   572.909574  363.894214  0.237781 -3352.0  2845.0 2022-06-13 00:02:16   \n",
       "3   573.067560  363.736228  0.239979 -3352.0  2845.0 2022-06-13 00:02:17   \n",
       "4   573.067560  363.736228  0.230701 -3352.0  2845.0 2022-06-13 00:02:17   \n",
       "5   619.778727  409.710128  0.260487 -4405.0  2788.0 2022-06-13 00:03:01   \n",
       "6   620.200023  409.288832  0.276600 -4405.0  2788.0 2022-06-13 00:03:02   \n",
       "7   620.200023  409.288832  0.268055 -4276.0  2682.0 2022-06-13 00:03:03   \n",
       "8   620.200023  409.288832  0.277577 -4102.0  2544.0 2022-06-13 00:03:04   \n",
       "9   620.200023  409.288832  0.282460 -4102.0  2544.0 2022-06-13 00:03:05   \n",
       "10  619.726065  408.972861  0.282460 -4102.0  2544.0 2022-06-13 00:03:06   \n",
       "11  618.936136  408.867537  0.207263 -4102.0  2544.0 2022-06-13 00:03:06   \n",
       "12  667.806444  446.731493  0.073472 -3727.0  2112.0 2022-06-13 00:03:58   \n",
       "13  667.806444  446.731493  0.073472 -3727.0  2112.0 2022-06-13 00:03:59   \n",
       "14  667.806444  446.731493  0.060533 -3727.0  2112.0 2022-06-13 00:04:00   \n",
       "15  667.806444  446.731493  0.062730 -3727.0  2112.0 2022-06-13 00:04:01   \n",
       "16  667.279824  446.520845  0.066636 -3727.0  2112.0 2022-06-13 00:04:02   \n",
       "17  705.354429  486.438619  0.176013 -4577.0  2851.0 2022-06-13 00:04:49   \n",
       "18  706.039035  485.754013  0.186999 -4577.0  2851.0 2022-06-13 00:04:50   \n",
       "19  706.986950  484.279478  0.183825 -4577.0  2851.0 2022-06-13 00:04:51   \n",
       "20  707.408246  482.594295  0.179187 -4395.0  2701.0 2022-06-13 00:04:52   \n",
       "21  707.618894  481.277746  0.185290 -4395.0  2701.0 2022-06-13 00:04:53   \n",
       "22  707.144936  480.329830  0.190661 -4395.0  2701.0 2022-06-13 00:04:54   \n",
       "23  706.355006  480.171844  0.190661 -4395.0  2701.0 2022-06-13 00:04:55   \n",
       "24  741.111907  514.349463  0.183581 -3516.0  1659.0 2022-06-13 00:05:43   \n",
       "25  741.217231  515.402702  0.186511 -3516.0  1659.0 2022-06-13 00:05:44   \n",
       "26  741.059245  516.139970  0.143297 -3516.0  1659.0 2022-06-13 00:05:45   \n",
       "27  778.975863  581.282827  0.137194 -4510.0  1721.0 2022-06-13 00:06:26   \n",
       "28  780.450398  580.440236  0.148180 -4510.0  1721.0 2022-06-13 00:06:27   \n",
       "29  781.556300  579.860954  0.029526 -4095.0  1500.0 2022-06-13 00:06:27   \n",
       "30  839.115833  665.015360  0.117174 -5277.0  1190.0 2022-06-13 00:07:11   \n",
       "31  926.903338  771.813835  0.137682 -3913.0   554.0 2022-06-13 00:08:39   \n",
       "32  926.903338  771.813835  0.139879 -3913.0   554.0 2022-06-13 00:08:39   \n",
       "33  881.508719  718.730569  0.190661 -4220.0   956.0 2022-06-13 00:09:42   \n",
       "34  881.772029  718.783231  0.196521 -4220.0   956.0 2022-06-13 00:09:43   \n",
       "35  881.772029  718.783231  0.189197 -3992.0   883.0 2022-06-13 00:09:44   \n",
       "36  881.772029  718.783231  0.186999 -3992.0   883.0 2022-06-13 00:09:45   \n",
       "37  881.772029  718.783231  0.186999 -3992.0   883.0 2022-06-13 00:09:46   \n",
       "38  881.192747  717.782654  0.179187 -3992.0   883.0 2022-06-13 00:09:46   \n",
       "39  996.364476  855.283058  0.176989 -3636.0    32.0 2022-06-13 00:10:48   \n",
       "40  996.417138  856.283636  0.187976 -3636.0    32.0 2022-06-13 00:10:49   \n",
       "41  996.153828  857.652847  0.155261 -3636.0    32.0 2022-06-13 00:10:50   \n",
       "42  995.205913  859.706664  0.149401 -3636.0    32.0 2022-06-13 00:10:50   \n",
       "43  995.100589  859.969973  0.149401 -3636.0    32.0 2022-06-13 00:10:51   \n",
       "44  994.995265  860.180621  0.137438 -3636.0    32.0 2022-06-13 00:10:52   \n",
       "45  994.889941  860.391269  0.126207 -3636.0    32.0 2022-06-13 00:10:52   \n",
       "\n",
       "      distance  \n",
       "0     0.659853  \n",
       "1     1.212370  \n",
       "2     0.223426  \n",
       "3     0.000000  \n",
       "4    65.540313  \n",
       "5     0.595802  \n",
       "6     0.000000  \n",
       "7     0.000000  \n",
       "8     0.000000  \n",
       "9     0.569626  \n",
       "10    0.796920  \n",
       "11   61.822215  \n",
       "12    0.000000  \n",
       "13    0.000000  \n",
       "14    0.000000  \n",
       "15    0.567187  \n",
       "16   55.164338  \n",
       "17    0.968179  \n",
       "18    1.752940  \n",
       "19    1.737047  \n",
       "20    1.333295  \n",
       "21    1.059802  \n",
       "22    0.805573  \n",
       "23   48.745787  \n",
       "24    1.058493  \n",
       "25    0.754005  \n",
       "26   75.374145  \n",
       "27    1.698298  \n",
       "28    1.248433  \n",
       "29  102.783134  \n",
       "30  138.248184  \n",
       "31    0.000000  \n",
       "32   69.846292  \n",
       "33    0.268524  \n",
       "34    0.000000  \n",
       "35    0.000000  \n",
       "36    0.000000  \n",
       "37    1.156167  \n",
       "38  179.362449  \n",
       "39    1.001962  \n",
       "40    1.394300  \n",
       "41    2.262014  \n",
       "42    0.283593  \n",
       "43    0.235511  \n",
       "44    0.235511  \n",
       "45    0.000000  "
      ]
     },
     "execution_count": 189,
     "metadata": {},
     "output_type": "execute_result"
    }
   ],
   "source": [
    "pd.set_option('display.max_rows', None)\n",
    "\n",
    "dfs[6]"
   ]
  },
  {
   "cell_type": "code",
   "execution_count": null,
   "id": "020d4181",
   "metadata": {},
   "outputs": [],
   "source": [
    "def closeOrOpen(df):\n",
    "    "
   ]
  }
 ],
 "metadata": {
  "kernelspec": {
   "display_name": "Python 3",
   "language": "python",
   "name": "python3"
  },
  "language_info": {
   "codemirror_mode": {
    "name": "ipython",
    "version": 3
   },
   "file_extension": ".py",
   "mimetype": "text/x-python",
   "name": "python",
   "nbconvert_exporter": "python",
   "pygments_lexer": "ipython3",
   "version": "3.8.8"
  }
 },
 "nbformat": 4,
 "nbformat_minor": 5
}
