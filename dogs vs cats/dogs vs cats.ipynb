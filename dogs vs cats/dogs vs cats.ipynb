{
 "cells": [
  {
   "cell_type": "code",
   "execution_count": 212,
   "id": "0ae674f6",
   "metadata": {},
   "outputs": [],
   "source": [
    "import pandas as pd\n",
    "import numpy as np\n",
    "import os\n",
    "import matplotlib.image as mpimg\n",
    "import matplotlib.pyplot as plt\n",
    "import matplotlib.image as mpimg\n",
    "from PIL import Image\n",
    "from PIL import ImageDraw\n",
    "import cv2\n",
    "from sklearn.neighbors import KNeighborsClassifier\n",
    "from sklearn.dummy import DummyClassifier\n",
    "from sklearn.model_selection import KFold\n",
    "from sklearn.model_selection import cross_val_score\n",
    "from sklearn.tree import DecisionTreeClassifier\n",
    "from sklearn.decomposition import PCA\n",
    "from sklearn.model_selection import train_test_split\n",
    "from sklearn.model_selection import GridSearchCV\n",
    "from xgboost.sklearn import XGBClassifier as xgb\n",
    "from sklearn import metrics\n",
    "from sklearn.ensemble import AdaBoostClassifier\n",
    "from sklearn.ensemble import VotingClassifier\n",
    "from sklearn.ensemble import RandomForestClassifier\n",
    "from sklearn.manifold import TSNE"
   ]
  },
  {
   "cell_type": "code",
   "execution_count": 5,
   "id": "905cd974",
   "metadata": {},
   "outputs": [],
   "source": [
    "url = r'C:\\לימודים\\סמסטר ב\\הדמיית נתונים\\פרוייקט גמר\\dogs-vs-cats\\train\\train'\n",
    "titles = os.listdir(url)"
   ]
  },
  {
   "cell_type": "code",
   "execution_count": null,
   "id": "d77041aa",
   "metadata": {},
   "outputs": [],
   "source": []
  },
  {
   "cell_type": "code",
   "execution_count": 6,
   "id": "708182a0",
   "metadata": {},
   "outputs": [],
   "source": [
    "category =[]\n",
    "for title in titles:\n",
    "    title = title.split('.')[0]\n",
    "    if title == \"cat\":\n",
    "        category.append(0)\n",
    "    else:\n",
    "        category.append(1)\n",
    "categories = pd.DataFrame({'title': titles , 'category': category})"
   ]
  },
  {
   "cell_type": "code",
   "execution_count": 7,
   "id": "a7331f9f",
   "metadata": {},
   "outputs": [
    {
     "data": {
      "text/html": [
       "<div>\n",
       "<style scoped>\n",
       "    .dataframe tbody tr th:only-of-type {\n",
       "        vertical-align: middle;\n",
       "    }\n",
       "\n",
       "    .dataframe tbody tr th {\n",
       "        vertical-align: top;\n",
       "    }\n",
       "\n",
       "    .dataframe thead th {\n",
       "        text-align: right;\n",
       "    }\n",
       "</style>\n",
       "<table border=\"1\" class=\"dataframe\">\n",
       "  <thead>\n",
       "    <tr style=\"text-align: right;\">\n",
       "      <th></th>\n",
       "      <th>title</th>\n",
       "      <th>category</th>\n",
       "    </tr>\n",
       "  </thead>\n",
       "  <tbody>\n",
       "    <tr>\n",
       "      <th>0</th>\n",
       "      <td>cat.0.jpg</td>\n",
       "      <td>0</td>\n",
       "    </tr>\n",
       "    <tr>\n",
       "      <th>1</th>\n",
       "      <td>cat.1.jpg</td>\n",
       "      <td>0</td>\n",
       "    </tr>\n",
       "    <tr>\n",
       "      <th>2</th>\n",
       "      <td>cat.10.jpg</td>\n",
       "      <td>0</td>\n",
       "    </tr>\n",
       "    <tr>\n",
       "      <th>3</th>\n",
       "      <td>cat.100.jpg</td>\n",
       "      <td>0</td>\n",
       "    </tr>\n",
       "    <tr>\n",
       "      <th>4</th>\n",
       "      <td>cat.1000.jpg</td>\n",
       "      <td>0</td>\n",
       "    </tr>\n",
       "    <tr>\n",
       "      <th>...</th>\n",
       "      <td>...</td>\n",
       "      <td>...</td>\n",
       "    </tr>\n",
       "    <tr>\n",
       "      <th>24995</th>\n",
       "      <td>dog.9995.jpg</td>\n",
       "      <td>1</td>\n",
       "    </tr>\n",
       "    <tr>\n",
       "      <th>24996</th>\n",
       "      <td>dog.9996.jpg</td>\n",
       "      <td>1</td>\n",
       "    </tr>\n",
       "    <tr>\n",
       "      <th>24997</th>\n",
       "      <td>dog.9997.jpg</td>\n",
       "      <td>1</td>\n",
       "    </tr>\n",
       "    <tr>\n",
       "      <th>24998</th>\n",
       "      <td>dog.9998.jpg</td>\n",
       "      <td>1</td>\n",
       "    </tr>\n",
       "    <tr>\n",
       "      <th>24999</th>\n",
       "      <td>dog.9999.jpg</td>\n",
       "      <td>1</td>\n",
       "    </tr>\n",
       "  </tbody>\n",
       "</table>\n",
       "<p>25000 rows × 2 columns</p>\n",
       "</div>"
      ],
      "text/plain": [
       "              title  category\n",
       "0         cat.0.jpg         0\n",
       "1         cat.1.jpg         0\n",
       "2        cat.10.jpg         0\n",
       "3       cat.100.jpg         0\n",
       "4      cat.1000.jpg         0\n",
       "...             ...       ...\n",
       "24995  dog.9995.jpg         1\n",
       "24996  dog.9996.jpg         1\n",
       "24997  dog.9997.jpg         1\n",
       "24998  dog.9998.jpg         1\n",
       "24999  dog.9999.jpg         1\n",
       "\n",
       "[25000 rows x 2 columns]"
      ]
     },
     "execution_count": 7,
     "metadata": {},
     "output_type": "execute_result"
    }
   ],
   "source": [
    "categories"
   ]
  },
  {
   "cell_type": "markdown",
   "id": "57e12fcb",
   "metadata": {},
   "source": [
    "### let's show few pictures"
   ]
  },
  {
   "cell_type": "code",
   "execution_count": null,
   "id": "5c0e3349",
   "metadata": {},
   "outputs": [],
   "source": [
    "# Create figure with 2x2 sub-plots.\n",
    "def plot_images(images, labels):\n",
    "  fig, axes = plt.subplots(2, 2)\n",
    "  fig.subplots_adjust(hspace=0.5 , wspace=0.3)\n",
    "\n",
    "  for i, ax in enumerate(axes.flat):\n",
    "    # Plot image\n",
    "    ax.imshow(mpimg.imread(images[i]))\n",
    "    \n",
    "    # Plot label\n",
    "    ax.set_xlabel('Label : %s' % labels[i])\n",
    "        \n",
    "        \n",
    "  plt.show()"
   ]
  },
  {
   "cell_type": "code",
   "execution_count": 43,
   "id": "3d76e100",
   "metadata": {},
   "outputs": [
    {
     "data": {
      "image/png": "[encoded data removed]",
      "text/plain": [
       "<Figure size 432x288 with 4 Axes>"
      ]
     },
     "metadata": {
      "needs_background": "light"
     },
     "output_type": "display_data"
    }
   ],
   "source": [
    "img_paths = []\n",
    "img_labels = []\n",
    "for i in range(10):\n",
    "  # pick 4 random ids from the dataset\n",
    "  rand_id = np.random.randint(0, len(titles))\n",
    "  \n",
    "  # get the img path from the id\n",
    "  filename = categories.loc[rand_id, 'title'] \n",
    "  path = os.path.join(url, filename)\n",
    "  img_paths.append(path)\n",
    "  \n",
    "  # get the img label from the id\n",
    "  img_label = categories.loc[rand_id, 'category'] \n",
    "  if img_label == 1:\n",
    "    img_labels.append('dog')\n",
    "  else:\n",
    "    img_labels.append('cat')\n",
    "  \n",
    "plot_images(img_paths, img_labels)"
   ]
  },
  {
   "cell_type": "markdown",
   "id": "620a4ba3",
   "metadata": {},
   "source": [
    "## that is before cleaning data, let's claen it!"
   ]
  },
  {
   "cell_type": "code",
   "execution_count": 8,
   "id": "577bccab",
   "metadata": {},
   "outputs": [],
   "source": [
    "pixels = []\n",
    "for t in titles:\n",
    "    file = os.path.join(url , t)\n",
    "    img = Image.open(file)\n",
    "    resize = img.resize((100,100))\n",
    "    bw = resize.convert(mode='L')\n",
    "    temp = list(bw.getdata())\n",
    "    pixels = pixels +[temp]\n",
    "    bw.save(r'C:\\לימודים\\סמסטר ב\\הדמיית נתונים\\פרוייקט גמר\\dogs-vs-cats\\train\\resize_bw\\\\' + t)"
   ]
  },
  {
   "cell_type": "markdown",
   "id": "0fbb2969",
   "metadata": {},
   "source": [
    "### and now, lets show the cleaning pictures"
   ]
  },
  {
   "cell_type": "code",
   "execution_count": 10,
   "id": "6f1a0f3f",
   "metadata": {},
   "outputs": [],
   "source": [
    "column = []\n",
    "for i in range(0,100*100):\n",
    "    column.append('pixel' + str(i))"
   ]
  },
  {
   "cell_type": "code",
   "execution_count": 11,
   "id": "5a8cf45f",
   "metadata": {},
   "outputs": [],
   "source": [
    "df = pd.DataFrame(data = pixels , columns = column)"
   ]
  },
  {
   "cell_type": "code",
   "execution_count": 12,
   "id": "a1b23dab",
   "metadata": {},
   "outputs": [],
   "source": [
    "df['label'] = categories['category']"
   ]
  },
  {
   "cell_type": "code",
   "execution_count": 13,
   "id": "6d9bb108",
   "metadata": {},
   "outputs": [
    {
     "data": {
      "text/html": [
       "<div>\n",
       "<style scoped>\n",
       "    .dataframe tbody tr th:only-of-type {\n",
       "        vertical-align: middle;\n",
       "    }\n",
       "\n",
       "    .dataframe tbody tr th {\n",
       "        vertical-align: top;\n",
       "    }\n",
       "\n",
       "    .dataframe thead th {\n",
       "        text-align: right;\n",
       "    }\n",
       "</style>\n",
       "<table border=\"1\" class=\"dataframe\">\n",
       "  <thead>\n",
       "    <tr style=\"text-align: right;\">\n",
       "      <th></th>\n",
       "      <th>pixel0</th>\n",
       "      <th>pixel1</th>\n",
       "      <th>pixel2</th>\n",
       "      <th>pixel3</th>\n",
       "      <th>pixel4</th>\n",
       "      <th>pixel5</th>\n",
       "      <th>pixel6</th>\n",
       "      <th>pixel7</th>\n",
       "      <th>pixel8</th>\n",
       "      <th>pixel9</th>\n",
       "      <th>...</th>\n",
       "      <th>pixel9991</th>\n",
       "      <th>pixel9992</th>\n",
       "      <th>pixel9993</th>\n",
       "      <th>pixel9994</th>\n",
       "      <th>pixel9995</th>\n",
       "      <th>pixel9996</th>\n",
       "      <th>pixel9997</th>\n",
       "      <th>pixel9998</th>\n",
       "      <th>pixel9999</th>\n",
       "      <th>label</th>\n",
       "    </tr>\n",
       "  </thead>\n",
       "  <tbody>\n",
       "    <tr>\n",
       "      <th>0</th>\n",
       "      <td>169</td>\n",
       "      <td>173</td>\n",
       "      <td>177</td>\n",
       "      <td>182</td>\n",
       "      <td>185</td>\n",
       "      <td>188</td>\n",
       "      <td>190</td>\n",
       "      <td>194</td>\n",
       "      <td>196</td>\n",
       "      <td>198</td>\n",
       "      <td>...</td>\n",
       "      <td>3</td>\n",
       "      <td>3</td>\n",
       "      <td>2</td>\n",
       "      <td>2</td>\n",
       "      <td>2</td>\n",
       "      <td>2</td>\n",
       "      <td>2</td>\n",
       "      <td>2</td>\n",
       "      <td>2</td>\n",
       "      <td>0</td>\n",
       "    </tr>\n",
       "    <tr>\n",
       "      <th>1</th>\n",
       "      <td>43</td>\n",
       "      <td>43</td>\n",
       "      <td>50</td>\n",
       "      <td>47</td>\n",
       "      <td>44</td>\n",
       "      <td>39</td>\n",
       "      <td>43</td>\n",
       "      <td>42</td>\n",
       "      <td>41</td>\n",
       "      <td>53</td>\n",
       "      <td>...</td>\n",
       "      <td>51</td>\n",
       "      <td>55</td>\n",
       "      <td>56</td>\n",
       "      <td>54</td>\n",
       "      <td>68</td>\n",
       "      <td>74</td>\n",
       "      <td>68</td>\n",
       "      <td>35</td>\n",
       "      <td>36</td>\n",
       "      <td>0</td>\n",
       "    </tr>\n",
       "    <tr>\n",
       "      <th>2</th>\n",
       "      <td>34</td>\n",
       "      <td>31</td>\n",
       "      <td>44</td>\n",
       "      <td>46</td>\n",
       "      <td>45</td>\n",
       "      <td>53</td>\n",
       "      <td>56</td>\n",
       "      <td>56</td>\n",
       "      <td>54</td>\n",
       "      <td>56</td>\n",
       "      <td>...</td>\n",
       "      <td>163</td>\n",
       "      <td>150</td>\n",
       "      <td>134</td>\n",
       "      <td>134</td>\n",
       "      <td>146</td>\n",
       "      <td>158</td>\n",
       "      <td>169</td>\n",
       "      <td>170</td>\n",
       "      <td>154</td>\n",
       "      <td>0</td>\n",
       "    </tr>\n",
       "    <tr>\n",
       "      <th>3</th>\n",
       "      <td>222</td>\n",
       "      <td>223</td>\n",
       "      <td>223</td>\n",
       "      <td>226</td>\n",
       "      <td>231</td>\n",
       "      <td>227</td>\n",
       "      <td>228</td>\n",
       "      <td>232</td>\n",
       "      <td>229</td>\n",
       "      <td>227</td>\n",
       "      <td>...</td>\n",
       "      <td>211</td>\n",
       "      <td>203</td>\n",
       "      <td>204</td>\n",
       "      <td>205</td>\n",
       "      <td>215</td>\n",
       "      <td>221</td>\n",
       "      <td>216</td>\n",
       "      <td>212</td>\n",
       "      <td>213</td>\n",
       "      <td>0</td>\n",
       "    </tr>\n",
       "    <tr>\n",
       "      <th>4</th>\n",
       "      <td>116</td>\n",
       "      <td>119</td>\n",
       "      <td>125</td>\n",
       "      <td>96</td>\n",
       "      <td>81</td>\n",
       "      <td>93</td>\n",
       "      <td>134</td>\n",
       "      <td>131</td>\n",
       "      <td>154</td>\n",
       "      <td>181</td>\n",
       "      <td>...</td>\n",
       "      <td>96</td>\n",
       "      <td>97</td>\n",
       "      <td>93</td>\n",
       "      <td>101</td>\n",
       "      <td>118</td>\n",
       "      <td>95</td>\n",
       "      <td>91</td>\n",
       "      <td>95</td>\n",
       "      <td>83</td>\n",
       "      <td>0</td>\n",
       "    </tr>\n",
       "    <tr>\n",
       "      <th>...</th>\n",
       "      <td>...</td>\n",
       "      <td>...</td>\n",
       "      <td>...</td>\n",
       "      <td>...</td>\n",
       "      <td>...</td>\n",
       "      <td>...</td>\n",
       "      <td>...</td>\n",
       "      <td>...</td>\n",
       "      <td>...</td>\n",
       "      <td>...</td>\n",
       "      <td>...</td>\n",
       "      <td>...</td>\n",
       "      <td>...</td>\n",
       "      <td>...</td>\n",
       "      <td>...</td>\n",
       "      <td>...</td>\n",
       "      <td>...</td>\n",
       "      <td>...</td>\n",
       "      <td>...</td>\n",
       "      <td>...</td>\n",
       "      <td>...</td>\n",
       "    </tr>\n",
       "    <tr>\n",
       "      <th>24995</th>\n",
       "      <td>140</td>\n",
       "      <td>142</td>\n",
       "      <td>143</td>\n",
       "      <td>145</td>\n",
       "      <td>146</td>\n",
       "      <td>147</td>\n",
       "      <td>148</td>\n",
       "      <td>149</td>\n",
       "      <td>148</td>\n",
       "      <td>149</td>\n",
       "      <td>...</td>\n",
       "      <td>165</td>\n",
       "      <td>166</td>\n",
       "      <td>166</td>\n",
       "      <td>167</td>\n",
       "      <td>168</td>\n",
       "      <td>168</td>\n",
       "      <td>168</td>\n",
       "      <td>168</td>\n",
       "      <td>169</td>\n",
       "      <td>1</td>\n",
       "    </tr>\n",
       "    <tr>\n",
       "      <th>24996</th>\n",
       "      <td>97</td>\n",
       "      <td>79</td>\n",
       "      <td>99</td>\n",
       "      <td>91</td>\n",
       "      <td>87</td>\n",
       "      <td>100</td>\n",
       "      <td>81</td>\n",
       "      <td>81</td>\n",
       "      <td>95</td>\n",
       "      <td>76</td>\n",
       "      <td>...</td>\n",
       "      <td>94</td>\n",
       "      <td>85</td>\n",
       "      <td>95</td>\n",
       "      <td>85</td>\n",
       "      <td>82</td>\n",
       "      <td>85</td>\n",
       "      <td>98</td>\n",
       "      <td>96</td>\n",
       "      <td>71</td>\n",
       "      <td>1</td>\n",
       "    </tr>\n",
       "    <tr>\n",
       "      <th>24997</th>\n",
       "      <td>45</td>\n",
       "      <td>43</td>\n",
       "      <td>48</td>\n",
       "      <td>59</td>\n",
       "      <td>64</td>\n",
       "      <td>51</td>\n",
       "      <td>53</td>\n",
       "      <td>52</td>\n",
       "      <td>52</td>\n",
       "      <td>44</td>\n",
       "      <td>...</td>\n",
       "      <td>145</td>\n",
       "      <td>124</td>\n",
       "      <td>97</td>\n",
       "      <td>112</td>\n",
       "      <td>132</td>\n",
       "      <td>159</td>\n",
       "      <td>107</td>\n",
       "      <td>129</td>\n",
       "      <td>164</td>\n",
       "      <td>1</td>\n",
       "    </tr>\n",
       "    <tr>\n",
       "      <th>24998</th>\n",
       "      <td>254</td>\n",
       "      <td>251</td>\n",
       "      <td>244</td>\n",
       "      <td>234</td>\n",
       "      <td>222</td>\n",
       "      <td>205</td>\n",
       "      <td>180</td>\n",
       "      <td>143</td>\n",
       "      <td>101</td>\n",
       "      <td>72</td>\n",
       "      <td>...</td>\n",
       "      <td>100</td>\n",
       "      <td>98</td>\n",
       "      <td>102</td>\n",
       "      <td>102</td>\n",
       "      <td>111</td>\n",
       "      <td>111</td>\n",
       "      <td>113</td>\n",
       "      <td>114</td>\n",
       "      <td>114</td>\n",
       "      <td>1</td>\n",
       "    </tr>\n",
       "    <tr>\n",
       "      <th>24999</th>\n",
       "      <td>239</td>\n",
       "      <td>241</td>\n",
       "      <td>243</td>\n",
       "      <td>242</td>\n",
       "      <td>241</td>\n",
       "      <td>242</td>\n",
       "      <td>247</td>\n",
       "      <td>251</td>\n",
       "      <td>247</td>\n",
       "      <td>244</td>\n",
       "      <td>...</td>\n",
       "      <td>254</td>\n",
       "      <td>254</td>\n",
       "      <td>254</td>\n",
       "      <td>254</td>\n",
       "      <td>254</td>\n",
       "      <td>254</td>\n",
       "      <td>254</td>\n",
       "      <td>254</td>\n",
       "      <td>254</td>\n",
       "      <td>1</td>\n",
       "    </tr>\n",
       "  </tbody>\n",
       "</table>\n",
       "<p>25000 rows × 10001 columns</p>\n",
       "</div>"
      ],
      "text/plain": [
       "       pixel0  pixel1  pixel2  pixel3  pixel4  pixel5  pixel6  pixel7  pixel8  \\\n",
       "0         169     173     177     182     185     188     190     194     196   \n",
       "1          43      43      50      47      44      39      43      42      41   \n",
       "2          34      31      44      46      45      53      56      56      54   \n",
       "3         222     223     223     226     231     227     228     232     229   \n",
       "4         116     119     125      96      81      93     134     131     154   \n",
       "...       ...     ...     ...     ...     ...     ...     ...     ...     ...   \n",
       "24995     140     142     143     145     146     147     148     149     148   \n",
       "24996      97      79      99      91      87     100      81      81      95   \n",
       "24997      45      43      48      59      64      51      53      52      52   \n",
       "24998     254     251     244     234     222     205     180     143     101   \n",
       "24999     239     241     243     242     241     242     247     251     247   \n",
       "\n",
       "       pixel9  ...  pixel9991  pixel9992  pixel9993  pixel9994  pixel9995  \\\n",
       "0         198  ...          3          3          2          2          2   \n",
       "1          53  ...         51         55         56         54         68   \n",
       "2          56  ...        163        150        134        134        146   \n",
       "3         227  ...        211        203        204        205        215   \n",
       "4         181  ...         96         97         93        101        118   \n",
       "...       ...  ...        ...        ...        ...        ...        ...   \n",
       "24995     149  ...        165        166        166        167        168   \n",
       "24996      76  ...         94         85         95         85         82   \n",
       "24997      44  ...        145        124         97        112        132   \n",
       "24998      72  ...        100         98        102        102        111   \n",
       "24999     244  ...        254        254        254        254        254   \n",
       "\n",
       "       pixel9996  pixel9997  pixel9998  pixel9999  label  \n",
       "0              2          2          2          2      0  \n",
       "1             74         68         35         36      0  \n",
       "2            158        169        170        154      0  \n",
       "3            221        216        212        213      0  \n",
       "4             95         91         95         83      0  \n",
       "...          ...        ...        ...        ...    ...  \n",
       "24995        168        168        168        169      1  \n",
       "24996         85         98         96         71      1  \n",
       "24997        159        107        129        164      1  \n",
       "24998        111        113        114        114      1  \n",
       "24999        254        254        254        254      1  \n",
       "\n",
       "[25000 rows x 10001 columns]"
      ]
     },
     "execution_count": 13,
     "metadata": {},
     "output_type": "execute_result"
    }
   ],
   "source": [
    "df "
   ]
  },
  {
   "cell_type": "code",
   "execution_count": 14,
   "id": "81f09251",
   "metadata": {},
   "outputs": [
    {
     "data": {
      "image/png": "[encoded data removed]",
      "text/plain": [
       "<Figure size 432x288 with 1 Axes>"
      ]
     },
     "metadata": {},
     "output_type": "display_data"
    }
   ],
   "source": [
    "df[\"label\"].value_counts().plot(kind = \"pie\", autopct = \"%.2f\" )\n",
    "plt.title('Data separate by type of animal',fontsize=20)\n",
    "plt.show()"
   ]
  },
  {
   "cell_type": "markdown",
   "id": "7f0d4271",
   "metadata": {},
   "source": [
    "### well, our data is balanced, lets look the data"
   ]
  },
  {
   "cell_type": "code",
   "execution_count": 15,
   "id": "b62f9bea",
   "metadata": {},
   "outputs": [
    {
     "data": {
      "text/html": [
       "<div>\n",
       "<style scoped>\n",
       "    .dataframe tbody tr th:only-of-type {\n",
       "        vertical-align: middle;\n",
       "    }\n",
       "\n",
       "    .dataframe tbody tr th {\n",
       "        vertical-align: top;\n",
       "    }\n",
       "\n",
       "    .dataframe thead th {\n",
       "        text-align: right;\n",
       "    }\n",
       "</style>\n",
       "<table border=\"1\" class=\"dataframe\">\n",
       "  <thead>\n",
       "    <tr style=\"text-align: right;\">\n",
       "      <th></th>\n",
       "      <th>pixel0</th>\n",
       "      <th>pixel1</th>\n",
       "      <th>pixel2</th>\n",
       "      <th>pixel3</th>\n",
       "      <th>pixel4</th>\n",
       "      <th>pixel5</th>\n",
       "      <th>pixel6</th>\n",
       "      <th>pixel7</th>\n",
       "      <th>pixel8</th>\n",
       "      <th>pixel9</th>\n",
       "      <th>...</th>\n",
       "      <th>pixel9991</th>\n",
       "      <th>pixel9992</th>\n",
       "      <th>pixel9993</th>\n",
       "      <th>pixel9994</th>\n",
       "      <th>pixel9995</th>\n",
       "      <th>pixel9996</th>\n",
       "      <th>pixel9997</th>\n",
       "      <th>pixel9998</th>\n",
       "      <th>pixel9999</th>\n",
       "      <th>label</th>\n",
       "    </tr>\n",
       "  </thead>\n",
       "  <tbody>\n",
       "    <tr>\n",
       "      <th>count</th>\n",
       "      <td>25000.000000</td>\n",
       "      <td>25000.00000</td>\n",
       "      <td>25000.00000</td>\n",
       "      <td>25000.00000</td>\n",
       "      <td>25000.00000</td>\n",
       "      <td>25000.000000</td>\n",
       "      <td>25000.00000</td>\n",
       "      <td>25000.000000</td>\n",
       "      <td>25000.00000</td>\n",
       "      <td>25000.000000</td>\n",
       "      <td>...</td>\n",
       "      <td>25000.00000</td>\n",
       "      <td>25000.000000</td>\n",
       "      <td>25000.000000</td>\n",
       "      <td>25000.000000</td>\n",
       "      <td>25000.000000</td>\n",
       "      <td>25000.000000</td>\n",
       "      <td>25000.000000</td>\n",
       "      <td>25000.000000</td>\n",
       "      <td>25000.000000</td>\n",
       "      <td>25000.00000</td>\n",
       "    </tr>\n",
       "    <tr>\n",
       "      <th>mean</th>\n",
       "      <td>114.247960</td>\n",
       "      <td>114.59004</td>\n",
       "      <td>114.83796</td>\n",
       "      <td>115.22768</td>\n",
       "      <td>115.63592</td>\n",
       "      <td>115.998160</td>\n",
       "      <td>116.39900</td>\n",
       "      <td>116.634200</td>\n",
       "      <td>117.09612</td>\n",
       "      <td>117.218840</td>\n",
       "      <td>...</td>\n",
       "      <td>124.38460</td>\n",
       "      <td>123.940840</td>\n",
       "      <td>123.445560</td>\n",
       "      <td>122.939080</td>\n",
       "      <td>122.391840</td>\n",
       "      <td>121.836600</td>\n",
       "      <td>121.219080</td>\n",
       "      <td>120.753320</td>\n",
       "      <td>120.389880</td>\n",
       "      <td>0.50000</td>\n",
       "    </tr>\n",
       "    <tr>\n",
       "      <th>std</th>\n",
       "      <td>68.985043</td>\n",
       "      <td>68.77785</td>\n",
       "      <td>68.68357</td>\n",
       "      <td>68.64397</td>\n",
       "      <td>68.55194</td>\n",
       "      <td>68.444718</td>\n",
       "      <td>68.36624</td>\n",
       "      <td>68.424277</td>\n",
       "      <td>68.55232</td>\n",
       "      <td>68.467713</td>\n",
       "      <td>...</td>\n",
       "      <td>65.01052</td>\n",
       "      <td>65.040327</td>\n",
       "      <td>65.096998</td>\n",
       "      <td>65.242743</td>\n",
       "      <td>65.432194</td>\n",
       "      <td>65.511698</td>\n",
       "      <td>65.562679</td>\n",
       "      <td>65.605986</td>\n",
       "      <td>65.905611</td>\n",
       "      <td>0.50001</td>\n",
       "    </tr>\n",
       "    <tr>\n",
       "      <th>min</th>\n",
       "      <td>0.000000</td>\n",
       "      <td>0.00000</td>\n",
       "      <td>0.00000</td>\n",
       "      <td>0.00000</td>\n",
       "      <td>0.00000</td>\n",
       "      <td>0.000000</td>\n",
       "      <td>0.00000</td>\n",
       "      <td>0.000000</td>\n",
       "      <td>0.00000</td>\n",
       "      <td>0.000000</td>\n",
       "      <td>...</td>\n",
       "      <td>0.00000</td>\n",
       "      <td>0.000000</td>\n",
       "      <td>0.000000</td>\n",
       "      <td>0.000000</td>\n",
       "      <td>0.000000</td>\n",
       "      <td>0.000000</td>\n",
       "      <td>0.000000</td>\n",
       "      <td>0.000000</td>\n",
       "      <td>0.000000</td>\n",
       "      <td>0.00000</td>\n",
       "    </tr>\n",
       "    <tr>\n",
       "      <th>25%</th>\n",
       "      <td>57.000000</td>\n",
       "      <td>58.00000</td>\n",
       "      <td>58.00000</td>\n",
       "      <td>58.00000</td>\n",
       "      <td>59.00000</td>\n",
       "      <td>60.000000</td>\n",
       "      <td>60.00000</td>\n",
       "      <td>61.000000</td>\n",
       "      <td>60.00000</td>\n",
       "      <td>61.000000</td>\n",
       "      <td>...</td>\n",
       "      <td>74.00000</td>\n",
       "      <td>73.000000</td>\n",
       "      <td>73.000000</td>\n",
       "      <td>72.000000</td>\n",
       "      <td>71.750000</td>\n",
       "      <td>71.000000</td>\n",
       "      <td>70.000000</td>\n",
       "      <td>69.000000</td>\n",
       "      <td>69.000000</td>\n",
       "      <td>0.00000</td>\n",
       "    </tr>\n",
       "    <tr>\n",
       "      <th>50%</th>\n",
       "      <td>108.000000</td>\n",
       "      <td>109.00000</td>\n",
       "      <td>109.00000</td>\n",
       "      <td>110.00000</td>\n",
       "      <td>111.00000</td>\n",
       "      <td>111.000000</td>\n",
       "      <td>112.00000</td>\n",
       "      <td>112.000000</td>\n",
       "      <td>113.00000</td>\n",
       "      <td>113.000000</td>\n",
       "      <td>...</td>\n",
       "      <td>123.00000</td>\n",
       "      <td>122.000000</td>\n",
       "      <td>121.000000</td>\n",
       "      <td>121.000000</td>\n",
       "      <td>120.000000</td>\n",
       "      <td>120.000000</td>\n",
       "      <td>119.000000</td>\n",
       "      <td>118.000000</td>\n",
       "      <td>117.000000</td>\n",
       "      <td>0.50000</td>\n",
       "    </tr>\n",
       "    <tr>\n",
       "      <th>75%</th>\n",
       "      <td>164.000000</td>\n",
       "      <td>165.00000</td>\n",
       "      <td>165.00000</td>\n",
       "      <td>165.00000</td>\n",
       "      <td>166.00000</td>\n",
       "      <td>166.000000</td>\n",
       "      <td>167.00000</td>\n",
       "      <td>167.000000</td>\n",
       "      <td>167.00000</td>\n",
       "      <td>168.000000</td>\n",
       "      <td>...</td>\n",
       "      <td>172.00000</td>\n",
       "      <td>171.000000</td>\n",
       "      <td>170.250000</td>\n",
       "      <td>170.000000</td>\n",
       "      <td>170.000000</td>\n",
       "      <td>169.000000</td>\n",
       "      <td>168.000000</td>\n",
       "      <td>168.000000</td>\n",
       "      <td>167.000000</td>\n",
       "      <td>1.00000</td>\n",
       "    </tr>\n",
       "    <tr>\n",
       "      <th>max</th>\n",
       "      <td>255.000000</td>\n",
       "      <td>255.00000</td>\n",
       "      <td>255.00000</td>\n",
       "      <td>255.00000</td>\n",
       "      <td>255.00000</td>\n",
       "      <td>255.000000</td>\n",
       "      <td>255.00000</td>\n",
       "      <td>255.000000</td>\n",
       "      <td>255.00000</td>\n",
       "      <td>255.000000</td>\n",
       "      <td>...</td>\n",
       "      <td>255.00000</td>\n",
       "      <td>255.000000</td>\n",
       "      <td>255.000000</td>\n",
       "      <td>255.000000</td>\n",
       "      <td>255.000000</td>\n",
       "      <td>255.000000</td>\n",
       "      <td>255.000000</td>\n",
       "      <td>255.000000</td>\n",
       "      <td>255.000000</td>\n",
       "      <td>1.00000</td>\n",
       "    </tr>\n",
       "  </tbody>\n",
       "</table>\n",
       "<p>8 rows × 10001 columns</p>\n",
       "</div>"
      ],
      "text/plain": [
       "             pixel0       pixel1       pixel2       pixel3       pixel4  \\\n",
       "count  25000.000000  25000.00000  25000.00000  25000.00000  25000.00000   \n",
       "mean     114.247960    114.59004    114.83796    115.22768    115.63592   \n",
       "std       68.985043     68.77785     68.68357     68.64397     68.55194   \n",
       "min        0.000000      0.00000      0.00000      0.00000      0.00000   \n",
       "25%       57.000000     58.00000     58.00000     58.00000     59.00000   \n",
       "50%      108.000000    109.00000    109.00000    110.00000    111.00000   \n",
       "75%      164.000000    165.00000    165.00000    165.00000    166.00000   \n",
       "max      255.000000    255.00000    255.00000    255.00000    255.00000   \n",
       "\n",
       "             pixel5       pixel6        pixel7       pixel8        pixel9  \\\n",
       "count  25000.000000  25000.00000  25000.000000  25000.00000  25000.000000   \n",
       "mean     115.998160    116.39900    116.634200    117.09612    117.218840   \n",
       "std       68.444718     68.36624     68.424277     68.55232     68.467713   \n",
       "min        0.000000      0.00000      0.000000      0.00000      0.000000   \n",
       "25%       60.000000     60.00000     61.000000     60.00000     61.000000   \n",
       "50%      111.000000    112.00000    112.000000    113.00000    113.000000   \n",
       "75%      166.000000    167.00000    167.000000    167.00000    168.000000   \n",
       "max      255.000000    255.00000    255.000000    255.00000    255.000000   \n",
       "\n",
       "       ...    pixel9991     pixel9992     pixel9993     pixel9994  \\\n",
       "count  ...  25000.00000  25000.000000  25000.000000  25000.000000   \n",
       "mean   ...    124.38460    123.940840    123.445560    122.939080   \n",
       "std    ...     65.01052     65.040327     65.096998     65.242743   \n",
       "min    ...      0.00000      0.000000      0.000000      0.000000   \n",
       "25%    ...     74.00000     73.000000     73.000000     72.000000   \n",
       "50%    ...    123.00000    122.000000    121.000000    121.000000   \n",
       "75%    ...    172.00000    171.000000    170.250000    170.000000   \n",
       "max    ...    255.00000    255.000000    255.000000    255.000000   \n",
       "\n",
       "          pixel9995     pixel9996     pixel9997     pixel9998     pixel9999  \\\n",
       "count  25000.000000  25000.000000  25000.000000  25000.000000  25000.000000   \n",
       "mean     122.391840    121.836600    121.219080    120.753320    120.389880   \n",
       "std       65.432194     65.511698     65.562679     65.605986     65.905611   \n",
       "min        0.000000      0.000000      0.000000      0.000000      0.000000   \n",
       "25%       71.750000     71.000000     70.000000     69.000000     69.000000   \n",
       "50%      120.000000    120.000000    119.000000    118.000000    117.000000   \n",
       "75%      170.000000    169.000000    168.000000    168.000000    167.000000   \n",
       "max      255.000000    255.000000    255.000000    255.000000    255.000000   \n",
       "\n",
       "             label  \n",
       "count  25000.00000  \n",
       "mean       0.50000  \n",
       "std        0.50001  \n",
       "min        0.00000  \n",
       "25%        0.00000  \n",
       "50%        0.50000  \n",
       "75%        1.00000  \n",
       "max        1.00000  \n",
       "\n",
       "[8 rows x 10001 columns]"
      ]
     },
     "execution_count": 15,
     "metadata": {},
     "output_type": "execute_result"
    }
   ],
   "source": [
    "df.describe(include = 'all')"
   ]
  },
  {
   "cell_type": "code",
   "execution_count": 16,
   "id": "85faf996",
   "metadata": {},
   "outputs": [
    {
     "name": "stdout",
     "output_type": "stream",
     "text": [
      "<class 'pandas.core.frame.DataFrame'>\n",
      "RangeIndex: 25000 entries, 0 to 24999\n",
      "Columns: 10001 entries, pixel0 to label\n",
      "dtypes: int64(10001)\n",
      "memory usage: 1.9 GB\n"
     ]
    }
   ],
   "source": [
    "df.info()"
   ]
  },
  {
   "cell_type": "code",
   "execution_count": 17,
   "id": "4115805a",
   "metadata": {},
   "outputs": [
    {
     "data": {
      "text/plain": [
       "0"
      ]
     },
     "execution_count": 17,
     "metadata": {},
     "output_type": "execute_result"
    }
   ],
   "source": [
    "df.isnull().sum(axis=1).sum(axis=0)"
   ]
  },
  {
   "cell_type": "markdown",
   "id": "cdef41e0",
   "metadata": {},
   "source": [
    "## making new features"
   ]
  },
  {
   "cell_type": "code",
   "execution_count": 18,
   "id": "6a9af507",
   "metadata": {},
   "outputs": [],
   "source": [
    "df['sum'] = df[column].sum(axis = 1)"
   ]
  },
  {
   "cell_type": "code",
   "execution_count": 112,
   "id": "a56874b3",
   "metadata": {},
   "outputs": [],
   "source": [
    "df['pixel_mean'] = df[column].mean(axis=1)"
   ]
  },
  {
   "cell_type": "code",
   "execution_count": 114,
   "id": "5eb020e0",
   "metadata": {},
   "outputs": [],
   "source": [
    "df['pixel_median'] = df[column].median(axis=1)"
   ]
  },
  {
   "cell_type": "code",
   "execution_count": 115,
   "id": "ca435e50",
   "metadata": {},
   "outputs": [
    {
     "data": {
      "text/html": [
       "<div>\n",
       "<style scoped>\n",
       "    .dataframe tbody tr th:only-of-type {\n",
       "        vertical-align: middle;\n",
       "    }\n",
       "\n",
       "    .dataframe tbody tr th {\n",
       "        vertical-align: top;\n",
       "    }\n",
       "\n",
       "    .dataframe thead th {\n",
       "        text-align: right;\n",
       "    }\n",
       "</style>\n",
       "<table border=\"1\" class=\"dataframe\">\n",
       "  <thead>\n",
       "    <tr style=\"text-align: right;\">\n",
       "      <th></th>\n",
       "      <th>pixel0</th>\n",
       "      <th>pixel1</th>\n",
       "      <th>pixel2</th>\n",
       "      <th>pixel3</th>\n",
       "      <th>pixel4</th>\n",
       "      <th>pixel5</th>\n",
       "      <th>pixel6</th>\n",
       "      <th>pixel7</th>\n",
       "      <th>pixel8</th>\n",
       "      <th>pixel9</th>\n",
       "      <th>...</th>\n",
       "      <th>pixel9994</th>\n",
       "      <th>pixel9995</th>\n",
       "      <th>pixel9996</th>\n",
       "      <th>pixel9997</th>\n",
       "      <th>pixel9998</th>\n",
       "      <th>pixel9999</th>\n",
       "      <th>label</th>\n",
       "      <th>sum</th>\n",
       "      <th>pixel_mean</th>\n",
       "      <th>pixel_median</th>\n",
       "    </tr>\n",
       "  </thead>\n",
       "  <tbody>\n",
       "    <tr>\n",
       "      <th>0</th>\n",
       "      <td>169</td>\n",
       "      <td>173</td>\n",
       "      <td>177</td>\n",
       "      <td>182</td>\n",
       "      <td>185</td>\n",
       "      <td>188</td>\n",
       "      <td>190</td>\n",
       "      <td>194</td>\n",
       "      <td>196</td>\n",
       "      <td>198</td>\n",
       "      <td>...</td>\n",
       "      <td>2</td>\n",
       "      <td>2</td>\n",
       "      <td>2</td>\n",
       "      <td>2</td>\n",
       "      <td>2</td>\n",
       "      <td>2</td>\n",
       "      <td>0</td>\n",
       "      <td>1333744</td>\n",
       "      <td>133.3744</td>\n",
       "      <td>140.0</td>\n",
       "    </tr>\n",
       "    <tr>\n",
       "      <th>1</th>\n",
       "      <td>43</td>\n",
       "      <td>43</td>\n",
       "      <td>50</td>\n",
       "      <td>47</td>\n",
       "      <td>44</td>\n",
       "      <td>39</td>\n",
       "      <td>43</td>\n",
       "      <td>42</td>\n",
       "      <td>41</td>\n",
       "      <td>53</td>\n",
       "      <td>...</td>\n",
       "      <td>54</td>\n",
       "      <td>68</td>\n",
       "      <td>74</td>\n",
       "      <td>68</td>\n",
       "      <td>35</td>\n",
       "      <td>36</td>\n",
       "      <td>0</td>\n",
       "      <td>713735</td>\n",
       "      <td>71.3735</td>\n",
       "      <td>69.0</td>\n",
       "    </tr>\n",
       "    <tr>\n",
       "      <th>2</th>\n",
       "      <td>34</td>\n",
       "      <td>31</td>\n",
       "      <td>44</td>\n",
       "      <td>46</td>\n",
       "      <td>45</td>\n",
       "      <td>53</td>\n",
       "      <td>56</td>\n",
       "      <td>56</td>\n",
       "      <td>54</td>\n",
       "      <td>56</td>\n",
       "      <td>...</td>\n",
       "      <td>134</td>\n",
       "      <td>146</td>\n",
       "      <td>158</td>\n",
       "      <td>169</td>\n",
       "      <td>170</td>\n",
       "      <td>154</td>\n",
       "      <td>0</td>\n",
       "      <td>1118691</td>\n",
       "      <td>111.8691</td>\n",
       "      <td>120.0</td>\n",
       "    </tr>\n",
       "    <tr>\n",
       "      <th>3</th>\n",
       "      <td>222</td>\n",
       "      <td>223</td>\n",
       "      <td>223</td>\n",
       "      <td>226</td>\n",
       "      <td>231</td>\n",
       "      <td>227</td>\n",
       "      <td>228</td>\n",
       "      <td>232</td>\n",
       "      <td>229</td>\n",
       "      <td>227</td>\n",
       "      <td>...</td>\n",
       "      <td>205</td>\n",
       "      <td>215</td>\n",
       "      <td>221</td>\n",
       "      <td>216</td>\n",
       "      <td>212</td>\n",
       "      <td>213</td>\n",
       "      <td>0</td>\n",
       "      <td>1663447</td>\n",
       "      <td>166.3447</td>\n",
       "      <td>175.0</td>\n",
       "    </tr>\n",
       "    <tr>\n",
       "      <th>4</th>\n",
       "      <td>116</td>\n",
       "      <td>119</td>\n",
       "      <td>125</td>\n",
       "      <td>96</td>\n",
       "      <td>81</td>\n",
       "      <td>93</td>\n",
       "      <td>134</td>\n",
       "      <td>131</td>\n",
       "      <td>154</td>\n",
       "      <td>181</td>\n",
       "      <td>...</td>\n",
       "      <td>101</td>\n",
       "      <td>118</td>\n",
       "      <td>95</td>\n",
       "      <td>91</td>\n",
       "      <td>95</td>\n",
       "      <td>83</td>\n",
       "      <td>0</td>\n",
       "      <td>1058964</td>\n",
       "      <td>105.8964</td>\n",
       "      <td>89.0</td>\n",
       "    </tr>\n",
       "    <tr>\n",
       "      <th>...</th>\n",
       "      <td>...</td>\n",
       "      <td>...</td>\n",
       "      <td>...</td>\n",
       "      <td>...</td>\n",
       "      <td>...</td>\n",
       "      <td>...</td>\n",
       "      <td>...</td>\n",
       "      <td>...</td>\n",
       "      <td>...</td>\n",
       "      <td>...</td>\n",
       "      <td>...</td>\n",
       "      <td>...</td>\n",
       "      <td>...</td>\n",
       "      <td>...</td>\n",
       "      <td>...</td>\n",
       "      <td>...</td>\n",
       "      <td>...</td>\n",
       "      <td>...</td>\n",
       "      <td>...</td>\n",
       "      <td>...</td>\n",
       "      <td>...</td>\n",
       "    </tr>\n",
       "    <tr>\n",
       "      <th>24995</th>\n",
       "      <td>140</td>\n",
       "      <td>142</td>\n",
       "      <td>143</td>\n",
       "      <td>145</td>\n",
       "      <td>146</td>\n",
       "      <td>147</td>\n",
       "      <td>148</td>\n",
       "      <td>149</td>\n",
       "      <td>148</td>\n",
       "      <td>149</td>\n",
       "      <td>...</td>\n",
       "      <td>167</td>\n",
       "      <td>168</td>\n",
       "      <td>168</td>\n",
       "      <td>168</td>\n",
       "      <td>168</td>\n",
       "      <td>169</td>\n",
       "      <td>1</td>\n",
       "      <td>1085776</td>\n",
       "      <td>108.5776</td>\n",
       "      <td>151.0</td>\n",
       "    </tr>\n",
       "    <tr>\n",
       "      <th>24996</th>\n",
       "      <td>97</td>\n",
       "      <td>79</td>\n",
       "      <td>99</td>\n",
       "      <td>91</td>\n",
       "      <td>87</td>\n",
       "      <td>100</td>\n",
       "      <td>81</td>\n",
       "      <td>81</td>\n",
       "      <td>95</td>\n",
       "      <td>76</td>\n",
       "      <td>...</td>\n",
       "      <td>85</td>\n",
       "      <td>82</td>\n",
       "      <td>85</td>\n",
       "      <td>98</td>\n",
       "      <td>96</td>\n",
       "      <td>71</td>\n",
       "      <td>1</td>\n",
       "      <td>720504</td>\n",
       "      <td>72.0504</td>\n",
       "      <td>73.0</td>\n",
       "    </tr>\n",
       "    <tr>\n",
       "      <th>24997</th>\n",
       "      <td>45</td>\n",
       "      <td>43</td>\n",
       "      <td>48</td>\n",
       "      <td>59</td>\n",
       "      <td>64</td>\n",
       "      <td>51</td>\n",
       "      <td>53</td>\n",
       "      <td>52</td>\n",
       "      <td>52</td>\n",
       "      <td>44</td>\n",
       "      <td>...</td>\n",
       "      <td>112</td>\n",
       "      <td>132</td>\n",
       "      <td>159</td>\n",
       "      <td>107</td>\n",
       "      <td>129</td>\n",
       "      <td>164</td>\n",
       "      <td>1</td>\n",
       "      <td>1001014</td>\n",
       "      <td>100.1014</td>\n",
       "      <td>99.0</td>\n",
       "    </tr>\n",
       "    <tr>\n",
       "      <th>24998</th>\n",
       "      <td>254</td>\n",
       "      <td>251</td>\n",
       "      <td>244</td>\n",
       "      <td>234</td>\n",
       "      <td>222</td>\n",
       "      <td>205</td>\n",
       "      <td>180</td>\n",
       "      <td>143</td>\n",
       "      <td>101</td>\n",
       "      <td>72</td>\n",
       "      <td>...</td>\n",
       "      <td>102</td>\n",
       "      <td>111</td>\n",
       "      <td>111</td>\n",
       "      <td>113</td>\n",
       "      <td>114</td>\n",
       "      <td>114</td>\n",
       "      <td>1</td>\n",
       "      <td>1255901</td>\n",
       "      <td>125.5901</td>\n",
       "      <td>126.0</td>\n",
       "    </tr>\n",
       "    <tr>\n",
       "      <th>24999</th>\n",
       "      <td>239</td>\n",
       "      <td>241</td>\n",
       "      <td>243</td>\n",
       "      <td>242</td>\n",
       "      <td>241</td>\n",
       "      <td>242</td>\n",
       "      <td>247</td>\n",
       "      <td>251</td>\n",
       "      <td>247</td>\n",
       "      <td>244</td>\n",
       "      <td>...</td>\n",
       "      <td>254</td>\n",
       "      <td>254</td>\n",
       "      <td>254</td>\n",
       "      <td>254</td>\n",
       "      <td>254</td>\n",
       "      <td>254</td>\n",
       "      <td>1</td>\n",
       "      <td>1715596</td>\n",
       "      <td>171.5596</td>\n",
       "      <td>192.0</td>\n",
       "    </tr>\n",
       "  </tbody>\n",
       "</table>\n",
       "<p>25000 rows × 10004 columns</p>\n",
       "</div>"
      ],
      "text/plain": [
       "       pixel0  pixel1  pixel2  pixel3  pixel4  pixel5  pixel6  pixel7  pixel8  \\\n",
       "0         169     173     177     182     185     188     190     194     196   \n",
       "1          43      43      50      47      44      39      43      42      41   \n",
       "2          34      31      44      46      45      53      56      56      54   \n",
       "3         222     223     223     226     231     227     228     232     229   \n",
       "4         116     119     125      96      81      93     134     131     154   \n",
       "...       ...     ...     ...     ...     ...     ...     ...     ...     ...   \n",
       "24995     140     142     143     145     146     147     148     149     148   \n",
       "24996      97      79      99      91      87     100      81      81      95   \n",
       "24997      45      43      48      59      64      51      53      52      52   \n",
       "24998     254     251     244     234     222     205     180     143     101   \n",
       "24999     239     241     243     242     241     242     247     251     247   \n",
       "\n",
       "       pixel9  ...  pixel9994  pixel9995  pixel9996  pixel9997  pixel9998  \\\n",
       "0         198  ...          2          2          2          2          2   \n",
       "1          53  ...         54         68         74         68         35   \n",
       "2          56  ...        134        146        158        169        170   \n",
       "3         227  ...        205        215        221        216        212   \n",
       "4         181  ...        101        118         95         91         95   \n",
       "...       ...  ...        ...        ...        ...        ...        ...   \n",
       "24995     149  ...        167        168        168        168        168   \n",
       "24996      76  ...         85         82         85         98         96   \n",
       "24997      44  ...        112        132        159        107        129   \n",
       "24998      72  ...        102        111        111        113        114   \n",
       "24999     244  ...        254        254        254        254        254   \n",
       "\n",
       "       pixel9999  label      sum  pixel_mean  pixel_median  \n",
       "0              2      0  1333744    133.3744         140.0  \n",
       "1             36      0   713735     71.3735          69.0  \n",
       "2            154      0  1118691    111.8691         120.0  \n",
       "3            213      0  1663447    166.3447         175.0  \n",
       "4             83      0  1058964    105.8964          89.0  \n",
       "...          ...    ...      ...         ...           ...  \n",
       "24995        169      1  1085776    108.5776         151.0  \n",
       "24996         71      1   720504     72.0504          73.0  \n",
       "24997        164      1  1001014    100.1014          99.0  \n",
       "24998        114      1  1255901    125.5901         126.0  \n",
       "24999        254      1  1715596    171.5596         192.0  \n",
       "\n",
       "[25000 rows x 10004 columns]"
      ]
     },
     "execution_count": 115,
     "metadata": {},
     "output_type": "execute_result"
    }
   ],
   "source": [
    "df"
   ]
  },
  {
   "cell_type": "markdown",
   "id": "0adf6752",
   "metadata": {},
   "source": [
    "### X-Y train split"
   ]
  },
  {
   "cell_type": "code",
   "execution_count": 116,
   "id": "53c14041",
   "metadata": {},
   "outputs": [],
   "source": [
    "y_train = df['label']\n",
    "X_train = df.drop('label' , axis=1)"
   ]
  },
  {
   "cell_type": "code",
   "execution_count": 117,
   "id": "8691d50e",
   "metadata": {},
   "outputs": [],
   "source": [
    "X_train, x_test, y_train, y_test = train_test_split(X_train, y_train, test_size=0.2, random_state=42)"
   ]
  },
  {
   "cell_type": "code",
   "execution_count": null,
   "id": "5dbadaf4",
   "metadata": {},
   "outputs": [],
   "source": []
  },
  {
   "cell_type": "markdown",
   "id": "6a143df5",
   "metadata": {},
   "source": [
    "### scaling"
   ]
  },
  {
   "cell_type": "code",
   "execution_count": 118,
   "id": "35ad90c5",
   "metadata": {},
   "outputs": [],
   "source": [
    "X_train = X_train/255\n",
    "x_test = x_test/255 "
   ]
  },
  {
   "cell_type": "markdown",
   "id": "323bff00",
   "metadata": {},
   "source": [
    "### pca"
   ]
  },
  {
   "cell_type": "code",
   "execution_count": 204,
   "id": "5dc61381",
   "metadata": {},
   "outputs": [
    {
     "data": {
      "image/png": "[encoded data removed]",
      "text/plain": [
       "<Figure size 432x288 with 1 Axes>"
      ]
     },
     "metadata": {
      "needs_background": "light"
     },
     "output_type": "display_data"
    }
   ],
   "source": [
    "pcb = PCA().fit(X_train)\n",
    "plt.plot(np.cumsum(pcb.explained_variance_ratio_))\n",
    "plt.xlabel('number of components')\n",
    "plt.ylabel('cumulative explained variance');\n",
    "plt.title(\"the variance precent of PCA\")\n",
    "plt.show()"
   ]
  },
  {
   "cell_type": "code",
   "execution_count": 207,
   "id": "4c65a180",
   "metadata": {},
   "outputs": [],
   "source": [
    "pca = PCA(n_components=5000)\n",
    "X = pca.fit_transform(X_train)\n",
    "X_test = pca.transform(x_test)"
   ]
  },
  {
   "cell_type": "code",
   "execution_count": 100,
   "id": "c8b06b7e",
   "metadata": {},
   "outputs": [
    {
     "data": {
      "text/plain": [
       "(20000, 10001)"
      ]
     },
     "execution_count": 100,
     "metadata": {},
     "output_type": "execute_result"
    }
   ],
   "source": [
    "X_train.shape"
   ]
  },
  {
   "cell_type": "code",
   "execution_count": 213,
   "id": "781a764e",
   "metadata": {},
   "outputs": [
    {
     "name": "stderr",
     "output_type": "stream",
     "text": [
      "C:\\Users\\97253\\anaconda3\\lib\\site-packages\\sklearn\\manifold\\_t_sne.py:790: FutureWarning: The default learning rate in TSNE will change from 200.0 to 'auto' in 1.2.\n",
      "  warnings.warn(\n",
      "C:\\Users\\97253\\anaconda3\\lib\\site-packages\\sklearn\\manifold\\_t_sne.py:982: FutureWarning: The PCA initialization in TSNE will change to have the standard deviation of PC1 equal to 1e-4 in 1.2. This will ensure better convergence.\n",
      "  warnings.warn(\n",
      "C:\\Users\\97253\\anaconda3\\lib\\site-packages\\sklearn\\manifold\\_t_sne.py:790: FutureWarning: The default learning rate in TSNE will change from 200.0 to 'auto' in 1.2.\n",
      "  warnings.warn(\n",
      "C:\\Users\\97253\\anaconda3\\lib\\site-packages\\sklearn\\manifold\\_t_sne.py:982: FutureWarning: The PCA initialization in TSNE will change to have the standard deviation of PC1 equal to 1e-4 in 1.2. This will ensure better convergence.\n",
      "  warnings.warn(\n"
     ]
    }
   ],
   "source": [
    "tsne = TSNE(n_components=2, init='pca', random_state=10)\n",
    "X_train_tsne = tsne.fit_transform(X_train)\n",
    "X_test_tsne = tsne.fit_transform(x_test)"
   ]
  },
  {
   "cell_type": "code",
   "execution_count": 214,
   "id": "965d211e",
   "metadata": {},
   "outputs": [
    {
     "ename": "NameError",
     "evalue": "name 'sns' is not defined",
     "output_type": "error",
     "traceback": [
      "\u001b[1;31m---------------------------------------------------------------------------\u001b[0m",
      "\u001b[1;31mNameError\u001b[0m                                 Traceback (most recent call last)",
      "\u001b[1;32m<ipython-input-214-3fe34ab82aa5>\u001b[0m in \u001b[0;36m<module>\u001b[1;34m\u001b[0m\n\u001b[0;32m      6\u001b[0m \u001b[1;33m\u001b[0m\u001b[0m\n\u001b[0;32m      7\u001b[0m \u001b[0mfig\u001b[0m\u001b[1;33m.\u001b[0m\u001b[0mset_size_inches\u001b[0m\u001b[1;33m(\u001b[0m\u001b[1;36m12\u001b[0m\u001b[1;33m,\u001b[0m \u001b[1;36m8\u001b[0m\u001b[1;33m)\u001b[0m\u001b[1;33m\u001b[0m\u001b[1;33m\u001b[0m\u001b[0m\n\u001b[1;32m----> 8\u001b[1;33m sns.scatterplot(x=\"comp-1\", y=\"comp-2\", hue=df.y.tolist(),\n\u001b[0m\u001b[0;32m      9\u001b[0m                 \u001b[0mpalette\u001b[0m\u001b[1;33m=\u001b[0m\u001b[0msns\u001b[0m\u001b[1;33m.\u001b[0m\u001b[0mcolor_palette\u001b[0m\u001b[1;33m(\u001b[0m\u001b[1;34m\"hls\"\u001b[0m\u001b[1;33m,\u001b[0m \u001b[1;36m2\u001b[0m\u001b[1;33m)\u001b[0m\u001b[1;33m,\u001b[0m\u001b[1;33m\u001b[0m\u001b[1;33m\u001b[0m\u001b[0m\n\u001b[0;32m     10\u001b[0m                 data=df).set(title=\"Hall Of Fame data T-SNE projection\")\n",
      "\u001b[1;31mNameError\u001b[0m: name 'sns' is not defined"
     ]
    },
    {
     "data": {
      "text/plain": [
       "<Figure size 864x576 with 0 Axes>"
      ]
     },
     "metadata": {},
     "output_type": "display_data"
    }
   ],
   "source": [
    "df = pd.DataFrame()\n",
    "df[\"y\"] = y_train\n",
    "df[\"comp-1\"] = X_train_tsne[:,0]\n",
    "df[\"comp-2\"] = X_train_tsne[:,1]\n",
    "fig = plt.gcf()\n",
    "\n",
    "fig.set_size_inches(12, 8)\n",
    "sns.scatterplot(x=\"comp-1\", y=\"comp-2\", hue=df.y.tolist(),\n",
    "                palette=sns.color_palette(\"hls\", 2),\n",
    "                data=df).set(title=\"Hall Of Fame data T-SNE projection\")"
   ]
  },
  {
   "cell_type": "markdown",
   "id": "3fc6550a",
   "metadata": {},
   "source": [
    "#### we will split our data for using a dummy model and other models without using  cross-validation, when we use cross-validation we will work with our whole data"
   ]
  },
  {
   "cell_type": "code",
   "execution_count": 208,
   "id": "25b53bc1",
   "metadata": {},
   "outputs": [],
   "source": [
    "X_train_split, X_test_split, y_train_split, y_test_split = train_test_split(X, y_train, test_size=0.25 , random_state=42)"
   ]
  },
  {
   "cell_type": "markdown",
   "id": "5fd3ef59",
   "metadata": {},
   "source": [
    "### dummy model"
   ]
  },
  {
   "cell_type": "code",
   "execution_count": 120,
   "id": "ee28bfde",
   "metadata": {},
   "outputs": [
    {
     "data": {
      "text/plain": [
       "0.485"
      ]
     },
     "execution_count": 120,
     "metadata": {},
     "output_type": "execute_result"
    }
   ],
   "source": [
    "dummy = DummyClassifier(strategy=\"most_frequent\")\n",
    "dummy.fit(X_train_split, y_train_split)\n",
    "\n",
    "predict = dummy.predict(X_test_split)\n",
    "dummy.score(predict , y_test_split)"
   ]
  },
  {
   "cell_type": "markdown",
   "id": "3bec064c",
   "metadata": {},
   "source": [
    "### well, this grade is almost 50% because our data is balanced"
   ]
  },
  {
   "cell_type": "markdown",
   "id": "f764f2a9",
   "metadata": {},
   "source": [
    "## k-nn"
   ]
  },
  {
   "cell_type": "code",
   "execution_count": 146,
   "id": "ba7ce0eb",
   "metadata": {},
   "outputs": [
    {
     "data": {
      "text/plain": [
       "0.5485"
      ]
     },
     "execution_count": 146,
     "metadata": {},
     "output_type": "execute_result"
    }
   ],
   "source": [
    "knn = KNeighborsClassifier(n_neighbors=5)\n",
    "cv = cross_val_score(knn , X , y_train , cv = 10 , scoring = 'accuracy')\n",
    "max(cv)"
   ]
  },
  {
   "cell_type": "code",
   "execution_count": null,
   "id": "4911e04b",
   "metadata": {},
   "outputs": [],
   "source": [
    "#pca with 3000 compenents gives 0.55\n",
    "#without pca we get 0.48"
   ]
  },
  {
   "cell_type": "code",
   "execution_count": 124,
   "id": "352dd8a3",
   "metadata": {},
   "outputs": [
    {
     "data": {
      "text/plain": [
       "[0.5246509828659208,\n",
       " 0.5383932494906907,\n",
       " 0.5533615021213413,\n",
       " 0.5593480000121299,\n",
       " 0.5607116659729743,\n",
       " 0.5686391792542632,\n",
       " 0.5739983318607017,\n",
       " 0.5779324597685082,\n",
       " 0.5817981292416572,\n",
       " 0.583834860860398,\n",
       " 0.5874476522447536,\n",
       " 0.5890518480476512,\n",
       " 0.591971617150841,\n",
       " 0.5914516263555925,\n",
       " 0.5934064680468337]"
      ]
     },
     "execution_count": 124,
     "metadata": {},
     "output_type": "execute_result"
    }
   ],
   "source": [
    "kf = KFold(n_splits=10, random_state=42, shuffle=True)\n",
    "score = []\n",
    "for k in list(range(1,30,2)):\n",
    "    \n",
    "    knn = KNeighborsClassifier(n_neighbors=k)\n",
    "    cv = cross_val_score(knn , X_train , y_train , cv = kf , scoring = 'Accuracy')\n",
    "    score.append(cv.mean())\n",
    "score"
   ]
  },
  {
   "cell_type": "code",
   "execution_count": 125,
   "id": "c1c348ee",
   "metadata": {},
   "outputs": [
    {
     "data": {
      "text/plain": [
       "0.5934064680468337"
      ]
     },
     "execution_count": 125,
     "metadata": {},
     "output_type": "execute_result"
    }
   ],
   "source": [
    "max(score)"
   ]
  },
  {
   "cell_type": "markdown",
   "id": "d057e815",
   "metadata": {},
   "source": [
    "## gread search"
   ]
  },
  {
   "cell_type": "code",
   "execution_count": null,
   "id": "03c3d2a2",
   "metadata": {},
   "outputs": [],
   "source": [
    "kf = KFold(n_splits=10, random_state=42, shuffle=True)\n",
    "k_range = list(range(1,31,2))\n",
    "weights = ['uniform', 'distance']\n",
    "metrics_options = ['euclidean', 'manhattan']\n",
    "param_grid = dict(n_neighbors = k_range , weights = weights, metric = metrics_options)\n",
    "grid = GridSearchCV(knn , param_grid , cv = kf , scoring= 'Accuracy')\n",
    "grid.fit(X_train , y_train)\n",
    "gs = pd.DataFrame(grid.cv_results_)[['mean_test_score' ,  'params' ]].set_index('params')\n",
    "gs\n",
    "mean_test_score"
   ]
  },
  {
   "cell_type": "markdown",
   "id": "96ef1fb4",
   "metadata": {},
   "source": [
    "## desicion tree"
   ]
  },
  {
   "cell_type": "code",
   "execution_count": 190,
   "id": "ba3f9917",
   "metadata": {},
   "outputs": [
    {
     "name": "stdout",
     "output_type": "stream",
     "text": [
      "The score of Decision Tree is:0.5547000000000001\n"
     ]
    }
   ],
   "source": [
    "kf = KFold(n_splits=10, random_state=42, shuffle=True)\n",
    "DecisionTree = DecisionTreeClassifier()\n",
    "\n",
    "scores = cross_val_score(DecisionTree, X_train, y_train, cv=5, scoring='accuracy')\n",
    "\n",
    "print(\"The score of Decision Tree is:\" + str(scores.mean()))"
   ]
  },
  {
   "cell_type": "markdown",
   "id": "789f2be1",
   "metadata": {},
   "source": [
    "## random forest"
   ]
  },
  {
   "cell_type": "code",
   "execution_count": 184,
   "id": "dbb2f44f",
   "metadata": {},
   "outputs": [
    {
     "name": "stdout",
     "output_type": "stream",
     "text": [
      "The score of random forest is:0.5849\n"
     ]
    }
   ],
   "source": [
    "kf = KFold(n_splits=10, random_state=42, shuffle=True)\n",
    "forest = RandomForestClassifier(n_estimators=100 , n_jobs = -1, random_state =42, max_depth=50)\n",
    "\n",
    "scores_rf = cross_val_score(forest, X, y_train, cv=4, scoring='accuracy')\n",
    "\n",
    "print(\"The score of random forest is:\" + str(scores_rf.mean()))"
   ]
  },
  {
   "cell_type": "markdown",
   "id": "cc0de9df",
   "metadata": {},
   "source": [
    "## xgboost"
   ]
  },
  {
   "cell_type": "code",
   "execution_count": 151,
   "id": "59c59cbe",
   "metadata": {},
   "outputs": [
    {
     "data": {
      "text/plain": [
       "99"
      ]
     },
     "execution_count": 151,
     "metadata": {},
     "output_type": "execute_result"
    }
   ],
   "source": [
    "xgb_classifier.best_iteration"
   ]
  },
  {
   "cell_type": "code",
   "execution_count": 209,
   "id": "e12bcfba",
   "metadata": {},
   "outputs": [
    {
     "name": "stderr",
     "output_type": "stream",
     "text": [
      "C:\\Users\\97253\\anaconda3\\lib\\site-packages\\xgboost\\sklearn.py:793: UserWarning: `eval_metric` in `fit` method is deprecated for better compatibility with scikit-learn, use `eval_metric` in constructor or`set_params` instead.\n",
      "  warnings.warn(\n",
      "C:\\Users\\97253\\anaconda3\\lib\\site-packages\\xgboost\\sklearn.py:793: UserWarning: `early_stopping_rounds` in `fit` method is deprecated for better compatibility with scikit-learn, use `early_stopping_rounds` in constructor or`set_params` instead.\n",
      "  warnings.warn(\n"
     ]
    },
    {
     "name": "stdout",
     "output_type": "stream",
     "text": [
      "[0]\tvalidation_0-aucpr:0.56715\n",
      "[1]\tvalidation_0-aucpr:0.59725\n",
      "[2]\tvalidation_0-aucpr:0.60558\n",
      "[3]\tvalidation_0-aucpr:0.61523\n",
      "[4]\tvalidation_0-aucpr:0.61540\n",
      "[5]\tvalidation_0-aucpr:0.61925\n",
      "[6]\tvalidation_0-aucpr:0.62332\n",
      "[7]\tvalidation_0-aucpr:0.62400\n",
      "[8]\tvalidation_0-aucpr:0.62774\n",
      "[9]\tvalidation_0-aucpr:0.62500\n",
      "[10]\tvalidation_0-aucpr:0.62631\n",
      "[11]\tvalidation_0-aucpr:0.62625\n",
      "[12]\tvalidation_0-aucpr:0.62740\n",
      "[13]\tvalidation_0-aucpr:0.62968\n",
      "[14]\tvalidation_0-aucpr:0.62650\n",
      "[15]\tvalidation_0-aucpr:0.62509\n",
      "[16]\tvalidation_0-aucpr:0.62766\n",
      "[17]\tvalidation_0-aucpr:0.62621\n",
      "[18]\tvalidation_0-aucpr:0.62463\n",
      "[19]\tvalidation_0-aucpr:0.62522\n",
      "[20]\tvalidation_0-aucpr:0.62642\n",
      "[21]\tvalidation_0-aucpr:0.62985\n",
      "[22]\tvalidation_0-aucpr:0.63282\n",
      "[23]\tvalidation_0-aucpr:0.63238\n",
      "[24]\tvalidation_0-aucpr:0.63581\n",
      "[25]\tvalidation_0-aucpr:0.63683\n",
      "[26]\tvalidation_0-aucpr:0.63817\n",
      "[27]\tvalidation_0-aucpr:0.63643\n",
      "[28]\tvalidation_0-aucpr:0.63585\n",
      "[29]\tvalidation_0-aucpr:0.63468\n",
      "[30]\tvalidation_0-aucpr:0.63466\n",
      "[31]\tvalidation_0-aucpr:0.63393\n",
      "[32]\tvalidation_0-aucpr:0.63358\n",
      "[33]\tvalidation_0-aucpr:0.63379\n",
      "[34]\tvalidation_0-aucpr:0.63338\n",
      "[35]\tvalidation_0-aucpr:0.63522\n"
     ]
    }
   ],
   "source": [
    "\n",
    "xgboost = XGBClassifier(objective='binary:logistic', missing=1, seed=42)\n",
    "xgb_classifier = xgboost.fit(X_train_split,\n",
    "                    y_train_split,\n",
    "                    verbose=True,\n",
    "                    early_stopping_rounds=10,\n",
    "                    eval_metric='aucpr',\n",
    "                    eval_set=[(X_test_split,y_test_split)])\n",
    "\n"
   ]
  },
  {
   "cell_type": "markdown",
   "id": "50c46e79",
   "metadata": {},
   "source": [
    "well, the best score of xgboost is round 99"
   ]
  },
  {
   "cell_type": "markdown",
   "id": "93bbb7f1",
   "metadata": {},
   "source": [
    "## AdaBoost"
   ]
  },
  {
   "cell_type": "code",
   "execution_count": 172,
   "id": "05336ff2",
   "metadata": {},
   "outputs": [
    {
     "data": {
      "text/plain": [
       "0.5862"
      ]
     },
     "execution_count": 172,
     "metadata": {},
     "output_type": "execute_result"
    }
   ],
   "source": [
    "AdaBoost = AdaBoostClassifier()\n",
    "AdaBoost.fit(X_train_split , y_train_split)\n",
    "y_pred = AdaBoost.predict(X_test_split)\n",
    "metrics.accuracy_score(y_pred, y_test_split)"
   ]
  },
  {
   "cell_type": "code",
   "execution_count": 173,
   "id": "81f40fd2",
   "metadata": {},
   "outputs": [
    {
     "ename": "NameError",
     "evalue": "name 'x_test_Split' is not defined",
     "output_type": "error",
     "traceback": [
      "\u001b[1;31m---------------------------------------------------------------------------\u001b[0m",
      "\u001b[1;31mNameError\u001b[0m                                 Traceback (most recent call last)",
      "\u001b[1;32m<ipython-input-173-81913a55805d>\u001b[0m in \u001b[0;36m<module>\u001b[1;34m\u001b[0m\n\u001b[0;32m      3\u001b[0m  algorithm=\"SAMME.R\", learning_rate=0.5)\n\u001b[0;32m      4\u001b[0m \u001b[0mada_clf\u001b[0m\u001b[1;33m.\u001b[0m\u001b[0mfit\u001b[0m\u001b[1;33m(\u001b[0m\u001b[0mX_train_split\u001b[0m\u001b[1;33m,\u001b[0m \u001b[0my_train_split\u001b[0m\u001b[1;33m)\u001b[0m\u001b[1;33m\u001b[0m\u001b[1;33m\u001b[0m\u001b[0m\n\u001b[1;32m----> 5\u001b[1;33m \u001b[0mprediction_test\u001b[0m \u001b[1;33m=\u001b[0m \u001b[0mada_clf\u001b[0m\u001b[1;33m.\u001b[0m\u001b[0mpredict\u001b[0m\u001b[1;33m(\u001b[0m\u001b[0mx_test_Split\u001b[0m\u001b[1;33m)\u001b[0m\u001b[1;33m\u001b[0m\u001b[1;33m\u001b[0m\u001b[0m\n\u001b[0m\u001b[0;32m      6\u001b[0m \u001b[1;33m(\u001b[0m\u001b[0mmetrics\u001b[0m\u001b[1;33m.\u001b[0m\u001b[0maccuracy_score\u001b[0m\u001b[1;33m(\u001b[0m\u001b[0my_test_split\u001b[0m\u001b[1;33m,\u001b[0m \u001b[0mprediction_test\u001b[0m\u001b[1;33m)\u001b[0m\u001b[1;33m)\u001b[0m\u001b[1;33m\u001b[0m\u001b[1;33m\u001b[0m\u001b[0m\n",
      "\u001b[1;31mNameError\u001b[0m: name 'x_test_Split' is not defined"
     ]
    }
   ],
   "source": [
    "ada_clf = AdaBoostClassifier(\n",
    " DecisionTreeClassifier(max_depth=3), n_estimators=150,\n",
    " algorithm=\"SAMME.R\", learning_rate=0.5)\n",
    "ada_clf.fit(X_train_split, y_train_split)\n",
    "prediction_test = ada_clf.predict(x_test_Split)\n",
    "(metrics.accuracy_score(y_test_split, prediction_test))"
   ]
  },
  {
   "cell_type": "markdown",
   "id": "11a4909e",
   "metadata": {},
   "source": [
    "### Voting classifier"
   ]
  },
  {
   "cell_type": "code",
   "execution_count": 191,
   "id": "7acaaf59",
   "metadata": {},
   "outputs": [],
   "source": [
    "estimators=[('K-NN' , knn),('RF',forest),('DT', DecisionTree),('ADA',AdaBoost) , ('xgb' , xgboost)]"
   ]
  },
  {
   "cell_type": "markdown",
   "id": "0d20922d",
   "metadata": {},
   "source": [
    "#### hard voting"
   ]
  },
  {
   "cell_type": "code",
   "execution_count": 192,
   "id": "b49d218f",
   "metadata": {},
   "outputs": [
    {
     "name": "stdout",
     "output_type": "stream",
     "text": [
      "The accuracy score of Hard Voting is:0.6472\n"
     ]
    }
   ],
   "source": [
    "vot_hard = VotingClassifier(estimators = estimators, voting ='hard')\n",
    "vot_hard.fit(X_train_split , y_train_split)\n",
    "y_pred = vot_hard.predict(X_test_split)\n",
    "accuracy_score = metrics.accuracy_score(y_test_split, y_pred)\n",
    "print(\"The accuracy score of Hard Voting is:\"+str(accuracy_score))"
   ]
  },
  {
   "cell_type": "markdown",
   "id": "ece0aeb2",
   "metadata": {},
   "source": [
    "#### soft voting"
   ]
  },
  {
   "cell_type": "code",
   "execution_count": 194,
   "id": "c1c4ccf8",
   "metadata": {},
   "outputs": [
    {
     "name": "stdout",
     "output_type": "stream",
     "text": [
      "The accuracy score of Soft Voting is:0.6118\n"
     ]
    }
   ],
   "source": [
    "vot_soft = VotingClassifier(estimators = estimators, voting ='soft')\n",
    "vot_soft.fit(X_train_split, y_train_split)\n",
    "y_pred = vot_soft.predict(X_test_split)\n",
    "accuracy_score = metrics.accuracy_score(y_test_split, y_pred)\n",
    "print(\"The accuracy score of Soft Voting is:\"+str(accuracy_score))"
   ]
  },
  {
   "cell_type": "markdown",
   "id": "2487326d",
   "metadata": {},
   "source": [
    "###### so, our best model is ___ with ___ , lets check the test!"
   ]
  },
  {
   "cell_type": "code",
   "execution_count": 210,
   "id": "f8b14847",
   "metadata": {},
   "outputs": [
    {
     "name": "stdout",
     "output_type": "stream",
     "text": [
      "[0]\tvalidation_0-aucpr:0.55555\n",
      "[1]\tvalidation_0-aucpr:0.57504\n",
      "[2]\tvalidation_0-aucpr:0.58724\n",
      "[3]\tvalidation_0-aucpr:0.59161\n",
      "[4]\tvalidation_0-aucpr:0.59576\n",
      "[5]\tvalidation_0-aucpr:0.59986\n",
      "[6]\tvalidation_0-aucpr:0.60166\n",
      "[7]\tvalidation_0-aucpr:0.60627\n",
      "[8]\tvalidation_0-aucpr:0.60810\n",
      "[9]\tvalidation_0-aucpr:0.60997\n",
      "[10]\tvalidation_0-aucpr:0.60539\n",
      "[11]\tvalidation_0-aucpr:0.61083\n",
      "[12]\tvalidation_0-aucpr:0.60872\n",
      "[13]\tvalidation_0-aucpr:0.60971\n",
      "[14]\tvalidation_0-aucpr:0.61209\n",
      "[15]\tvalidation_0-aucpr:0.61539\n",
      "[16]\tvalidation_0-aucpr:0.61412\n",
      "[17]\tvalidation_0-aucpr:0.61435\n",
      "[18]\tvalidation_0-aucpr:0.61490\n",
      "[19]\tvalidation_0-aucpr:0.61650\n",
      "[20]\tvalidation_0-aucpr:0.61718\n",
      "[21]\tvalidation_0-aucpr:0.61729\n",
      "[22]\tvalidation_0-aucpr:0.61887\n",
      "[23]\tvalidation_0-aucpr:0.61845\n",
      "[24]\tvalidation_0-aucpr:0.61879\n",
      "[25]\tvalidation_0-aucpr:0.61907\n",
      "[26]\tvalidation_0-aucpr:0.61975\n",
      "[27]\tvalidation_0-aucpr:0.61812\n",
      "[28]\tvalidation_0-aucpr:0.61675\n",
      "[29]\tvalidation_0-aucpr:0.61629\n",
      "[30]\tvalidation_0-aucpr:0.61536\n",
      "[31]\tvalidation_0-aucpr:0.61659\n",
      "[32]\tvalidation_0-aucpr:0.61655\n",
      "[33]\tvalidation_0-aucpr:0.61591\n",
      "[34]\tvalidation_0-aucpr:0.61717\n",
      "[35]\tvalidation_0-aucpr:0.61699\n",
      "[36]\tvalidation_0-aucpr:0.61865\n"
     ]
    }
   ],
   "source": [
    "xgboost = XGBClassifier(objective='binary:logistic', missing=1, seed=42)\n",
    "xgb_classifier = xgboost.fit(X,\n",
    "                    y_train,\n",
    "                    verbose=True,\n",
    "                    early_stopping_rounds=10,\n",
    "                    eval_metric='aucpr',\n",
    "                    eval_set=[(X_test,y_test)])"
   ]
  }
 ],
 "metadata": {
  "kernelspec": {
   "display_name": "Python 3",
   "language": "python",
   "name": "python3"
  }
 },
 "nbformat": 4,
 "nbformat_minor": 5
}
