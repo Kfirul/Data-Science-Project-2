{
 "cells": [
  {
   "cell_type": "code",
   "execution_count": 20,
   "id": "667d772f",
   "metadata": {},
   "outputs": [],
   "source": [
    "import pandas as pd\n",
    "import numpy as np\n",
    "import seaborn as sns\n",
    "import random\n",
    "import matplotlib\n",
    "from matplotlib import animation\n",
    "import matplotlib.pyplot as plt\n",
    "from matplotlib.animation import FuncAnimation\n",
    "from itertools import count\n",
    "%matplotlib qt"
   ]
  },
  {
   "cell_type": "code",
   "execution_count": 21,
   "id": "474a2300",
   "metadata": {},
   "outputs": [],
   "source": [
    "dfs = []\n",
    "for i in range(1,22):\n",
    "    dfs.append(pd.read_csv('C:\\\\Users\\\\Shlomit\\\\Desktop\\\\Data-Science-project-2\\\\drawings pandas\\\\train\\\\7554\\\\SimpleTest\\\\' + str(i) + '.csv'))"
   ]
  },
  {
   "cell_type": "code",
   "execution_count": 22,
   "id": "8668ddf6",
   "metadata": {},
   "outputs": [],
   "source": [
    "for df in dfs:\n",
    "    df[' Time'] = pd.to_datetime(df[' Time'])"
   ]
  },
  {
   "cell_type": "code",
   "execution_count": 23,
   "id": "f0fa8dc1",
   "metadata": {},
   "outputs": [
    {
     "data": {
      "text/plain": [
       "Index(['X', ' Y', ' Pressure', ' TiltX', ' TiltY', ' Time'], dtype='object')"
      ]
     },
     "execution_count": 23,
     "metadata": {},
     "output_type": "execute_result"
    }
   ],
   "source": [
    "dfs[0].columns"
   ]
  },
  {
   "cell_type": "code",
   "execution_count": 24,
   "id": "c215ffb0",
   "metadata": {
    "scrolled": true
   },
   "outputs": [
    {
     "data": {
      "text/plain": [
       "36"
      ]
     },
     "execution_count": 24,
     "metadata": {},
     "output_type": "execute_result"
    }
   ],
   "source": [
    "dfs[0][' Time'][0].second"
   ]
  },
  {
   "cell_type": "code",
   "execution_count": 25,
   "id": "44d767d4",
   "metadata": {},
   "outputs": [
    {
     "data": {
      "text/html": [
       "<div>\n",
       "<style scoped>\n",
       "    .dataframe tbody tr th:only-of-type {\n",
       "        vertical-align: middle;\n",
       "    }\n",
       "\n",
       "    .dataframe tbody tr th {\n",
       "        vertical-align: top;\n",
       "    }\n",
       "\n",
       "    .dataframe thead th {\n",
       "        text-align: right;\n",
       "    }\n",
       "</style>\n",
       "<table border=\"1\" class=\"dataframe\">\n",
       "  <thead>\n",
       "    <tr style=\"text-align: right;\">\n",
       "      <th></th>\n",
       "      <th>X</th>\n",
       "      <th>Y</th>\n",
       "      <th>Pressure</th>\n",
       "      <th>TiltX</th>\n",
       "      <th>TiltY</th>\n",
       "      <th>Time</th>\n",
       "    </tr>\n",
       "  </thead>\n",
       "  <tbody>\n",
       "    <tr>\n",
       "      <th>0</th>\n",
       "      <td>925.902760133965</td>\n",
       "      <td>665.541979</td>\n",
       "      <td>0.045884</td>\n",
       "      <td>-4917.0</td>\n",
       "      <td>669.0</td>\n",
       "      <td>2022-06-12 00:12:36</td>\n",
       "    </tr>\n",
       "    <tr>\n",
       "      <th>1</th>\n",
       "      <td>925.902760133965</td>\n",
       "      <td>665.541979</td>\n",
       "      <td>0.045884</td>\n",
       "      <td>-4917.0</td>\n",
       "      <td>669.0</td>\n",
       "      <td>2022-06-12 00:12:37</td>\n",
       "    </tr>\n",
       "    <tr>\n",
       "      <th>2</th>\n",
       "      <td>926.692689687031</td>\n",
       "      <td>665.647303</td>\n",
       "      <td>0.082506</td>\n",
       "      <td>-4917.0</td>\n",
       "      <td>669.0</td>\n",
       "      <td>2022-06-12 00:12:38</td>\n",
       "    </tr>\n",
       "    <tr>\n",
       "      <th>3</th>\n",
       "      <td>927.008661508257</td>\n",
       "      <td>665.647303</td>\n",
       "      <td>0.115953</td>\n",
       "      <td>-4917.0</td>\n",
       "      <td>669.0</td>\n",
       "      <td>2022-06-12 00:12:39</td>\n",
       "    </tr>\n",
       "    <tr>\n",
       "      <th>4</th>\n",
       "      <td>927.324633329484</td>\n",
       "      <td>665.594641</td>\n",
       "      <td>0.140368</td>\n",
       "      <td>-4917.0</td>\n",
       "      <td>669.0</td>\n",
       "      <td>2022-06-12 00:12:41</td>\n",
       "    </tr>\n",
       "    <tr>\n",
       "      <th>...</th>\n",
       "      <td>...</td>\n",
       "      <td>...</td>\n",
       "      <td>...</td>\n",
       "      <td>...</td>\n",
       "      <td>...</td>\n",
       "      <td>...</td>\n",
       "    </tr>\n",
       "    <tr>\n",
       "      <th>129</th>\n",
       "      <td>584.863841090195</td>\n",
       "      <td>646.846980</td>\n",
       "      <td>0.386954</td>\n",
       "      <td>-4510.0</td>\n",
       "      <td>1946.0</td>\n",
       "      <td>2022-06-12 00:14:03</td>\n",
       "    </tr>\n",
       "    <tr>\n",
       "      <th>130</th>\n",
       "      <td>584.653193209377</td>\n",
       "      <td>646.741656</td>\n",
       "      <td>0.386954</td>\n",
       "      <td>-4501.0</td>\n",
       "      <td>1991.0</td>\n",
       "      <td>2022-06-12 00:14:04</td>\n",
       "    </tr>\n",
       "    <tr>\n",
       "      <th>131</th>\n",
       "      <td>584.653193209377</td>\n",
       "      <td>646.741656</td>\n",
       "      <td>0.389151</td>\n",
       "      <td>-4501.0</td>\n",
       "      <td>1991.0</td>\n",
       "      <td>2022-06-12 00:14:05</td>\n",
       "    </tr>\n",
       "    <tr>\n",
       "      <th>132</th>\n",
       "      <td>Time Elapsed till drawing started: 00:11.2234987</td>\n",
       "      <td>NaN</td>\n",
       "      <td>NaN</td>\n",
       "      <td>NaN</td>\n",
       "      <td>NaN</td>\n",
       "      <td>NaT</td>\n",
       "    </tr>\n",
       "    <tr>\n",
       "      <th>133</th>\n",
       "      <td>Time Elapsed till drawing submit: 00:17.1449348</td>\n",
       "      <td>NaN</td>\n",
       "      <td>NaN</td>\n",
       "      <td>NaN</td>\n",
       "      <td>NaN</td>\n",
       "      <td>NaT</td>\n",
       "    </tr>\n",
       "  </tbody>\n",
       "</table>\n",
       "<p>134 rows × 6 columns</p>\n",
       "</div>"
      ],
      "text/plain": [
       "                                                    X           Y   Pressure  \\\n",
       "0                                    925.902760133965  665.541979   0.045884   \n",
       "1                                    925.902760133965  665.541979   0.045884   \n",
       "2                                    926.692689687031  665.647303   0.082506   \n",
       "3                                    927.008661508257  665.647303   0.115953   \n",
       "4                                    927.324633329484  665.594641   0.140368   \n",
       "..                                                ...         ...        ...   \n",
       "129                                  584.863841090195  646.846980   0.386954   \n",
       "130                                  584.653193209377  646.741656   0.386954   \n",
       "131                                  584.653193209377  646.741656   0.389151   \n",
       "132  Time Elapsed till drawing started: 00:11.2234987         NaN        NaN   \n",
       "133   Time Elapsed till drawing submit: 00:17.1449348         NaN        NaN   \n",
       "\n",
       "      TiltX   TiltY                Time  \n",
       "0   -4917.0   669.0 2022-06-12 00:12:36  \n",
       "1   -4917.0   669.0 2022-06-12 00:12:37  \n",
       "2   -4917.0   669.0 2022-06-12 00:12:38  \n",
       "3   -4917.0   669.0 2022-06-12 00:12:39  \n",
       "4   -4917.0   669.0 2022-06-12 00:12:41  \n",
       "..      ...     ...                 ...  \n",
       "129 -4510.0  1946.0 2022-06-12 00:14:03  \n",
       "130 -4501.0  1991.0 2022-06-12 00:14:04  \n",
       "131 -4501.0  1991.0 2022-06-12 00:14:05  \n",
       "132     NaN     NaN                 NaT  \n",
       "133     NaN     NaN                 NaT  \n",
       "\n",
       "[134 rows x 6 columns]"
      ]
     },
     "execution_count": 25,
     "metadata": {},
     "output_type": "execute_result"
    }
   ],
   "source": [
    "dfs[0]"
   ]
  },
  {
   "cell_type": "code",
   "execution_count": 11,
   "id": "bc21d11e",
   "metadata": {},
   "outputs": [
    {
     "data": {
      "text/plain": [
       "<matplotlib.animation.FuncAnimation at 0x1d162b311c0>"
      ]
     },
     "execution_count": 11,
     "metadata": {},
     "output_type": "execute_result"
    }
   ],
   "source": [
    "import matplotlib.pyplot as plt\n",
    "from matplotlib.animation import FuncAnimation\n",
    "%matplotlib qt\n",
    "\n",
    "fig = plt.figure(figsize=(6,4))\n",
    "axes = fig.add_subplot(1,1,1)\n",
    "plt.title(\"Dynamic Axes\")\n",
    "\n",
    "y1 = dfs[1][' Y']\n",
    "t = dfs[1]['X']\n",
    "x,y=[] , []\n",
    "\n",
    "def animate(i):\n",
    "    x.append(t[i])\n",
    "    y.append((y1[i]))\n",
    "    plt.plot(x,y, scaley=True, scalex=True, color=\"green\")\n",
    "\n",
    "FuncAnimation(fig, animate, interval=100)"
   ]
  },
  {
   "cell_type": "code",
   "execution_count": 13,
   "id": "05af599e",
   "metadata": {},
   "outputs": [
    {
     "data": {
      "text/plain": [
       "<matplotlib.animation.FuncAnimation at 0x1d16469cfa0>"
      ]
     },
     "execution_count": 13,
     "metadata": {},
     "output_type": "execute_result"
    }
   ],
   "source": [
    "import matplotlib.pyplot as plt\n",
    "from matplotlib.animation import FuncAnimation\n",
    "%matplotlib qt\n",
    "\n",
    "fig = plt.figure(figsize=(6,4))\n",
    "axes = fig.add_subplot(1,1,1)\n",
    "plt.title(\"Dynamic Axes\")\n",
    "\n",
    "y1 = [random.randint(-10,10)+(i**1.6)/(random.randint(9,12)) for i in range(0,280,2)]\n",
    "t = range(len(y1))\n",
    "x,y=[], []\n",
    "\n",
    "def animate(i):\n",
    "    x.append(t[i])\n",
    "    y.append((y1[i]))\n",
    "    plt.xlim(i-30,i+3)\n",
    "    axes.set_ylim(y1[i]-100, y1[i]+100)\n",
    "    plt.plot(x,y, scaley=True, scalex=True, color=\"red\")\n",
    "\n",
    "anim = FuncAnimation(fig, animate, interval=100)\n",
    "anim"
   ]
  },
  {
   "cell_type": "code",
   "execution_count": 26,
   "id": "f823522a",
   "metadata": {},
   "outputs": [],
   "source": [
    "plt.plot(dfs[0]['X'],dfs[0][' Y'])\n",
    "plt.show()"
   ]
  },
  {
   "cell_type": "code",
   "execution_count": null,
   "id": "003e33a3",
   "metadata": {},
   "outputs": [],
   "source": []
  }
 ],
 "metadata": {
  "kernelspec": {
   "display_name": "Python 3",
   "language": "python",
   "name": "python3"
  },
  "language_info": {
   "codemirror_mode": {
    "name": "ipython",
    "version": 3
   },
   "file_extension": ".py",
   "mimetype": "text/x-python",
   "name": "python",
   "nbconvert_exporter": "python",
   "pygments_lexer": "ipython3",
   "version": "3.8.8"
  }
 },
 "nbformat": 4,
 "nbformat_minor": 5
}
